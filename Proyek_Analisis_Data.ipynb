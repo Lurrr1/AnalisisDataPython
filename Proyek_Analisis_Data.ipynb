{
  "cells": [
    {
      "cell_type": "markdown",
      "metadata": {
        "id": "H9wADwK78DCz"
      },
      "source": [
        "# Proyek Analisis Data: [Air Quality Dataset]\n",
        "- **Nama:** [Fadhlur rohman]\n",
        "- **Email:** [fadhlurrohman1204@gmail.com]\n",
        "- **ID Dicoding:** [Fadhlur Rohman]"
      ]
    },
    {
      "cell_type": "markdown",
      "metadata": {
        "id": "eE0raob58DC0"
      },
      "source": [
        "## Menentukan Pertanyaan Bisnis"
      ]
    },
    {
      "cell_type": "markdown",
      "metadata": {
        "id": "GmQeQ5YF8DC0"
      },
      "source": [
        "- Pada bulan berapa tingkat polusi udara tertinggi dan terendah dalam 5 tahun terakhir di setiap kota?\n",
        "- Apakah ada tren musiman dalam tingkat polutan(PM2.5) udara di setiap kota?"
      ]
    },
    {
      "cell_type": "markdown",
      "metadata": {
        "id": "H-z4QGlO8DC1"
      },
      "source": [
        "## Import Semua Packages/Library yang Digunakan"
      ]
    },
    {
      "cell_type": "code",
      "source": [
        "pip install streamlit"
      ],
      "metadata": {
        "colab": {
          "base_uri": "https://localhost:8080/"
        },
        "collapsed": true,
        "id": "OwYE-GJAAns-",
        "outputId": "8d597aba-b4c7-4d62-a0ed-6cd4396a9d09"
      },
      "execution_count": 1,
      "outputs": [
        {
          "output_type": "stream",
          "name": "stdout",
          "text": [
            "Collecting streamlit\n",
            "  Downloading streamlit-1.39.0-py2.py3-none-any.whl.metadata (8.5 kB)\n",
            "Requirement already satisfied: altair<6,>=4.0 in /usr/local/lib/python3.10/dist-packages (from streamlit) (4.2.2)\n",
            "Requirement already satisfied: blinker<2,>=1.0.0 in /usr/lib/python3/dist-packages (from streamlit) (1.4)\n",
            "Requirement already satisfied: cachetools<6,>=4.0 in /usr/local/lib/python3.10/dist-packages (from streamlit) (5.5.0)\n",
            "Requirement already satisfied: click<9,>=7.0 in /usr/local/lib/python3.10/dist-packages (from streamlit) (8.1.7)\n",
            "Requirement already satisfied: numpy<3,>=1.20 in /usr/local/lib/python3.10/dist-packages (from streamlit) (1.26.4)\n",
            "Requirement already satisfied: packaging<25,>=20 in /usr/local/lib/python3.10/dist-packages (from streamlit) (24.1)\n",
            "Requirement already satisfied: pandas<3,>=1.4.0 in /usr/local/lib/python3.10/dist-packages (from streamlit) (2.2.2)\n",
            "Requirement already satisfied: pillow<11,>=7.1.0 in /usr/local/lib/python3.10/dist-packages (from streamlit) (10.4.0)\n",
            "Requirement already satisfied: protobuf<6,>=3.20 in /usr/local/lib/python3.10/dist-packages (from streamlit) (3.20.3)\n",
            "Requirement already satisfied: pyarrow>=7.0 in /usr/local/lib/python3.10/dist-packages (from streamlit) (16.1.0)\n",
            "Requirement already satisfied: requests<3,>=2.27 in /usr/local/lib/python3.10/dist-packages (from streamlit) (2.32.3)\n",
            "Requirement already satisfied: rich<14,>=10.14.0 in /usr/local/lib/python3.10/dist-packages (from streamlit) (13.8.1)\n",
            "Requirement already satisfied: tenacity<10,>=8.1.0 in /usr/local/lib/python3.10/dist-packages (from streamlit) (9.0.0)\n",
            "Requirement already satisfied: toml<2,>=0.10.1 in /usr/local/lib/python3.10/dist-packages (from streamlit) (0.10.2)\n",
            "Requirement already satisfied: typing-extensions<5,>=4.3.0 in /usr/local/lib/python3.10/dist-packages (from streamlit) (4.12.2)\n",
            "Collecting gitpython!=3.1.19,<4,>=3.0.7 (from streamlit)\n",
            "  Downloading GitPython-3.1.43-py3-none-any.whl.metadata (13 kB)\n",
            "Collecting pydeck<1,>=0.8.0b4 (from streamlit)\n",
            "  Downloading pydeck-0.9.1-py2.py3-none-any.whl.metadata (4.1 kB)\n",
            "Requirement already satisfied: tornado<7,>=6.0.3 in /usr/local/lib/python3.10/dist-packages (from streamlit) (6.3.3)\n",
            "Collecting watchdog<6,>=2.1.5 (from streamlit)\n",
            "  Downloading watchdog-5.0.3-py3-none-manylinux2014_x86_64.whl.metadata (41 kB)\n",
            "\u001b[2K     \u001b[90m━━━━━━━━━━━━━━━━━━━━━━━━━━━━━━━━━━━━━━━━\u001b[0m \u001b[32m41.9/41.9 kB\u001b[0m \u001b[31m2.0 MB/s\u001b[0m eta \u001b[36m0:00:00\u001b[0m\n",
            "\u001b[?25hRequirement already satisfied: entrypoints in /usr/local/lib/python3.10/dist-packages (from altair<6,>=4.0->streamlit) (0.4)\n",
            "Requirement already satisfied: jinja2 in /usr/local/lib/python3.10/dist-packages (from altair<6,>=4.0->streamlit) (3.1.4)\n",
            "Requirement already satisfied: jsonschema>=3.0 in /usr/local/lib/python3.10/dist-packages (from altair<6,>=4.0->streamlit) (4.23.0)\n",
            "Requirement already satisfied: toolz in /usr/local/lib/python3.10/dist-packages (from altair<6,>=4.0->streamlit) (0.12.1)\n",
            "Collecting gitdb<5,>=4.0.1 (from gitpython!=3.1.19,<4,>=3.0.7->streamlit)\n",
            "  Downloading gitdb-4.0.11-py3-none-any.whl.metadata (1.2 kB)\n",
            "Requirement already satisfied: python-dateutil>=2.8.2 in /usr/local/lib/python3.10/dist-packages (from pandas<3,>=1.4.0->streamlit) (2.8.2)\n",
            "Requirement already satisfied: pytz>=2020.1 in /usr/local/lib/python3.10/dist-packages (from pandas<3,>=1.4.0->streamlit) (2024.2)\n",
            "Requirement already satisfied: tzdata>=2022.7 in /usr/local/lib/python3.10/dist-packages (from pandas<3,>=1.4.0->streamlit) (2024.2)\n",
            "Requirement already satisfied: charset-normalizer<4,>=2 in /usr/local/lib/python3.10/dist-packages (from requests<3,>=2.27->streamlit) (3.3.2)\n",
            "Requirement already satisfied: idna<4,>=2.5 in /usr/local/lib/python3.10/dist-packages (from requests<3,>=2.27->streamlit) (3.10)\n",
            "Requirement already satisfied: urllib3<3,>=1.21.1 in /usr/local/lib/python3.10/dist-packages (from requests<3,>=2.27->streamlit) (2.2.3)\n",
            "Requirement already satisfied: certifi>=2017.4.17 in /usr/local/lib/python3.10/dist-packages (from requests<3,>=2.27->streamlit) (2024.8.30)\n",
            "Requirement already satisfied: markdown-it-py>=2.2.0 in /usr/local/lib/python3.10/dist-packages (from rich<14,>=10.14.0->streamlit) (3.0.0)\n",
            "Requirement already satisfied: pygments<3.0.0,>=2.13.0 in /usr/local/lib/python3.10/dist-packages (from rich<14,>=10.14.0->streamlit) (2.18.0)\n",
            "Collecting smmap<6,>=3.0.1 (from gitdb<5,>=4.0.1->gitpython!=3.1.19,<4,>=3.0.7->streamlit)\n",
            "  Downloading smmap-5.0.1-py3-none-any.whl.metadata (4.3 kB)\n",
            "Requirement already satisfied: MarkupSafe>=2.0 in /usr/local/lib/python3.10/dist-packages (from jinja2->altair<6,>=4.0->streamlit) (2.1.5)\n",
            "Requirement already satisfied: attrs>=22.2.0 in /usr/local/lib/python3.10/dist-packages (from jsonschema>=3.0->altair<6,>=4.0->streamlit) (24.2.0)\n",
            "Requirement already satisfied: jsonschema-specifications>=2023.03.6 in /usr/local/lib/python3.10/dist-packages (from jsonschema>=3.0->altair<6,>=4.0->streamlit) (2023.12.1)\n",
            "Requirement already satisfied: referencing>=0.28.4 in /usr/local/lib/python3.10/dist-packages (from jsonschema>=3.0->altair<6,>=4.0->streamlit) (0.35.1)\n",
            "Requirement already satisfied: rpds-py>=0.7.1 in /usr/local/lib/python3.10/dist-packages (from jsonschema>=3.0->altair<6,>=4.0->streamlit) (0.20.0)\n",
            "Requirement already satisfied: mdurl~=0.1 in /usr/local/lib/python3.10/dist-packages (from markdown-it-py>=2.2.0->rich<14,>=10.14.0->streamlit) (0.1.2)\n",
            "Requirement already satisfied: six>=1.5 in /usr/local/lib/python3.10/dist-packages (from python-dateutil>=2.8.2->pandas<3,>=1.4.0->streamlit) (1.16.0)\n",
            "Downloading streamlit-1.39.0-py2.py3-none-any.whl (8.7 MB)\n",
            "\u001b[2K   \u001b[90m━━━━━━━━━━━━━━━━━━━━━━━━━━━━━━━━━━━━━━━━\u001b[0m \u001b[32m8.7/8.7 MB\u001b[0m \u001b[31m64.3 MB/s\u001b[0m eta \u001b[36m0:00:00\u001b[0m\n",
            "\u001b[?25hDownloading GitPython-3.1.43-py3-none-any.whl (207 kB)\n",
            "\u001b[2K   \u001b[90m━━━━━━━━━━━━━━━━━━━━━━━━━━━━━━━━━━━━━━━━\u001b[0m \u001b[32m207.3/207.3 kB\u001b[0m \u001b[31m16.7 MB/s\u001b[0m eta \u001b[36m0:00:00\u001b[0m\n",
            "\u001b[?25hDownloading pydeck-0.9.1-py2.py3-none-any.whl (6.9 MB)\n",
            "\u001b[2K   \u001b[90m━━━━━━━━━━━━━━━━━━━━━━━━━━━━━━━━━━━━━━━━\u001b[0m \u001b[32m6.9/6.9 MB\u001b[0m \u001b[31m86.8 MB/s\u001b[0m eta \u001b[36m0:00:00\u001b[0m\n",
            "\u001b[?25hDownloading watchdog-5.0.3-py3-none-manylinux2014_x86_64.whl (79 kB)\n",
            "\u001b[2K   \u001b[90m━━━━━━━━━━━━━━━━━━━━━━━━━━━━━━━━━━━━━━━━\u001b[0m \u001b[32m79.3/79.3 kB\u001b[0m \u001b[31m6.1 MB/s\u001b[0m eta \u001b[36m0:00:00\u001b[0m\n",
            "\u001b[?25hDownloading gitdb-4.0.11-py3-none-any.whl (62 kB)\n",
            "\u001b[2K   \u001b[90m━━━━━━━━━━━━━━━━━━━━━━━━━━━━━━━━━━━━━━━━\u001b[0m \u001b[32m62.7/62.7 kB\u001b[0m \u001b[31m5.2 MB/s\u001b[0m eta \u001b[36m0:00:00\u001b[0m\n",
            "\u001b[?25hDownloading smmap-5.0.1-py3-none-any.whl (24 kB)\n",
            "Installing collected packages: watchdog, smmap, pydeck, gitdb, gitpython, streamlit\n",
            "Successfully installed gitdb-4.0.11 gitpython-3.1.43 pydeck-0.9.1 smmap-5.0.1 streamlit-1.39.0 watchdog-5.0.3\n"
          ]
        }
      ]
    },
    {
      "cell_type": "code",
      "execution_count": 2,
      "metadata": {
        "id": "FVYwaObI8DC1"
      },
      "outputs": [],
      "source": [
        "import pandas as pd\n",
        "import matplotlib.pyplot as plt\n",
        "import seaborn as sns\n",
        "import streamlit as st\n",
        "from babel.numbers import format_currency\n",
        "sns.set(style='dark')"
      ]
    },
    {
      "cell_type": "markdown",
      "metadata": {
        "id": "h_Sh51Xy8DC1"
      },
      "source": [
        "## Data Wrangling"
      ]
    },
    {
      "cell_type": "markdown",
      "metadata": {
        "id": "sXU2GBYu8DC1"
      },
      "source": [
        "### Gathering Data"
      ]
    },
    {
      "cell_type": "markdown",
      "source": [
        "#### membaca semua data csv"
      ],
      "metadata": {
        "id": "_yglAVI2Q-5I"
      }
    },
    {
      "cell_type": "code",
      "execution_count": 3,
      "metadata": {
        "id": "zjCBk1BI8DC1"
      },
      "outputs": [],
      "source": [
        "df_Shunyi = pd.read_csv(\"PRSA_Data_Shunyi_20130301-20170228.csv\", delimiter=\",\")"
      ]
    },
    {
      "cell_type": "code",
      "source": [
        "df_Tiantan = pd.read_csv(\"PRSA_Data_Tiantan_20130301-20170228.csv\", delimiter=\",\")"
      ],
      "metadata": {
        "id": "VTvkHP2FQ6zF"
      },
      "execution_count": 4,
      "outputs": []
    },
    {
      "cell_type": "code",
      "source": [
        "df_Wanliu= pd.read_csv(\"PRSA_Data_Wanliu_20130301-20170228.csv\", delimiter=\",\")"
      ],
      "metadata": {
        "id": "qUdC646zQ4sW"
      },
      "execution_count": 5,
      "outputs": []
    },
    {
      "cell_type": "markdown",
      "source": [
        "**Insight:**\n",
        "- How to read data csv"
      ],
      "metadata": {
        "id": "MMi6xGaDkbCi"
      }
    },
    {
      "cell_type": "markdown",
      "metadata": {
        "id": "FHSiqaZp8DC1"
      },
      "source": [
        "### Assessing Data"
      ]
    },
    {
      "cell_type": "markdown",
      "source": [
        "#### Membaca info dataframe"
      ],
      "metadata": {
        "id": "zMOnpYV7RrVL"
      }
    },
    {
      "cell_type": "code",
      "source": [
        "df_Shunyi.info()"
      ],
      "metadata": {
        "collapsed": true,
        "id": "_O38Lk2NIC69",
        "outputId": "4c85717c-20b2-4072-fb71-1b175e6fccfb",
        "colab": {
          "base_uri": "https://localhost:8080/"
        }
      },
      "execution_count": 6,
      "outputs": [
        {
          "output_type": "stream",
          "name": "stdout",
          "text": [
            "<class 'pandas.core.frame.DataFrame'>\n",
            "RangeIndex: 35064 entries, 0 to 35063\n",
            "Data columns (total 18 columns):\n",
            " #   Column   Non-Null Count  Dtype  \n",
            "---  ------   --------------  -----  \n",
            " 0   No       35064 non-null  int64  \n",
            " 1   year     35064 non-null  int64  \n",
            " 2   month    35064 non-null  int64  \n",
            " 3   day      35064 non-null  int64  \n",
            " 4   hour     35064 non-null  int64  \n",
            " 5   PM2.5    34151 non-null  float64\n",
            " 6   PM10     34516 non-null  float64\n",
            " 7   SO2      33768 non-null  float64\n",
            " 8   NO2      33699 non-null  float64\n",
            " 9   CO       32886 non-null  float64\n",
            " 10  O3       33575 non-null  float64\n",
            " 11  TEMP     35013 non-null  float64\n",
            " 12  PRES     35013 non-null  float64\n",
            " 13  DEWP     35010 non-null  float64\n",
            " 14  RAIN     35013 non-null  float64\n",
            " 15  wd       34581 non-null  object \n",
            " 16  WSPM     35020 non-null  float64\n",
            " 17  station  35064 non-null  object \n",
            "dtypes: float64(11), int64(5), object(2)\n",
            "memory usage: 4.8+ MB\n"
          ]
        }
      ]
    },
    {
      "cell_type": "code",
      "source": [
        "df_Tiantan.info()\n"
      ],
      "metadata": {
        "colab": {
          "base_uri": "https://localhost:8080/"
        },
        "id": "Ug6VjDrdRYk6",
        "outputId": "c5c67059-7ce3-4209-9699-df30ed0ab553"
      },
      "execution_count": 7,
      "outputs": [
        {
          "output_type": "stream",
          "name": "stdout",
          "text": [
            "<class 'pandas.core.frame.DataFrame'>\n",
            "RangeIndex: 35064 entries, 0 to 35063\n",
            "Data columns (total 18 columns):\n",
            " #   Column   Non-Null Count  Dtype  \n",
            "---  ------   --------------  -----  \n",
            " 0   No       35064 non-null  int64  \n",
            " 1   year     35064 non-null  int64  \n",
            " 2   month    35064 non-null  int64  \n",
            " 3   day      35064 non-null  int64  \n",
            " 4   hour     35064 non-null  int64  \n",
            " 5   PM2.5    34387 non-null  float64\n",
            " 6   PM10     34467 non-null  float64\n",
            " 7   SO2      33946 non-null  float64\n",
            " 8   NO2      34320 non-null  float64\n",
            " 9   CO       33938 non-null  float64\n",
            " 10  O3       34221 non-null  float64\n",
            " 11  TEMP     35044 non-null  float64\n",
            " 12  PRES     35044 non-null  float64\n",
            " 13  DEWP     35044 non-null  float64\n",
            " 14  RAIN     35044 non-null  float64\n",
            " 15  wd       34986 non-null  object \n",
            " 16  WSPM     35050 non-null  float64\n",
            " 17  station  35064 non-null  object \n",
            "dtypes: float64(11), int64(5), object(2)\n",
            "memory usage: 4.8+ MB\n"
          ]
        }
      ]
    },
    {
      "cell_type": "code",
      "source": [
        "df_Wanliu.info()"
      ],
      "metadata": {
        "colab": {
          "base_uri": "https://localhost:8080/"
        },
        "id": "sldR6DvwRaEw",
        "outputId": "896f05d0-d570-4f83-f3c0-3d2c43956c1e"
      },
      "execution_count": 8,
      "outputs": [
        {
          "output_type": "stream",
          "name": "stdout",
          "text": [
            "<class 'pandas.core.frame.DataFrame'>\n",
            "RangeIndex: 35064 entries, 0 to 35063\n",
            "Data columns (total 18 columns):\n",
            " #   Column   Non-Null Count  Dtype  \n",
            "---  ------   --------------  -----  \n",
            " 0   No       35064 non-null  int64  \n",
            " 1   year     35064 non-null  int64  \n",
            " 2   month    35064 non-null  int64  \n",
            " 3   day      35064 non-null  int64  \n",
            " 4   hour     35064 non-null  int64  \n",
            " 5   PM2.5    34682 non-null  float64\n",
            " 6   PM10     34780 non-null  float64\n",
            " 7   SO2      34489 non-null  float64\n",
            " 8   NO2      33994 non-null  float64\n",
            " 9   CO       33252 non-null  float64\n",
            " 10  O3       32957 non-null  float64\n",
            " 11  TEMP     35044 non-null  float64\n",
            " 12  PRES     35044 non-null  float64\n",
            " 13  DEWP     35044 non-null  float64\n",
            " 14  RAIN     35044 non-null  float64\n",
            " 15  wd       34941 non-null  object \n",
            " 16  WSPM     35050 non-null  float64\n",
            " 17  station  35064 non-null  object \n",
            "dtypes: float64(11), int64(5), object(2)\n",
            "memory usage: 4.8+ MB\n"
          ]
        }
      ]
    },
    {
      "cell_type": "markdown",
      "source": [
        "Melihat jumlah duplikasi pada dataframe Shunyi"
      ],
      "metadata": {
        "id": "oCkIhneASZBj"
      }
    },
    {
      "cell_type": "code",
      "source": [
        "print(\"Jumlah duplikasi: \", df_Shunyi.duplicated().sum())"
      ],
      "metadata": {
        "collapsed": true,
        "id": "IWuCINzsIVXz",
        "outputId": "28d94e18-4ea1-4b81-8170-5b341bce735c",
        "colab": {
          "base_uri": "https://localhost:8080/"
        }
      },
      "execution_count": 9,
      "outputs": [
        {
          "output_type": "stream",
          "name": "stdout",
          "text": [
            "Jumlah duplikasi:  0\n"
          ]
        }
      ]
    },
    {
      "cell_type": "markdown",
      "source": [
        "Melihat jumlah duplikasi pada dataframe Tiantan"
      ],
      "metadata": {
        "id": "areVfQu9Tbex"
      }
    },
    {
      "cell_type": "code",
      "source": [
        "print(\"Jumlah duplikasi: \", df_Tiantan.duplicated().sum())"
      ],
      "metadata": {
        "colab": {
          "base_uri": "https://localhost:8080/"
        },
        "id": "xRVGv0p0Sng3",
        "outputId": "3a1ee7e9-8a42-4492-a6c1-d0a8212dcc90"
      },
      "execution_count": 10,
      "outputs": [
        {
          "output_type": "stream",
          "name": "stdout",
          "text": [
            "Jumlah duplikasi:  0\n"
          ]
        }
      ]
    },
    {
      "cell_type": "markdown",
      "source": [
        "Melihat jumlah duplikasi pada dataframe Wanliu"
      ],
      "metadata": {
        "id": "YyoUR3BETdy3"
      }
    },
    {
      "cell_type": "code",
      "source": [
        "print(\"Jumlah duplikasi: \", df_Wanliu.duplicated().sum())"
      ],
      "metadata": {
        "colab": {
          "base_uri": "https://localhost:8080/"
        },
        "id": "OFAYJPprSrUz",
        "outputId": "85ebb5ba-967e-4bf0-9071-a0abcf7ec398"
      },
      "execution_count": 11,
      "outputs": [
        {
          "output_type": "stream",
          "name": "stdout",
          "text": [
            "Jumlah duplikasi:  0\n"
          ]
        }
      ]
    },
    {
      "cell_type": "markdown",
      "source": [
        "Melihat jumlah nilai NaN pada dataframe Shunyi"
      ],
      "metadata": {
        "id": "nBMK6rKPTQIs"
      }
    },
    {
      "cell_type": "code",
      "source": [
        "df_Shunyi.isna().sum()"
      ],
      "metadata": {
        "collapsed": true,
        "id": "ApZlLXPhIer2",
        "outputId": "237f707e-4ebe-4ba8-b806-666aa8d6a62e",
        "colab": {
          "base_uri": "https://localhost:8080/",
          "height": 648
        }
      },
      "execution_count": 12,
      "outputs": [
        {
          "output_type": "execute_result",
          "data": {
            "text/plain": [
              "No            0\n",
              "year          0\n",
              "month         0\n",
              "day           0\n",
              "hour          0\n",
              "PM2.5       913\n",
              "PM10        548\n",
              "SO2        1296\n",
              "NO2        1365\n",
              "CO         2178\n",
              "O3         1489\n",
              "TEMP         51\n",
              "PRES         51\n",
              "DEWP         54\n",
              "RAIN         51\n",
              "wd          483\n",
              "WSPM         44\n",
              "station       0\n",
              "dtype: int64"
            ],
            "text/html": [
              "<div>\n",
              "<style scoped>\n",
              "    .dataframe tbody tr th:only-of-type {\n",
              "        vertical-align: middle;\n",
              "    }\n",
              "\n",
              "    .dataframe tbody tr th {\n",
              "        vertical-align: top;\n",
              "    }\n",
              "\n",
              "    .dataframe thead th {\n",
              "        text-align: right;\n",
              "    }\n",
              "</style>\n",
              "<table border=\"1\" class=\"dataframe\">\n",
              "  <thead>\n",
              "    <tr style=\"text-align: right;\">\n",
              "      <th></th>\n",
              "      <th>0</th>\n",
              "    </tr>\n",
              "  </thead>\n",
              "  <tbody>\n",
              "    <tr>\n",
              "      <th>No</th>\n",
              "      <td>0</td>\n",
              "    </tr>\n",
              "    <tr>\n",
              "      <th>year</th>\n",
              "      <td>0</td>\n",
              "    </tr>\n",
              "    <tr>\n",
              "      <th>month</th>\n",
              "      <td>0</td>\n",
              "    </tr>\n",
              "    <tr>\n",
              "      <th>day</th>\n",
              "      <td>0</td>\n",
              "    </tr>\n",
              "    <tr>\n",
              "      <th>hour</th>\n",
              "      <td>0</td>\n",
              "    </tr>\n",
              "    <tr>\n",
              "      <th>PM2.5</th>\n",
              "      <td>913</td>\n",
              "    </tr>\n",
              "    <tr>\n",
              "      <th>PM10</th>\n",
              "      <td>548</td>\n",
              "    </tr>\n",
              "    <tr>\n",
              "      <th>SO2</th>\n",
              "      <td>1296</td>\n",
              "    </tr>\n",
              "    <tr>\n",
              "      <th>NO2</th>\n",
              "      <td>1365</td>\n",
              "    </tr>\n",
              "    <tr>\n",
              "      <th>CO</th>\n",
              "      <td>2178</td>\n",
              "    </tr>\n",
              "    <tr>\n",
              "      <th>O3</th>\n",
              "      <td>1489</td>\n",
              "    </tr>\n",
              "    <tr>\n",
              "      <th>TEMP</th>\n",
              "      <td>51</td>\n",
              "    </tr>\n",
              "    <tr>\n",
              "      <th>PRES</th>\n",
              "      <td>51</td>\n",
              "    </tr>\n",
              "    <tr>\n",
              "      <th>DEWP</th>\n",
              "      <td>54</td>\n",
              "    </tr>\n",
              "    <tr>\n",
              "      <th>RAIN</th>\n",
              "      <td>51</td>\n",
              "    </tr>\n",
              "    <tr>\n",
              "      <th>wd</th>\n",
              "      <td>483</td>\n",
              "    </tr>\n",
              "    <tr>\n",
              "      <th>WSPM</th>\n",
              "      <td>44</td>\n",
              "    </tr>\n",
              "    <tr>\n",
              "      <th>station</th>\n",
              "      <td>0</td>\n",
              "    </tr>\n",
              "  </tbody>\n",
              "</table>\n",
              "</div><br><label><b>dtype:</b> int64</label>"
            ]
          },
          "metadata": {},
          "execution_count": 12
        }
      ]
    },
    {
      "cell_type": "markdown",
      "source": [
        "Melihat jumlah nilai NaN pada dataframe Tiantan"
      ],
      "metadata": {
        "id": "bK1eSS2eTm9g"
      }
    },
    {
      "cell_type": "code",
      "source": [
        "df_Tiantan.isna().sum()"
      ],
      "metadata": {
        "collapsed": true,
        "id": "AB7qBbaHImo8",
        "outputId": "cbe2af93-e082-4d55-d43e-3732a0d741dc",
        "colab": {
          "base_uri": "https://localhost:8080/",
          "height": 648
        }
      },
      "execution_count": 13,
      "outputs": [
        {
          "output_type": "execute_result",
          "data": {
            "text/plain": [
              "No            0\n",
              "year          0\n",
              "month         0\n",
              "day           0\n",
              "hour          0\n",
              "PM2.5       677\n",
              "PM10        597\n",
              "SO2        1118\n",
              "NO2         744\n",
              "CO         1126\n",
              "O3          843\n",
              "TEMP         20\n",
              "PRES         20\n",
              "DEWP         20\n",
              "RAIN         20\n",
              "wd           78\n",
              "WSPM         14\n",
              "station       0\n",
              "dtype: int64"
            ],
            "text/html": [
              "<div>\n",
              "<style scoped>\n",
              "    .dataframe tbody tr th:only-of-type {\n",
              "        vertical-align: middle;\n",
              "    }\n",
              "\n",
              "    .dataframe tbody tr th {\n",
              "        vertical-align: top;\n",
              "    }\n",
              "\n",
              "    .dataframe thead th {\n",
              "        text-align: right;\n",
              "    }\n",
              "</style>\n",
              "<table border=\"1\" class=\"dataframe\">\n",
              "  <thead>\n",
              "    <tr style=\"text-align: right;\">\n",
              "      <th></th>\n",
              "      <th>0</th>\n",
              "    </tr>\n",
              "  </thead>\n",
              "  <tbody>\n",
              "    <tr>\n",
              "      <th>No</th>\n",
              "      <td>0</td>\n",
              "    </tr>\n",
              "    <tr>\n",
              "      <th>year</th>\n",
              "      <td>0</td>\n",
              "    </tr>\n",
              "    <tr>\n",
              "      <th>month</th>\n",
              "      <td>0</td>\n",
              "    </tr>\n",
              "    <tr>\n",
              "      <th>day</th>\n",
              "      <td>0</td>\n",
              "    </tr>\n",
              "    <tr>\n",
              "      <th>hour</th>\n",
              "      <td>0</td>\n",
              "    </tr>\n",
              "    <tr>\n",
              "      <th>PM2.5</th>\n",
              "      <td>677</td>\n",
              "    </tr>\n",
              "    <tr>\n",
              "      <th>PM10</th>\n",
              "      <td>597</td>\n",
              "    </tr>\n",
              "    <tr>\n",
              "      <th>SO2</th>\n",
              "      <td>1118</td>\n",
              "    </tr>\n",
              "    <tr>\n",
              "      <th>NO2</th>\n",
              "      <td>744</td>\n",
              "    </tr>\n",
              "    <tr>\n",
              "      <th>CO</th>\n",
              "      <td>1126</td>\n",
              "    </tr>\n",
              "    <tr>\n",
              "      <th>O3</th>\n",
              "      <td>843</td>\n",
              "    </tr>\n",
              "    <tr>\n",
              "      <th>TEMP</th>\n",
              "      <td>20</td>\n",
              "    </tr>\n",
              "    <tr>\n",
              "      <th>PRES</th>\n",
              "      <td>20</td>\n",
              "    </tr>\n",
              "    <tr>\n",
              "      <th>DEWP</th>\n",
              "      <td>20</td>\n",
              "    </tr>\n",
              "    <tr>\n",
              "      <th>RAIN</th>\n",
              "      <td>20</td>\n",
              "    </tr>\n",
              "    <tr>\n",
              "      <th>wd</th>\n",
              "      <td>78</td>\n",
              "    </tr>\n",
              "    <tr>\n",
              "      <th>WSPM</th>\n",
              "      <td>14</td>\n",
              "    </tr>\n",
              "    <tr>\n",
              "      <th>station</th>\n",
              "      <td>0</td>\n",
              "    </tr>\n",
              "  </tbody>\n",
              "</table>\n",
              "</div><br><label><b>dtype:</b> int64</label>"
            ]
          },
          "metadata": {},
          "execution_count": 13
        }
      ]
    },
    {
      "cell_type": "markdown",
      "source": [
        "Melihat jumlah nilai NaN pada dataframe Wanliu"
      ],
      "metadata": {
        "id": "VSVB5wwrTpTT"
      }
    },
    {
      "cell_type": "code",
      "source": [
        "df_Wanliu.isna().sum()"
      ],
      "metadata": {
        "collapsed": true,
        "id": "Mpf52e2aIoP7",
        "outputId": "7f6dff5f-7c57-4a31-9fd3-25b877b20ec9",
        "colab": {
          "base_uri": "https://localhost:8080/",
          "height": 648
        }
      },
      "execution_count": 15,
      "outputs": [
        {
          "output_type": "execute_result",
          "data": {
            "text/plain": [
              "No            0\n",
              "year          0\n",
              "month         0\n",
              "day           0\n",
              "hour          0\n",
              "PM2.5       382\n",
              "PM10        284\n",
              "SO2         575\n",
              "NO2        1070\n",
              "CO         1812\n",
              "O3         2107\n",
              "TEMP         20\n",
              "PRES         20\n",
              "DEWP         20\n",
              "RAIN         20\n",
              "wd          123\n",
              "WSPM         14\n",
              "station       0\n",
              "dtype: int64"
            ],
            "text/html": [
              "<div>\n",
              "<style scoped>\n",
              "    .dataframe tbody tr th:only-of-type {\n",
              "        vertical-align: middle;\n",
              "    }\n",
              "\n",
              "    .dataframe tbody tr th {\n",
              "        vertical-align: top;\n",
              "    }\n",
              "\n",
              "    .dataframe thead th {\n",
              "        text-align: right;\n",
              "    }\n",
              "</style>\n",
              "<table border=\"1\" class=\"dataframe\">\n",
              "  <thead>\n",
              "    <tr style=\"text-align: right;\">\n",
              "      <th></th>\n",
              "      <th>0</th>\n",
              "    </tr>\n",
              "  </thead>\n",
              "  <tbody>\n",
              "    <tr>\n",
              "      <th>No</th>\n",
              "      <td>0</td>\n",
              "    </tr>\n",
              "    <tr>\n",
              "      <th>year</th>\n",
              "      <td>0</td>\n",
              "    </tr>\n",
              "    <tr>\n",
              "      <th>month</th>\n",
              "      <td>0</td>\n",
              "    </tr>\n",
              "    <tr>\n",
              "      <th>day</th>\n",
              "      <td>0</td>\n",
              "    </tr>\n",
              "    <tr>\n",
              "      <th>hour</th>\n",
              "      <td>0</td>\n",
              "    </tr>\n",
              "    <tr>\n",
              "      <th>PM2.5</th>\n",
              "      <td>382</td>\n",
              "    </tr>\n",
              "    <tr>\n",
              "      <th>PM10</th>\n",
              "      <td>284</td>\n",
              "    </tr>\n",
              "    <tr>\n",
              "      <th>SO2</th>\n",
              "      <td>575</td>\n",
              "    </tr>\n",
              "    <tr>\n",
              "      <th>NO2</th>\n",
              "      <td>1070</td>\n",
              "    </tr>\n",
              "    <tr>\n",
              "      <th>CO</th>\n",
              "      <td>1812</td>\n",
              "    </tr>\n",
              "    <tr>\n",
              "      <th>O3</th>\n",
              "      <td>2107</td>\n",
              "    </tr>\n",
              "    <tr>\n",
              "      <th>TEMP</th>\n",
              "      <td>20</td>\n",
              "    </tr>\n",
              "    <tr>\n",
              "      <th>PRES</th>\n",
              "      <td>20</td>\n",
              "    </tr>\n",
              "    <tr>\n",
              "      <th>DEWP</th>\n",
              "      <td>20</td>\n",
              "    </tr>\n",
              "    <tr>\n",
              "      <th>RAIN</th>\n",
              "      <td>20</td>\n",
              "    </tr>\n",
              "    <tr>\n",
              "      <th>wd</th>\n",
              "      <td>123</td>\n",
              "    </tr>\n",
              "    <tr>\n",
              "      <th>WSPM</th>\n",
              "      <td>14</td>\n",
              "    </tr>\n",
              "    <tr>\n",
              "      <th>station</th>\n",
              "      <td>0</td>\n",
              "    </tr>\n",
              "  </tbody>\n",
              "</table>\n",
              "</div><br><label><b>dtype:</b> int64</label>"
            ]
          },
          "metadata": {},
          "execution_count": 15
        }
      ]
    },
    {
      "cell_type": "markdown",
      "source": [
        "Melihat deskripsi dataframe Shunyi"
      ],
      "metadata": {
        "id": "12FeefVDTufs"
      }
    },
    {
      "cell_type": "code",
      "source": [
        "print(df_Shunyi.describe(include=\"all\"))"
      ],
      "metadata": {
        "collapsed": true,
        "id": "M_pPK_79I0bg",
        "outputId": "c5aaaafa-3511-4b61-e810-bd5a74f2b53d",
        "colab": {
          "base_uri": "https://localhost:8080/"
        }
      },
      "execution_count": null,
      "outputs": [
        {
          "output_type": "stream",
          "name": "stdout",
          "text": [
            "                  No          year         month           day          hour  \\\n",
            "count   35064.000000  35064.000000  35064.000000  35064.000000  35064.000000   \n",
            "unique           NaN           NaN           NaN           NaN           NaN   \n",
            "top              NaN           NaN           NaN           NaN           NaN   \n",
            "freq             NaN           NaN           NaN           NaN           NaN   \n",
            "mean    17532.500000   2014.662560      6.522930     15.729637     11.500000   \n",
            "std     10122.249256      1.177213      3.448752      8.800218      6.922285   \n",
            "min         1.000000   2013.000000      1.000000      1.000000      0.000000   \n",
            "25%      8766.750000   2014.000000      4.000000      8.000000      5.750000   \n",
            "50%     17532.500000   2015.000000      7.000000     16.000000     11.500000   \n",
            "75%     26298.250000   2016.000000     10.000000     23.000000     17.250000   \n",
            "max     35064.000000   2017.000000     12.000000     31.000000     23.000000   \n",
            "\n",
            "               PM2.5          PM10           SO2           NO2            CO  \\\n",
            "count   34151.000000  34516.000000  33768.000000  33699.000000  32886.000000   \n",
            "unique           NaN           NaN           NaN           NaN           NaN   \n",
            "top              NaN           NaN           NaN           NaN           NaN   \n",
            "freq             NaN           NaN           NaN           NaN           NaN   \n",
            "mean       79.491602     98.737026     13.572039     43.908865   1187.063979   \n",
            "std        81.231739     89.143718     19.572068     30.996828   1156.374102   \n",
            "min         2.000000      2.000000      0.285600      2.000000    100.000000   \n",
            "25%        19.000000     31.000000      2.000000     19.000000    400.000000   \n",
            "50%        55.000000     77.000000      5.000000     37.000000    800.000000   \n",
            "75%       112.000000    138.000000     17.000000     62.000000   1500.000000   \n",
            "max       941.000000    999.000000    239.000000    258.000000  10000.000000   \n",
            "\n",
            "                  O3          TEMP          PRES          DEWP          RAIN  \\\n",
            "count   33575.000000  35013.000000  35013.000000  35010.000000  35013.000000   \n",
            "unique           NaN           NaN           NaN           NaN           NaN   \n",
            "top              NaN           NaN           NaN           NaN           NaN   \n",
            "freq             NaN           NaN           NaN           NaN           NaN   \n",
            "mean       55.201321     13.387969   1013.061938      2.465036      0.061094   \n",
            "std        54.873726     11.483588     10.177339     13.726622      0.761668   \n",
            "min         0.214200    -16.800000    988.000000    -36.000000      0.000000   \n",
            "25%        10.000000      3.000000   1004.700000     -8.800000      0.000000   \n",
            "50%        43.000000     14.400000   1012.700000      3.100000      0.000000   \n",
            "75%        77.000000     23.200000   1021.000000     15.100000      0.000000   \n",
            "max       351.716400     40.600000   1042.800000     27.500000     37.300000   \n",
            "\n",
            "           wd          WSPM station  \n",
            "count   34581  35020.000000   35064  \n",
            "unique     16           NaN       1  \n",
            "top       NNE           NaN  Shunyi  \n",
            "freq     4540           NaN   35064  \n",
            "mean      NaN      1.807533     NaN  \n",
            "std       NaN      1.287817     NaN  \n",
            "min       NaN      0.000000     NaN  \n",
            "25%       NaN      1.000000     NaN  \n",
            "50%       NaN      1.500000     NaN  \n",
            "75%       NaN      2.300000     NaN  \n",
            "max       NaN     12.800000     NaN  \n"
          ]
        }
      ]
    },
    {
      "cell_type": "markdown",
      "source": [
        "Melihat deskripsi dataframe Tiantan"
      ],
      "metadata": {
        "id": "347jPaDvT4Y7"
      }
    },
    {
      "cell_type": "code",
      "source": [
        "print(df_Tiantan.describe(include=\"all\"))"
      ],
      "metadata": {
        "colab": {
          "base_uri": "https://localhost:8080/"
        },
        "id": "UlDGSN32S5Lf",
        "outputId": "02d6a314-4166-4b58-8524-7901e3a972b7"
      },
      "execution_count": null,
      "outputs": [
        {
          "output_type": "stream",
          "name": "stdout",
          "text": [
            "                  No          year         month           day          hour  \\\n",
            "count   35064.000000  35064.000000  35064.000000  35064.000000  35064.000000   \n",
            "unique           NaN           NaN           NaN           NaN           NaN   \n",
            "top              NaN           NaN           NaN           NaN           NaN   \n",
            "freq             NaN           NaN           NaN           NaN           NaN   \n",
            "mean    17532.500000   2014.662560      6.522930     15.729637     11.500000   \n",
            "std     10122.249256      1.177213      3.448752      8.800218      6.922285   \n",
            "min         1.000000   2013.000000      1.000000      1.000000      0.000000   \n",
            "25%      8766.750000   2014.000000      4.000000      8.000000      5.750000   \n",
            "50%     17532.500000   2015.000000      7.000000     16.000000     11.500000   \n",
            "75%     26298.250000   2016.000000     10.000000     23.000000     17.250000   \n",
            "max     35064.000000   2017.000000     12.000000     31.000000     23.000000   \n",
            "\n",
            "               PM2.5          PM10           SO2           NO2            CO  \\\n",
            "count   34387.000000  34467.000000  33946.000000  34320.000000  33938.000000   \n",
            "unique           NaN           NaN           NaN           NaN           NaN   \n",
            "top              NaN           NaN           NaN           NaN           NaN   \n",
            "freq             NaN           NaN           NaN           NaN           NaN   \n",
            "mean       82.164911    106.363672     14.367615     53.162646   1298.303318   \n",
            "std        80.921384     89.700157     20.144631     31.946224   1170.593297   \n",
            "min         3.000000      2.000000      0.571200      2.000000    100.000000   \n",
            "25%        22.000000     41.000000      3.000000     28.000000    500.000000   \n",
            "50%        59.000000     85.000000      7.000000     47.000000    900.000000   \n",
            "75%       113.000000    144.000000     17.000000     71.000000   1600.000000   \n",
            "max       821.000000    988.000000    273.000000    241.000000  10000.000000   \n",
            "\n",
            "                  O3          TEMP          PRES          DEWP          RAIN  \\\n",
            "count   34221.000000  35044.000000  35044.000000  35044.000000  35044.000000   \n",
            "unique           NaN           NaN           NaN           NaN           NaN   \n",
            "top              NaN           NaN           NaN           NaN           NaN   \n",
            "freq             NaN           NaN           NaN           NaN           NaN   \n",
            "mean       55.984297     13.671490   1012.547419      2.447535      0.064020   \n",
            "std        59.081528     11.458418     10.266059     13.810696      0.786282   \n",
            "min         0.428400    -16.800000    987.100000    -35.300000      0.000000   \n",
            "25%         8.000000      3.100000   1004.000000     -8.800000      0.000000   \n",
            "50%        40.000000     14.600000   1012.200000      3.000000      0.000000   \n",
            "75%        81.000000     23.500000   1020.900000     15.000000      0.000000   \n",
            "max       674.000000     41.100000   1042.000000     28.800000     46.400000   \n",
            "\n",
            "           wd          WSPM  station  \n",
            "count   34986  35050.000000    35064  \n",
            "unique     16           NaN        1  \n",
            "top       ENE           NaN  Tiantan  \n",
            "freq     3861           NaN    35064  \n",
            "mean      NaN      1.860785      NaN  \n",
            "std       NaN      1.280368      NaN  \n",
            "min       NaN      0.000000      NaN  \n",
            "25%       NaN      1.000000      NaN  \n",
            "50%       NaN      1.500000      NaN  \n",
            "75%       NaN      2.400000      NaN  \n",
            "max       NaN     10.500000      NaN  \n"
          ]
        }
      ]
    },
    {
      "cell_type": "markdown",
      "source": [
        "Melihat deskripsi dataframe Wanliu"
      ],
      "metadata": {
        "id": "rQFw-mG3T77d"
      }
    },
    {
      "cell_type": "code",
      "source": [
        "print(df_Wanliu.describe(include=\"all\"))"
      ],
      "metadata": {
        "colab": {
          "base_uri": "https://localhost:8080/"
        },
        "id": "wY4aAdTqS6qA",
        "outputId": "53c7ce9f-63a1-4b38-eb45-282c923a43d5"
      },
      "execution_count": null,
      "outputs": [
        {
          "output_type": "stream",
          "name": "stdout",
          "text": [
            "                  No          year         month           day          hour  \\\n",
            "count   35064.000000  35064.000000  35064.000000  35064.000000  35064.000000   \n",
            "unique           NaN           NaN           NaN           NaN           NaN   \n",
            "top              NaN           NaN           NaN           NaN           NaN   \n",
            "freq             NaN           NaN           NaN           NaN           NaN   \n",
            "mean    17532.500000   2014.662560      6.522930     15.729637     11.500000   \n",
            "std     10122.249256      1.177213      3.448752      8.800218      6.922285   \n",
            "min         1.000000   2013.000000      1.000000      1.000000      0.000000   \n",
            "25%      8766.750000   2014.000000      4.000000      8.000000      5.750000   \n",
            "50%     17532.500000   2015.000000      7.000000     16.000000     11.500000   \n",
            "75%     26298.250000   2016.000000     10.000000     23.000000     17.250000   \n",
            "max     35064.000000   2017.000000     12.000000     31.000000     23.000000   \n",
            "\n",
            "               PM2.5          PM10           SO2           NO2            CO  \\\n",
            "count   34682.000000  34780.000000  34489.000000  33994.000000  33252.000000   \n",
            "unique           NaN           NaN           NaN           NaN           NaN   \n",
            "top              NaN           NaN           NaN           NaN           NaN   \n",
            "freq             NaN           NaN           NaN           NaN           NaN   \n",
            "mean       83.374716    110.464618     18.376481     65.258789   1319.353513   \n",
            "std        81.905568     92.795065     22.609648     37.996088   1268.114331   \n",
            "min         2.000000      2.000000      0.285600      1.642400    100.000000   \n",
            "25%        23.000000     40.000000      4.000000     36.000000    500.000000   \n",
            "50%        59.000000     88.000000     10.000000     60.000000    900.000000   \n",
            "75%       116.000000    153.000000     23.000000     88.000000   1600.000000   \n",
            "max       957.000000    951.000000    282.000000    264.000000  10000.000000   \n",
            "\n",
            "                  O3          TEMP          PRES          DEWP          RAIN  \\\n",
            "count   32957.000000  35044.000000  35044.000000  35044.000000  35044.000000   \n",
            "unique           NaN           NaN           NaN           NaN           NaN   \n",
            "top              NaN           NaN           NaN           NaN           NaN   \n",
            "freq             NaN           NaN           NaN           NaN           NaN   \n",
            "mean       48.873614     13.428865   1011.097536      3.266588      0.068263   \n",
            "std        55.111740     11.346931     10.355247     13.678060      0.896726   \n",
            "min         0.214200    -15.800000    985.900000    -34.900000      0.000000   \n",
            "25%         4.000000      3.200000   1002.500000     -8.100000      0.000000   \n",
            "50%        32.000000     14.300000   1010.800000      4.000000      0.000000   \n",
            "75%        73.000000     22.900000   1019.400000     15.800000      0.000000   \n",
            "max       364.000000     40.500000   1040.300000     28.500000     72.500000   \n",
            "\n",
            "           wd          WSPM station  \n",
            "count   34941  35050.000000   35064  \n",
            "unique     16           NaN       1  \n",
            "top        NE           NaN  Wanliu  \n",
            "freq     6703           NaN   35064  \n",
            "mean      NaN      1.501215     NaN  \n",
            "std       NaN      1.104472     NaN  \n",
            "min       NaN      0.000000     NaN  \n",
            "25%       NaN      0.800000     NaN  \n",
            "50%       NaN      1.200000     NaN  \n",
            "75%       NaN      2.000000     NaN  \n",
            "max       NaN     11.200000     NaN  \n"
          ]
        }
      ]
    },
    {
      "cell_type": "markdown",
      "source": [
        "**Insight:**\n",
        "- di setiap dataframe tidak memiliki duplikasi data"
      ],
      "metadata": {
        "id": "7dtxhAPrkhPL"
      }
    },
    {
      "cell_type": "markdown",
      "metadata": {
        "id": "EhN5R4hr8DC1"
      },
      "source": [
        "### Cleaning Data"
      ]
    },
    {
      "cell_type": "markdown",
      "source": [
        "Mengisi nilai yang NaN dengan nilai mean pada dataframe Shunyi"
      ],
      "metadata": {
        "id": "oxJaO7sOUACk"
      }
    },
    {
      "cell_type": "code",
      "source": [
        "df_Shunyi_fill = df_Shunyi.fillna(df_Shunyi.mean(numeric_only=True))"
      ],
      "metadata": {
        "id": "ax-3tEjc9Cj1"
      },
      "execution_count": 14,
      "outputs": []
    },
    {
      "cell_type": "markdown",
      "source": [
        "Mengisi nilai yang NaN dengan nilai mean pada dataframe Tiantan"
      ],
      "metadata": {
        "id": "3_k8LvsOUNoI"
      }
    },
    {
      "cell_type": "code",
      "source": [
        "df_Tiantan_fill = df_Tiantan.fillna(df_Tiantan.mean(numeric_only=True))"
      ],
      "metadata": {
        "id": "xYPW7AFYTLWK"
      },
      "execution_count": null,
      "outputs": []
    },
    {
      "cell_type": "markdown",
      "source": [
        "Mengisi nilai yang NaN dengan nilai mean pada dataframe Wanliu"
      ],
      "metadata": {
        "id": "swnnNvpFUQG4"
      }
    },
    {
      "cell_type": "code",
      "source": [
        "df_Wanliu_fill = df_Wanliu.fillna(df_Wanliu.mean(numeric_only=True))"
      ],
      "metadata": {
        "id": "eYq9Eu3vTNKH"
      },
      "execution_count": null,
      "outputs": []
    },
    {
      "cell_type": "markdown",
      "source": [
        "Mengecek missing value tadi yang sudah di isi dengan nilai mean pada dataframe Shunyi"
      ],
      "metadata": {
        "id": "p8xY2_5oZCvw"
      }
    },
    {
      "cell_type": "code",
      "source": [
        "df_Shunyi_fill.isna().sum()"
      ],
      "metadata": {
        "id": "jVnYpprE9Evz",
        "collapsed": true,
        "outputId": "c8a2c181-06b2-4b64-8f34-f29c35e5f5a4",
        "colab": {
          "base_uri": "https://localhost:8080/",
          "height": 648
        }
      },
      "execution_count": null,
      "outputs": [
        {
          "output_type": "execute_result",
          "data": {
            "text/plain": [
              "No           0\n",
              "year         0\n",
              "month        0\n",
              "day          0\n",
              "hour         0\n",
              "PM2.5        0\n",
              "PM10         0\n",
              "SO2          0\n",
              "NO2          0\n",
              "CO           0\n",
              "O3           0\n",
              "TEMP         0\n",
              "PRES         0\n",
              "DEWP         0\n",
              "RAIN         0\n",
              "wd         483\n",
              "WSPM         0\n",
              "station      0\n",
              "dtype: int64"
            ],
            "text/html": [
              "<div>\n",
              "<style scoped>\n",
              "    .dataframe tbody tr th:only-of-type {\n",
              "        vertical-align: middle;\n",
              "    }\n",
              "\n",
              "    .dataframe tbody tr th {\n",
              "        vertical-align: top;\n",
              "    }\n",
              "\n",
              "    .dataframe thead th {\n",
              "        text-align: right;\n",
              "    }\n",
              "</style>\n",
              "<table border=\"1\" class=\"dataframe\">\n",
              "  <thead>\n",
              "    <tr style=\"text-align: right;\">\n",
              "      <th></th>\n",
              "      <th>0</th>\n",
              "    </tr>\n",
              "  </thead>\n",
              "  <tbody>\n",
              "    <tr>\n",
              "      <th>No</th>\n",
              "      <td>0</td>\n",
              "    </tr>\n",
              "    <tr>\n",
              "      <th>year</th>\n",
              "      <td>0</td>\n",
              "    </tr>\n",
              "    <tr>\n",
              "      <th>month</th>\n",
              "      <td>0</td>\n",
              "    </tr>\n",
              "    <tr>\n",
              "      <th>day</th>\n",
              "      <td>0</td>\n",
              "    </tr>\n",
              "    <tr>\n",
              "      <th>hour</th>\n",
              "      <td>0</td>\n",
              "    </tr>\n",
              "    <tr>\n",
              "      <th>PM2.5</th>\n",
              "      <td>0</td>\n",
              "    </tr>\n",
              "    <tr>\n",
              "      <th>PM10</th>\n",
              "      <td>0</td>\n",
              "    </tr>\n",
              "    <tr>\n",
              "      <th>SO2</th>\n",
              "      <td>0</td>\n",
              "    </tr>\n",
              "    <tr>\n",
              "      <th>NO2</th>\n",
              "      <td>0</td>\n",
              "    </tr>\n",
              "    <tr>\n",
              "      <th>CO</th>\n",
              "      <td>0</td>\n",
              "    </tr>\n",
              "    <tr>\n",
              "      <th>O3</th>\n",
              "      <td>0</td>\n",
              "    </tr>\n",
              "    <tr>\n",
              "      <th>TEMP</th>\n",
              "      <td>0</td>\n",
              "    </tr>\n",
              "    <tr>\n",
              "      <th>PRES</th>\n",
              "      <td>0</td>\n",
              "    </tr>\n",
              "    <tr>\n",
              "      <th>DEWP</th>\n",
              "      <td>0</td>\n",
              "    </tr>\n",
              "    <tr>\n",
              "      <th>RAIN</th>\n",
              "      <td>0</td>\n",
              "    </tr>\n",
              "    <tr>\n",
              "      <th>wd</th>\n",
              "      <td>483</td>\n",
              "    </tr>\n",
              "    <tr>\n",
              "      <th>WSPM</th>\n",
              "      <td>0</td>\n",
              "    </tr>\n",
              "    <tr>\n",
              "      <th>station</th>\n",
              "      <td>0</td>\n",
              "    </tr>\n",
              "  </tbody>\n",
              "</table>\n",
              "</div><br><label><b>dtype:</b> int64</label>"
            ]
          },
          "metadata": {},
          "execution_count": 21
        }
      ]
    },
    {
      "cell_type": "markdown",
      "source": [
        "Mengecek missing value tadi yang sudah di isi dengan nilai mean pada dataframe Tiantan"
      ],
      "metadata": {
        "id": "jH7cKssIZYSn"
      }
    },
    {
      "cell_type": "code",
      "source": [
        "df_Tiantan_fill.isna().sum()"
      ],
      "metadata": {
        "collapsed": true,
        "id": "GHhXMZYBXHg5",
        "outputId": "78a7da9a-5aa2-49ac-9175-371856d739fa",
        "colab": {
          "base_uri": "https://localhost:8080/",
          "height": 648
        }
      },
      "execution_count": null,
      "outputs": [
        {
          "output_type": "execute_result",
          "data": {
            "text/plain": [
              "No          0\n",
              "year        0\n",
              "month       0\n",
              "day         0\n",
              "hour        0\n",
              "PM2.5       0\n",
              "PM10        0\n",
              "SO2         0\n",
              "NO2         0\n",
              "CO          0\n",
              "O3          0\n",
              "TEMP        0\n",
              "PRES        0\n",
              "DEWP        0\n",
              "RAIN        0\n",
              "wd         78\n",
              "WSPM        0\n",
              "station     0\n",
              "dtype: int64"
            ],
            "text/html": [
              "<div>\n",
              "<style scoped>\n",
              "    .dataframe tbody tr th:only-of-type {\n",
              "        vertical-align: middle;\n",
              "    }\n",
              "\n",
              "    .dataframe tbody tr th {\n",
              "        vertical-align: top;\n",
              "    }\n",
              "\n",
              "    .dataframe thead th {\n",
              "        text-align: right;\n",
              "    }\n",
              "</style>\n",
              "<table border=\"1\" class=\"dataframe\">\n",
              "  <thead>\n",
              "    <tr style=\"text-align: right;\">\n",
              "      <th></th>\n",
              "      <th>0</th>\n",
              "    </tr>\n",
              "  </thead>\n",
              "  <tbody>\n",
              "    <tr>\n",
              "      <th>No</th>\n",
              "      <td>0</td>\n",
              "    </tr>\n",
              "    <tr>\n",
              "      <th>year</th>\n",
              "      <td>0</td>\n",
              "    </tr>\n",
              "    <tr>\n",
              "      <th>month</th>\n",
              "      <td>0</td>\n",
              "    </tr>\n",
              "    <tr>\n",
              "      <th>day</th>\n",
              "      <td>0</td>\n",
              "    </tr>\n",
              "    <tr>\n",
              "      <th>hour</th>\n",
              "      <td>0</td>\n",
              "    </tr>\n",
              "    <tr>\n",
              "      <th>PM2.5</th>\n",
              "      <td>0</td>\n",
              "    </tr>\n",
              "    <tr>\n",
              "      <th>PM10</th>\n",
              "      <td>0</td>\n",
              "    </tr>\n",
              "    <tr>\n",
              "      <th>SO2</th>\n",
              "      <td>0</td>\n",
              "    </tr>\n",
              "    <tr>\n",
              "      <th>NO2</th>\n",
              "      <td>0</td>\n",
              "    </tr>\n",
              "    <tr>\n",
              "      <th>CO</th>\n",
              "      <td>0</td>\n",
              "    </tr>\n",
              "    <tr>\n",
              "      <th>O3</th>\n",
              "      <td>0</td>\n",
              "    </tr>\n",
              "    <tr>\n",
              "      <th>TEMP</th>\n",
              "      <td>0</td>\n",
              "    </tr>\n",
              "    <tr>\n",
              "      <th>PRES</th>\n",
              "      <td>0</td>\n",
              "    </tr>\n",
              "    <tr>\n",
              "      <th>DEWP</th>\n",
              "      <td>0</td>\n",
              "    </tr>\n",
              "    <tr>\n",
              "      <th>RAIN</th>\n",
              "      <td>0</td>\n",
              "    </tr>\n",
              "    <tr>\n",
              "      <th>wd</th>\n",
              "      <td>78</td>\n",
              "    </tr>\n",
              "    <tr>\n",
              "      <th>WSPM</th>\n",
              "      <td>0</td>\n",
              "    </tr>\n",
              "    <tr>\n",
              "      <th>station</th>\n",
              "      <td>0</td>\n",
              "    </tr>\n",
              "  </tbody>\n",
              "</table>\n",
              "</div><br><label><b>dtype:</b> int64</label>"
            ]
          },
          "metadata": {},
          "execution_count": 22
        }
      ]
    },
    {
      "cell_type": "markdown",
      "source": [
        "Mengecek missing value tadi yang sudah di isi dengan nilai mean pada dataframe Wanliu"
      ],
      "metadata": {
        "id": "dYY_q_AsZadn"
      }
    },
    {
      "cell_type": "code",
      "source": [
        "df_Wanliu_fill.isna().sum()"
      ],
      "metadata": {
        "collapsed": true,
        "id": "aUYheUgqXIzf",
        "outputId": "002c03ef-4392-473a-cc20-543e07e25495",
        "colab": {
          "base_uri": "https://localhost:8080/",
          "height": 648
        }
      },
      "execution_count": null,
      "outputs": [
        {
          "output_type": "execute_result",
          "data": {
            "text/plain": [
              "No           0\n",
              "year         0\n",
              "month        0\n",
              "day          0\n",
              "hour         0\n",
              "PM2.5        0\n",
              "PM10         0\n",
              "SO2          0\n",
              "NO2          0\n",
              "CO           0\n",
              "O3           0\n",
              "TEMP         0\n",
              "PRES         0\n",
              "DEWP         0\n",
              "RAIN         0\n",
              "wd         123\n",
              "WSPM         0\n",
              "station      0\n",
              "dtype: int64"
            ],
            "text/html": [
              "<div>\n",
              "<style scoped>\n",
              "    .dataframe tbody tr th:only-of-type {\n",
              "        vertical-align: middle;\n",
              "    }\n",
              "\n",
              "    .dataframe tbody tr th {\n",
              "        vertical-align: top;\n",
              "    }\n",
              "\n",
              "    .dataframe thead th {\n",
              "        text-align: right;\n",
              "    }\n",
              "</style>\n",
              "<table border=\"1\" class=\"dataframe\">\n",
              "  <thead>\n",
              "    <tr style=\"text-align: right;\">\n",
              "      <th></th>\n",
              "      <th>0</th>\n",
              "    </tr>\n",
              "  </thead>\n",
              "  <tbody>\n",
              "    <tr>\n",
              "      <th>No</th>\n",
              "      <td>0</td>\n",
              "    </tr>\n",
              "    <tr>\n",
              "      <th>year</th>\n",
              "      <td>0</td>\n",
              "    </tr>\n",
              "    <tr>\n",
              "      <th>month</th>\n",
              "      <td>0</td>\n",
              "    </tr>\n",
              "    <tr>\n",
              "      <th>day</th>\n",
              "      <td>0</td>\n",
              "    </tr>\n",
              "    <tr>\n",
              "      <th>hour</th>\n",
              "      <td>0</td>\n",
              "    </tr>\n",
              "    <tr>\n",
              "      <th>PM2.5</th>\n",
              "      <td>0</td>\n",
              "    </tr>\n",
              "    <tr>\n",
              "      <th>PM10</th>\n",
              "      <td>0</td>\n",
              "    </tr>\n",
              "    <tr>\n",
              "      <th>SO2</th>\n",
              "      <td>0</td>\n",
              "    </tr>\n",
              "    <tr>\n",
              "      <th>NO2</th>\n",
              "      <td>0</td>\n",
              "    </tr>\n",
              "    <tr>\n",
              "      <th>CO</th>\n",
              "      <td>0</td>\n",
              "    </tr>\n",
              "    <tr>\n",
              "      <th>O3</th>\n",
              "      <td>0</td>\n",
              "    </tr>\n",
              "    <tr>\n",
              "      <th>TEMP</th>\n",
              "      <td>0</td>\n",
              "    </tr>\n",
              "    <tr>\n",
              "      <th>PRES</th>\n",
              "      <td>0</td>\n",
              "    </tr>\n",
              "    <tr>\n",
              "      <th>DEWP</th>\n",
              "      <td>0</td>\n",
              "    </tr>\n",
              "    <tr>\n",
              "      <th>RAIN</th>\n",
              "      <td>0</td>\n",
              "    </tr>\n",
              "    <tr>\n",
              "      <th>wd</th>\n",
              "      <td>123</td>\n",
              "    </tr>\n",
              "    <tr>\n",
              "      <th>WSPM</th>\n",
              "      <td>0</td>\n",
              "    </tr>\n",
              "    <tr>\n",
              "      <th>station</th>\n",
              "      <td>0</td>\n",
              "    </tr>\n",
              "  </tbody>\n",
              "</table>\n",
              "</div><br><label><b>dtype:</b> int64</label>"
            ]
          },
          "metadata": {},
          "execution_count": 23
        }
      ]
    },
    {
      "cell_type": "markdown",
      "source": [
        "Melakukan drop pada missing value yang tersisa pada dataframe Shunyi"
      ],
      "metadata": {
        "id": "TRZz7m8zZfOS"
      }
    },
    {
      "cell_type": "code",
      "source": [
        "dfShunyi = df_Shunyi_fill.dropna()"
      ],
      "metadata": {
        "id": "-BFiYH1AXQF3"
      },
      "execution_count": null,
      "outputs": []
    },
    {
      "cell_type": "markdown",
      "source": [
        "Melakukan drop pada missing value yang tersisa pada dataframe Tiantan"
      ],
      "metadata": {
        "id": "6xHiixM9ZsbI"
      }
    },
    {
      "cell_type": "code",
      "source": [
        "dfTiantan = df_Tiantan_fill.dropna()"
      ],
      "metadata": {
        "id": "itxx8GqyY4Oy"
      },
      "execution_count": null,
      "outputs": []
    },
    {
      "cell_type": "markdown",
      "source": [
        "Melakukan drop pada missing value yang tersisa pada dataframe Wanliu"
      ],
      "metadata": {
        "id": "4E8kiW3BZuLc"
      }
    },
    {
      "cell_type": "code",
      "source": [
        "dfWanliu = df_Wanliu_fill.dropna()"
      ],
      "metadata": {
        "id": "8xnnTqK6Y6M8"
      },
      "execution_count": null,
      "outputs": []
    },
    {
      "cell_type": "markdown",
      "source": [
        "Menambah kolom datetime berdasarkan kolom year,month,day,hour pada dataframe Shunyi"
      ],
      "metadata": {
        "id": "OIJv-WmtaZVZ"
      }
    },
    {
      "cell_type": "code",
      "source": [
        "dfShunyi.loc[:, 'datetime'] = pd.to_datetime(dfShunyi[['year', 'month', 'day', 'hour']])"
      ],
      "metadata": {
        "colab": {
          "base_uri": "https://localhost:8080/"
        },
        "id": "mzyR2EfqNNtP",
        "outputId": "13cef66f-0c4e-4036-d602-f924f9d83445"
      },
      "execution_count": null,
      "outputs": [
        {
          "output_type": "stream",
          "name": "stderr",
          "text": [
            "<ipython-input-27-5ff840793aff>:1: SettingWithCopyWarning: \n",
            "A value is trying to be set on a copy of a slice from a DataFrame.\n",
            "Try using .loc[row_indexer,col_indexer] = value instead\n",
            "\n",
            "See the caveats in the documentation: https://pandas.pydata.org/pandas-docs/stable/user_guide/indexing.html#returning-a-view-versus-a-copy\n",
            "  dfShunyi.loc[:, 'datetime'] = pd.to_datetime(dfShunyi[['year', 'month', 'day', 'hour']])\n"
          ]
        }
      ]
    },
    {
      "cell_type": "markdown",
      "source": [
        "Menambah kolom datetime berdasarkan kolom year,month,day,hour pada dataframe Tiantan"
      ],
      "metadata": {
        "id": "Zf09FDSpavJM"
      }
    },
    {
      "cell_type": "code",
      "source": [
        "dfTiantan.loc[:, 'datetime'] = pd.to_datetime(dfTiantan[['year', 'month', 'day', 'hour']])"
      ],
      "metadata": {
        "colab": {
          "base_uri": "https://localhost:8080/"
        },
        "id": "fOTLua39ao3f",
        "outputId": "ac69dfd2-87e5-4ccc-a3c6-7b83bd7b17df"
      },
      "execution_count": null,
      "outputs": [
        {
          "output_type": "stream",
          "name": "stderr",
          "text": [
            "<ipython-input-28-3f82bea8e809>:1: SettingWithCopyWarning: \n",
            "A value is trying to be set on a copy of a slice from a DataFrame.\n",
            "Try using .loc[row_indexer,col_indexer] = value instead\n",
            "\n",
            "See the caveats in the documentation: https://pandas.pydata.org/pandas-docs/stable/user_guide/indexing.html#returning-a-view-versus-a-copy\n",
            "  dfTiantan.loc[:, 'datetime'] = pd.to_datetime(dfTiantan[['year', 'month', 'day', 'hour']])\n"
          ]
        }
      ]
    },
    {
      "cell_type": "markdown",
      "source": [
        "Menambah kolom datetime berdasarkan kolom year,month,day,hour pada dataframe Wanliu"
      ],
      "metadata": {
        "id": "Hczmhu1Za0De"
      }
    },
    {
      "cell_type": "code",
      "source": [
        "dfWanliu.loc[:, 'datetime'] = pd.to_datetime(dfWanliu[['year', 'month', 'day', 'hour']])"
      ],
      "metadata": {
        "colab": {
          "base_uri": "https://localhost:8080/"
        },
        "id": "75mo5sZqaq2H",
        "outputId": "7cdb38e1-fb26-4418-ceb5-42d3fbe4ed3e"
      },
      "execution_count": null,
      "outputs": [
        {
          "output_type": "stream",
          "name": "stderr",
          "text": [
            "<ipython-input-29-9d5366442a44>:1: SettingWithCopyWarning: \n",
            "A value is trying to be set on a copy of a slice from a DataFrame.\n",
            "Try using .loc[row_indexer,col_indexer] = value instead\n",
            "\n",
            "See the caveats in the documentation: https://pandas.pydata.org/pandas-docs/stable/user_guide/indexing.html#returning-a-view-versus-a-copy\n",
            "  dfWanliu.loc[:, 'datetime'] = pd.to_datetime(dfWanliu[['year', 'month', 'day', 'hour']])\n"
          ]
        }
      ]
    },
    {
      "cell_type": "markdown",
      "source": [
        "Melakukan set index pada dataframe Shunyi"
      ],
      "metadata": {
        "id": "6wssAUOja49g"
      }
    },
    {
      "cell_type": "code",
      "source": [
        "dfShunyi.set_index('datetime', inplace=True)"
      ],
      "metadata": {
        "id": "gUqjOrqkJ-wQ"
      },
      "execution_count": null,
      "outputs": []
    },
    {
      "cell_type": "markdown",
      "source": [
        "Melakukan set index pada dataframe Tiantan"
      ],
      "metadata": {
        "id": "uVWWhI1PbAeG"
      }
    },
    {
      "cell_type": "code",
      "source": [
        "dfTiantan.set_index('datetime', inplace=True)"
      ],
      "metadata": {
        "id": "qj02zIhrbHNj"
      },
      "execution_count": null,
      "outputs": []
    },
    {
      "cell_type": "markdown",
      "source": [
        "Melakukan set index pada dataframe Wanliu"
      ],
      "metadata": {
        "id": "zpxA1KwUbPav"
      }
    },
    {
      "cell_type": "code",
      "source": [
        "dfWanliu.set_index('datetime', inplace=True)"
      ],
      "metadata": {
        "id": "-kGxr7hbbKAE"
      },
      "execution_count": null,
      "outputs": []
    },
    {
      "cell_type": "markdown",
      "source": [
        "Melakukan drop pada kolom wd,station pada dataframe Shunyi"
      ],
      "metadata": {
        "id": "SxfLREQzbejk"
      }
    },
    {
      "cell_type": "code",
      "source": [
        "dfShunyi = dfShunyi.drop(columns=['wd','station'])"
      ],
      "metadata": {
        "id": "_-ycANy1Xgli",
        "collapsed": true
      },
      "execution_count": null,
      "outputs": []
    },
    {
      "cell_type": "markdown",
      "source": [
        "Melakukan drop pada kolom wd,station pada dataframe Tiantan"
      ],
      "metadata": {
        "id": "WeVe3YPBbrEk"
      }
    },
    {
      "cell_type": "code",
      "source": [
        "dfTiantan = dfTiantan.drop(columns=['wd','station'])"
      ],
      "metadata": {
        "id": "LyqHcqBgbcCI"
      },
      "execution_count": null,
      "outputs": []
    },
    {
      "cell_type": "markdown",
      "source": [
        "Melakukan drop pada kolom wd,station pada dataframe Wanliu"
      ],
      "metadata": {
        "id": "9dxEasNhbskX"
      }
    },
    {
      "cell_type": "code",
      "source": [
        "dfWanliu = dfWanliu.drop(columns=['wd','station'])"
      ],
      "metadata": {
        "id": "XaKiVJHGbdX4"
      },
      "execution_count": null,
      "outputs": []
    },
    {
      "cell_type": "markdown",
      "source": [
        "Melakukan pengecek pada dataframe Shunyi yang sudah dibersihkan"
      ],
      "metadata": {
        "id": "1U0oTJuBb06T"
      }
    },
    {
      "cell_type": "code",
      "source": [
        "dfShunyi.info()"
      ],
      "metadata": {
        "colab": {
          "base_uri": "https://localhost:8080/"
        },
        "id": "a4Z0MjAZI1iw",
        "outputId": "f0e9784e-e418-4546-cd7f-502af1ea3024"
      },
      "execution_count": null,
      "outputs": [
        {
          "output_type": "stream",
          "name": "stdout",
          "text": [
            "<class 'pandas.core.frame.DataFrame'>\n",
            "DatetimeIndex: 34581 entries, 2013-03-01 00:00:00 to 2017-02-28 23:00:00\n",
            "Data columns (total 16 columns):\n",
            " #   Column  Non-Null Count  Dtype  \n",
            "---  ------  --------------  -----  \n",
            " 0   No      34581 non-null  int64  \n",
            " 1   year    34581 non-null  int64  \n",
            " 2   month   34581 non-null  int64  \n",
            " 3   day     34581 non-null  int64  \n",
            " 4   hour    34581 non-null  int64  \n",
            " 5   PM2.5   34581 non-null  float64\n",
            " 6   PM10    34581 non-null  float64\n",
            " 7   SO2     34581 non-null  float64\n",
            " 8   NO2     34581 non-null  float64\n",
            " 9   CO      34581 non-null  float64\n",
            " 10  O3      34581 non-null  float64\n",
            " 11  TEMP    34581 non-null  float64\n",
            " 12  PRES    34581 non-null  float64\n",
            " 13  DEWP    34581 non-null  float64\n",
            " 14  RAIN    34581 non-null  float64\n",
            " 15  WSPM    34581 non-null  float64\n",
            "dtypes: float64(11), int64(5)\n",
            "memory usage: 4.5 MB\n"
          ]
        }
      ]
    },
    {
      "cell_type": "markdown",
      "source": [
        "Melakukan pengecek pada dataframe Tiantan yang sudah dibersihkan"
      ],
      "metadata": {
        "id": "GINk8i5HcBLL"
      }
    },
    {
      "cell_type": "code",
      "source": [
        "dfTiantan.info()"
      ],
      "metadata": {
        "colab": {
          "base_uri": "https://localhost:8080/"
        },
        "id": "PfvZ3HYnbxZI",
        "outputId": "4ac1b918-0d0d-4a37-face-afbe2cf010d8"
      },
      "execution_count": null,
      "outputs": [
        {
          "output_type": "stream",
          "name": "stdout",
          "text": [
            "<class 'pandas.core.frame.DataFrame'>\n",
            "DatetimeIndex: 34986 entries, 2013-03-01 00:00:00 to 2017-02-28 23:00:00\n",
            "Data columns (total 16 columns):\n",
            " #   Column  Non-Null Count  Dtype  \n",
            "---  ------  --------------  -----  \n",
            " 0   No      34986 non-null  int64  \n",
            " 1   year    34986 non-null  int64  \n",
            " 2   month   34986 non-null  int64  \n",
            " 3   day     34986 non-null  int64  \n",
            " 4   hour    34986 non-null  int64  \n",
            " 5   PM2.5   34986 non-null  float64\n",
            " 6   PM10    34986 non-null  float64\n",
            " 7   SO2     34986 non-null  float64\n",
            " 8   NO2     34986 non-null  float64\n",
            " 9   CO      34986 non-null  float64\n",
            " 10  O3      34986 non-null  float64\n",
            " 11  TEMP    34986 non-null  float64\n",
            " 12  PRES    34986 non-null  float64\n",
            " 13  DEWP    34986 non-null  float64\n",
            " 14  RAIN    34986 non-null  float64\n",
            " 15  WSPM    34986 non-null  float64\n",
            "dtypes: float64(11), int64(5)\n",
            "memory usage: 4.5 MB\n"
          ]
        }
      ]
    },
    {
      "cell_type": "markdown",
      "source": [
        "Melakukan pengecek pada dataframe Wanliu yang sudah dibersihkan"
      ],
      "metadata": {
        "id": "_cHqc66scDkE"
      }
    },
    {
      "cell_type": "code",
      "source": [
        "dfWanliu.info()"
      ],
      "metadata": {
        "colab": {
          "base_uri": "https://localhost:8080/"
        },
        "id": "VjEA0mYFbypp",
        "outputId": "f9f55d2b-b719-4497-b264-f2931035a810"
      },
      "execution_count": null,
      "outputs": [
        {
          "output_type": "stream",
          "name": "stdout",
          "text": [
            "<class 'pandas.core.frame.DataFrame'>\n",
            "DatetimeIndex: 34941 entries, 2013-03-01 00:00:00 to 2017-02-28 23:00:00\n",
            "Data columns (total 16 columns):\n",
            " #   Column  Non-Null Count  Dtype  \n",
            "---  ------  --------------  -----  \n",
            " 0   No      34941 non-null  int64  \n",
            " 1   year    34941 non-null  int64  \n",
            " 2   month   34941 non-null  int64  \n",
            " 3   day     34941 non-null  int64  \n",
            " 4   hour    34941 non-null  int64  \n",
            " 5   PM2.5   34941 non-null  float64\n",
            " 6   PM10    34941 non-null  float64\n",
            " 7   SO2     34941 non-null  float64\n",
            " 8   NO2     34941 non-null  float64\n",
            " 9   CO      34941 non-null  float64\n",
            " 10  O3      34941 non-null  float64\n",
            " 11  TEMP    34941 non-null  float64\n",
            " 12  PRES    34941 non-null  float64\n",
            " 13  DEWP    34941 non-null  float64\n",
            " 14  RAIN    34941 non-null  float64\n",
            " 15  WSPM    34941 non-null  float64\n",
            "dtypes: float64(11), int64(5)\n",
            "memory usage: 4.5 MB\n"
          ]
        }
      ]
    },
    {
      "cell_type": "markdown",
      "source": [
        "**Insight:**\n",
        "- Mengganti missing value dengan mean() karena adanya outlier di data, sehingga dampaknya terhadap hasil tidak terlalu signifikan.\n",
        "- Pada kolom wd(wind direction) masih terdapat missing value lalu melakukan cleaning data menggunakan metode drop"
      ],
      "metadata": {
        "id": "Q_5ejIqckiSP"
      }
    },
    {
      "cell_type": "markdown",
      "metadata": {
        "id": "gp-Y6wU38DC1"
      },
      "source": [
        "## Exploratory Data Analysis (EDA)"
      ]
    },
    {
      "cell_type": "markdown",
      "metadata": {
        "id": "MW7WF2kr8DC1"
      },
      "source": [
        "### Explore ..."
      ]
    },
    {
      "cell_type": "markdown",
      "source": [
        "Mendefinisikan fungsi jenis polusi"
      ],
      "metadata": {
        "id": "-dZ9o4Lu3YLk"
      }
    },
    {
      "cell_type": "code",
      "source": [
        "pollutants = ['PM2.5', 'PM10', 'SO2', 'NO2', 'CO', 'O3']"
      ],
      "metadata": {
        "id": "qFUaEHtM0bD5"
      },
      "execution_count": null,
      "outputs": []
    },
    {
      "cell_type": "markdown",
      "source": [
        "Membuat UI streamlit dengan inputan user"
      ],
      "metadata": {
        "id": "g_PDtK1M8bwn"
      }
    },
    {
      "cell_type": "code",
      "source": [
        "# Streamlit UI elements\n",
        "st.title(\"Air Quality Analysis by City (2013-2017)\")\n",
        "st.subheader(\"Choose a year and pollutant to display the monthly air quality levels\")\n",
        "\n",
        "# memasukkan pilihan tahun (2013-2017)\n",
        "year = st.selectbox(\"Select the Year\", [2013, 2014, 2015, 2016, 2017])\n",
        "\n",
        "# memasukkan pilihan polusi\n",
        "pollutant = st.selectbox(\"Select the Pollutant\", pollutants)\n",
        "\n",
        "# memasukkan pilihan kota\n",
        "city = st.selectbox(\"Select the City\", ['Shunyi', 'Tiantan', 'Wanliu'])"
      ],
      "metadata": {
        "colab": {
          "base_uri": "https://localhost:8080/"
        },
        "collapsed": true,
        "id": "mziw0JWW8iBO",
        "outputId": "f190d426-b7da-4930-845b-c0da48a28099"
      },
      "execution_count": null,
      "outputs": [
        {
          "output_type": "stream",
          "name": "stderr",
          "text": [
            "2024-10-02 04:30:51.299 WARNING streamlit.runtime.scriptrunner_utils.script_run_context: Thread 'MainThread': missing ScriptRunContext! This warning can be ignored when running in bare mode.\n",
            "2024-10-02 04:30:51.567 \n",
            "  \u001b[33m\u001b[1mWarning:\u001b[0m to view this Streamlit app on a browser, run it with the following\n",
            "  command:\n",
            "\n",
            "    streamlit run /usr/local/lib/python3.10/dist-packages/colab_kernel_launcher.py [ARGUMENTS]\n",
            "2024-10-02 04:30:51.570 Thread 'MainThread': missing ScriptRunContext! This warning can be ignored when running in bare mode.\n",
            "2024-10-02 04:30:51.572 Thread 'MainThread': missing ScriptRunContext! This warning can be ignored when running in bare mode.\n",
            "2024-10-02 04:30:51.574 Thread 'MainThread': missing ScriptRunContext! This warning can be ignored when running in bare mode.\n",
            "2024-10-02 04:30:51.576 Thread 'MainThread': missing ScriptRunContext! This warning can be ignored when running in bare mode.\n",
            "2024-10-02 04:30:51.578 Thread 'MainThread': missing ScriptRunContext! This warning can be ignored when running in bare mode.\n",
            "2024-10-02 04:30:51.580 Thread 'MainThread': missing ScriptRunContext! This warning can be ignored when running in bare mode.\n",
            "2024-10-02 04:30:51.582 Thread 'MainThread': missing ScriptRunContext! This warning can be ignored when running in bare mode.\n",
            "2024-10-02 04:30:51.583 Session state does not function when running a script without `streamlit run`\n",
            "2024-10-02 04:30:51.584 Thread 'MainThread': missing ScriptRunContext! This warning can be ignored when running in bare mode.\n",
            "2024-10-02 04:30:51.585 Thread 'MainThread': missing ScriptRunContext! This warning can be ignored when running in bare mode.\n",
            "2024-10-02 04:30:51.588 Thread 'MainThread': missing ScriptRunContext! This warning can be ignored when running in bare mode.\n",
            "2024-10-02 04:30:51.589 Thread 'MainThread': missing ScriptRunContext! This warning can be ignored when running in bare mode.\n",
            "2024-10-02 04:30:51.591 Thread 'MainThread': missing ScriptRunContext! This warning can be ignored when running in bare mode.\n",
            "2024-10-02 04:30:51.592 Thread 'MainThread': missing ScriptRunContext! This warning can be ignored when running in bare mode.\n",
            "2024-10-02 04:30:51.594 Thread 'MainThread': missing ScriptRunContext! This warning can be ignored when running in bare mode.\n",
            "2024-10-02 04:30:51.596 Thread 'MainThread': missing ScriptRunContext! This warning can be ignored when running in bare mode.\n",
            "2024-10-02 04:30:51.598 Thread 'MainThread': missing ScriptRunContext! This warning can be ignored when running in bare mode.\n",
            "2024-10-02 04:30:51.600 Thread 'MainThread': missing ScriptRunContext! This warning can be ignored when running in bare mode.\n",
            "2024-10-02 04:30:51.601 Thread 'MainThread': missing ScriptRunContext! This warning can be ignored when running in bare mode.\n",
            "2024-10-02 04:30:51.602 Thread 'MainThread': missing ScriptRunContext! This warning can be ignored when running in bare mode.\n",
            "2024-10-02 04:30:51.603 Thread 'MainThread': missing ScriptRunContext! This warning can be ignored when running in bare mode.\n",
            "2024-10-02 04:30:51.605 Thread 'MainThread': missing ScriptRunContext! This warning can be ignored when running in bare mode.\n"
          ]
        }
      ]
    },
    {
      "cell_type": "markdown",
      "source": [
        "Membuat fungsi filter untuk mencari data berdasarkan tahun dan jenis polusi"
      ],
      "metadata": {
        "id": "5dbbXp218tQ4"
      }
    },
    {
      "cell_type": "code",
      "source": [
        "# membuat fungsi filter\n",
        "def filter_by_year_and_pollutant(df, year, pollutant):\n",
        "        df_filtered = df[df.index.year == year]\n",
        "        monthly_pollution = df_filtered.resample('M').mean()[pollutant]\n",
        "        monthly_pollution.index = monthly_pollution.index.strftime('%B')  # Mengkoversi index bulan ke string nama bulan\n",
        "        return monthly_pollution"
      ],
      "metadata": {
        "id": "Lpc-FwRB8mtW"
      },
      "execution_count": null,
      "outputs": []
    },
    {
      "cell_type": "markdown",
      "source": [
        "Membuat kondisi sesuai filter data yang di inputkan user"
      ],
      "metadata": {
        "id": "2kJXNNOm9KzB"
      }
    },
    {
      "cell_type": "code",
      "source": [
        "# Filtering data\n",
        "if city == 'Shunyi':\n",
        "    monthly_pollution = filter_by_year_and_pollutant(dfShunyi, year, pollutant)\n",
        "elif city == 'Tiantan':\n",
        "    monthly_pollution = filter_by_year_and_pollutant(dfTiantan, year, pollutant)\n",
        "else:\n",
        "    monthly_pollution = filter_by_year_and_pollutant(dfWanliu, year, pollutant)\n",
        "\n",
        "# Plotting\n",
        "st.subheader(f\"Monthly {pollutant} Pollution Levels in {city} for {year}\")"
      ],
      "metadata": {
        "colab": {
          "base_uri": "https://localhost:8080/"
        },
        "collapsed": true,
        "id": "A4uXJtMG9Be1",
        "outputId": "70ee6970-98f7-499f-80de-e79fca471d26"
      },
      "execution_count": null,
      "outputs": [
        {
          "output_type": "stream",
          "name": "stderr",
          "text": [
            "<ipython-input-41-5520e7df88bc>:4: FutureWarning: 'M' is deprecated and will be removed in a future version, please use 'ME' instead.\n",
            "  monthly_pollution = df_filtered.resample('M').mean()[pollutant]\n",
            "2024-10-02 04:30:51.667 Thread 'MainThread': missing ScriptRunContext! This warning can be ignored when running in bare mode.\n",
            "2024-10-02 04:30:51.670 Thread 'MainThread': missing ScriptRunContext! This warning can be ignored when running in bare mode.\n"
          ]
        },
        {
          "output_type": "execute_result",
          "data": {
            "text/plain": [
              "DeltaGenerator()"
            ]
          },
          "metadata": {},
          "execution_count": 42
        }
      ]
    },
    {
      "cell_type": "markdown",
      "source": [
        "Mengindentifikasi peak dan lowest data"
      ],
      "metadata": {
        "id": "gUxKv0e9c0Ee"
      }
    },
    {
      "cell_type": "code",
      "source": [
        "peak_month = monthly_pollution.idxmax()\n",
        "lowest_month = monthly_pollution.idxmin()\n",
        "peak_value = monthly_pollution.max()\n",
        "lowest_value = monthly_pollution.min()"
      ],
      "metadata": {
        "id": "hfYGf0Tycxbq"
      },
      "execution_count": null,
      "outputs": []
    },
    {
      "cell_type": "markdown",
      "source": [
        "Mendefinisikan Fungsi untuk merubah bulan kemusim"
      ],
      "metadata": {
        "id": "IwCqpit2c6SA"
      }
    },
    {
      "cell_type": "code",
      "source": [
        "\n",
        "def assign_season(month):\n",
        "    if month in [12, 1, 2]:\n",
        "        return 'Winter'\n",
        "    elif month in [3, 4, 5]:\n",
        "        return 'Spring'\n",
        "    elif month in [6, 7, 8]:\n",
        "        return 'Summer'\n",
        "    else:\n",
        "        return 'Fall'"
      ],
      "metadata": {
        "id": "JJc7_y3J_xwU"
      },
      "execution_count": null,
      "outputs": []
    },
    {
      "cell_type": "markdown",
      "source": [
        "Melakukan perubahan bulan ke musim berdasarkan metode apply dengan parameter assign_season pada dataframe Shunyi"
      ],
      "metadata": {
        "id": "6wjoEYlNdCwL"
      }
    },
    {
      "cell_type": "code",
      "source": [
        "dfShunyi['season'] = dfShunyi['month'].apply(assign_season)"
      ],
      "metadata": {
        "id": "RiewqhmjAACu"
      },
      "execution_count": null,
      "outputs": []
    },
    {
      "cell_type": "markdown",
      "source": [
        "Melakukan perubahan bulan ke musim berdasarkan metode apply dengan parameter assign_season pada dataframe Tiantan"
      ],
      "metadata": {
        "id": "D65gsDx-daQI"
      }
    },
    {
      "cell_type": "code",
      "source": [
        "dfTiantan['season'] = dfTiantan['month'].apply(assign_season)"
      ],
      "metadata": {
        "id": "BbUFVmhqdfBK"
      },
      "execution_count": null,
      "outputs": []
    },
    {
      "cell_type": "markdown",
      "source": [
        "Melakukan perubahan bulan ke musim berdasarkan metode apply dengan parameter assign_season pada dataframe Wanliu"
      ],
      "metadata": {
        "id": "63f6rhCDdcoe"
      }
    },
    {
      "cell_type": "code",
      "source": [
        "dfWanliu['season'] = dfWanliu['month'].apply(assign_season)"
      ],
      "metadata": {
        "id": "r0R4k-xMdgSb"
      },
      "execution_count": null,
      "outputs": []
    },
    {
      "cell_type": "markdown",
      "source": [
        "Kelompokkan berdasarkan musim dan hitung nilai polutan rata-rata untuk setiap dataframe Shunyi"
      ],
      "metadata": {
        "id": "js4Vws8jeszE"
      }
    },
    {
      "cell_type": "code",
      "source": [
        "seasonal_avg_shunyi = dfShunyi.groupby('season')[pollutants].mean()"
      ],
      "metadata": {
        "id": "eMCxD04iepth"
      },
      "execution_count": null,
      "outputs": []
    },
    {
      "cell_type": "markdown",
      "source": [
        "Kelompokkan berdasarkan musim dan hitung nilai polutan rata-rata untuk setiap dataframe Tiantan"
      ],
      "metadata": {
        "id": "o-UaODriexiJ"
      }
    },
    {
      "cell_type": "code",
      "source": [
        "seasonal_avg_tiantan = dfTiantan.groupby('season')[pollutants].mean()"
      ],
      "metadata": {
        "id": "90XXhKI2fAO4"
      },
      "execution_count": null,
      "outputs": []
    },
    {
      "cell_type": "markdown",
      "source": [
        "Kelompokkan berdasarkan musim dan hitung nilai polutan rata-rata untuk setiap dataframe Wanliu"
      ],
      "metadata": {
        "id": "rUWJavc0ez8O"
      }
    },
    {
      "cell_type": "code",
      "source": [
        "seasonal_avg_wanliu = dfWanliu.groupby('season')[pollutants].mean()"
      ],
      "metadata": {
        "id": "PIbf0Rg4fFga"
      },
      "execution_count": null,
      "outputs": []
    },
    {
      "cell_type": "markdown",
      "source": [
        "Gabungkan hasil untuk semua stasiun"
      ],
      "metadata": {
        "id": "wzxyPHz0fK-E"
      }
    },
    {
      "cell_type": "code",
      "source": [
        "\n",
        "seasonal_avg_combined = pd.concat([seasonal_avg_shunyi, seasonal_avg_tiantan, seasonal_avg_wanliu],\n",
        "                                  keys=['Shunyi', 'Tiantan', 'Wanliu'], names=['Station', 'Season'])\n",
        "\n",
        "print(seasonal_avg_combined)"
      ],
      "metadata": {
        "colab": {
          "base_uri": "https://localhost:8080/"
        },
        "collapsed": true,
        "id": "kuOtcspiBMc2",
        "outputId": "6910a60c-f9db-42c9-ada1-8886f52b83e3"
      },
      "execution_count": null,
      "outputs": [
        {
          "output_type": "stream",
          "name": "stdout",
          "text": [
            "                     PM2.5        PM10        SO2        NO2           CO  \\\n",
            "Station Season                                                              \n",
            "Shunyi  Fall     79.126805   97.589574   8.588976  46.769016  1166.035060   \n",
            "        Spring   78.160736  112.486539  16.747632  46.548317   970.846924   \n",
            "        Summer   66.368215   77.934851   4.861493  29.552782   916.849498   \n",
            "        Winter   92.774100  105.050491  24.270488  51.567423  1674.331252   \n",
            "Tiantan Fall     84.004974  104.415716   8.815519  58.313313  1318.693831   \n",
            "        Spring   76.092492  115.004774  18.718703  49.699608  1043.404152   \n",
            "        Summer   68.626292   84.925938   6.855412  39.995654  1003.721647   \n",
            "        Winter  100.306982  121.418154  23.266931  64.936134  1837.231642   \n",
            "Wanliu  Fall     85.937665  109.747209  11.832613  65.760298  1299.537864   \n",
            "        Spring   79.465059  125.825547  21.134951  70.953616  1047.709154   \n",
            "        Summer   68.799249   86.233075   8.494876  49.560207   910.030082   \n",
            "        Winter   99.679483  120.263127  32.357230  74.875804  2029.271271   \n",
            "\n",
            "                       O3  \n",
            "Station Season             \n",
            "Shunyi  Fall    33.666861  \n",
            "        Spring  65.731874  \n",
            "        Summer  89.541835  \n",
            "        Winter  32.188777  \n",
            "Tiantan Fall    32.598049  \n",
            "        Spring  72.345947  \n",
            "        Summer  89.072907  \n",
            "        Winter  29.273022  \n",
            "Wanliu  Fall    29.797674  \n",
            "        Spring  58.609926  \n",
            "        Summer  81.430501  \n",
            "        Winter  25.200631  \n"
          ]
        }
      ]
    },
    {
      "cell_type": "markdown",
      "source": [
        "**Insight:**\n",
        "- Dapat beberapa data peak dan lowest dari setiap polusi disetiap kota"
      ],
      "metadata": {
        "id": "th_Lzl2Fkj9O"
      }
    },
    {
      "cell_type": "markdown",
      "metadata": {
        "id": "zsyZjqak8DC2"
      },
      "source": [
        "## Visualization & Explanatory Analysis"
      ]
    },
    {
      "cell_type": "markdown",
      "metadata": {
        "id": "HZxOiQ6n8DC2"
      },
      "source": [
        "### Pertanyaan 1:"
      ]
    },
    {
      "cell_type": "code",
      "source": [
        "# menentukan warna chart\n",
        "colors = ['blue' if (month != peak_month and month != lowest_month) else 'red' if month == peak_month else 'green' for month in monthly_pollution.index]"
      ],
      "metadata": {
        "id": "iIle9zYf9tuM"
      },
      "execution_count": null,
      "outputs": []
    },
    {
      "cell_type": "code",
      "source": [
        "fig, ax = plt.subplots()\n",
        "\n",
        "# membuat bar chart berdasarkan data\n",
        "monthly_pollution.plot(kind='bar', ax=ax, color=colors)\n",
        "\n",
        "# menambahkan label\n",
        "ax.set_xlabel(\"Month\")\n",
        "ax.set_ylabel(f\"{pollutant} Levels\")\n",
        "ax.set_title(f\"Monthly {pollutant} Levels in {city} ({year})\")"
      ],
      "metadata": {
        "colab": {
          "base_uri": "https://localhost:8080/",
          "height": 568
        },
        "collapsed": true,
        "id": "xTh1T_kg9rAp",
        "outputId": "c9a86abd-85d7-4565-b3f3-fb030e491b5d"
      },
      "execution_count": null,
      "outputs": [
        {
          "output_type": "execute_result",
          "data": {
            "text/plain": [
              "Text(0.5, 1.0, 'Monthly PM2.5 Levels in Shunyi (2013)')"
            ]
          },
          "metadata": {},
          "execution_count": 53
        },
        {
          "output_type": "display_data",
          "data": {
            "text/plain": [
              "<Figure size 640x480 with 1 Axes>"
            ],
            "image/png": "[encoded data removed]"
          },
          "metadata": {}
        }
      ]
    },
    {
      "cell_type": "code",
      "source": [
        "# rotasi label pada x-axis\n",
        "ax.set_xticklabels(monthly_pollution.index, rotation=45)"
      ],
      "metadata": {
        "colab": {
          "base_uri": "https://localhost:8080/"
        },
        "collapsed": true,
        "id": "FAjPiAyn90my",
        "outputId": "2d1b5a7e-0174-4319-bebe-58805216c4be"
      },
      "execution_count": null,
      "outputs": [
        {
          "output_type": "execute_result",
          "data": {
            "text/plain": [
              "[Text(0, 0, 'March'),\n",
              " Text(1, 0, 'April'),\n",
              " Text(2, 0, 'May'),\n",
              " Text(3, 0, 'June'),\n",
              " Text(4, 0, 'July'),\n",
              " Text(5, 0, 'August'),\n",
              " Text(6, 0, 'September'),\n",
              " Text(7, 0, 'October'),\n",
              " Text(8, 0, 'November'),\n",
              " Text(9, 0, 'December')]"
            ]
          },
          "metadata": {},
          "execution_count": 54
        }
      ]
    },
    {
      "cell_type": "code",
      "source": [
        "# menambahkan legend\n",
        "from matplotlib.lines import Line2D\n",
        "\n",
        "# mendefinisikan legend\n",
        "legend_elements = [\n",
        "        Line2D([0], [0], color='red', lw=2, label='Peak'),\n",
        "        Line2D([0], [0], color='green', lw=2, label='Lowest'),\n",
        "        Line2D([0], [0], color='blue', lw=2, label='Average')\n",
        "    ]\n"
      ],
      "metadata": {
        "id": "om-WAo-g94Js"
      },
      "execution_count": null,
      "outputs": []
    },
    {
      "cell_type": "code",
      "source": [
        "# menambahkan legend ke plot\n",
        "ax.legend(handles=legend_elements, loc='upper right')\n",
        "# menampilkan plot\n",
        "st.pyplot(fig)\n",
        "\n",
        "# menampilkan peak and lowest month and value\n",
        "st.write(f\"The peak of {pollutant} pollution in {city} was in {year}:\")\n",
        "st.write(f\"Month: {peak_month}, Value: {peak_value:.2f}\")\n",
        "st.write(f\"The Lowest of {pollutant} pollution in {city} was in {year}:\")\n",
        "st.write(f\"Month: {lowest_month}, Value: {lowest_value:.2f}\")"
      ],
      "metadata": {
        "colab": {
          "base_uri": "https://localhost:8080/"
        },
        "collapsed": true,
        "id": "1ci0hhUT96tN",
        "outputId": "14c8efec-0f6e-4d0d-f364-b1c4471da6f5"
      },
      "execution_count": null,
      "outputs": [
        {
          "output_type": "stream",
          "name": "stderr",
          "text": [
            "2024-10-02 04:30:52.601 Thread 'MainThread': missing ScriptRunContext! This warning can be ignored when running in bare mode.\n",
            "2024-10-02 04:30:53.086 Thread 'MainThread': missing ScriptRunContext! This warning can be ignored when running in bare mode.\n",
            "2024-10-02 04:30:53.092 Thread 'MainThread': missing ScriptRunContext! This warning can be ignored when running in bare mode.\n",
            "2024-10-02 04:30:53.096 Thread 'MainThread': missing ScriptRunContext! This warning can be ignored when running in bare mode.\n",
            "2024-10-02 04:30:53.098 Thread 'MainThread': missing ScriptRunContext! This warning can be ignored when running in bare mode.\n",
            "2024-10-02 04:30:53.101 Thread 'MainThread': missing ScriptRunContext! This warning can be ignored when running in bare mode.\n",
            "2024-10-02 04:30:53.104 Thread 'MainThread': missing ScriptRunContext! This warning can be ignored when running in bare mode.\n",
            "2024-10-02 04:30:53.106 Thread 'MainThread': missing ScriptRunContext! This warning can be ignored when running in bare mode.\n",
            "2024-10-02 04:30:53.109 Thread 'MainThread': missing ScriptRunContext! This warning can be ignored when running in bare mode.\n",
            "2024-10-02 04:30:53.110 Thread 'MainThread': missing ScriptRunContext! This warning can be ignored when running in bare mode.\n",
            "2024-10-02 04:30:53.112 Thread 'MainThread': missing ScriptRunContext! This warning can be ignored when running in bare mode.\n",
            "2024-10-02 04:30:53.114 Thread 'MainThread': missing ScriptRunContext! This warning can be ignored when running in bare mode.\n",
            "2024-10-02 04:30:53.115 Thread 'MainThread': missing ScriptRunContext! This warning can be ignored when running in bare mode.\n",
            "2024-10-02 04:30:53.116 Thread 'MainThread': missing ScriptRunContext! This warning can be ignored when running in bare mode.\n",
            "2024-10-02 04:30:53.117 Thread 'MainThread': missing ScriptRunContext! This warning can be ignored when running in bare mode.\n",
            "2024-10-02 04:30:53.120 Thread 'MainThread': missing ScriptRunContext! This warning can be ignored when running in bare mode.\n",
            "2024-10-02 04:30:53.122 Thread 'MainThread': missing ScriptRunContext! This warning can be ignored when running in bare mode.\n",
            "2024-10-02 04:30:53.129 Thread 'MainThread': missing ScriptRunContext! This warning can be ignored when running in bare mode.\n",
            "2024-10-02 04:30:53.130 Thread 'MainThread': missing ScriptRunContext! This warning can be ignored when running in bare mode.\n"
          ]
        }
      ]
    },
    {
      "cell_type": "markdown",
      "metadata": {
        "id": "DgHI7CiU8DC2"
      },
      "source": [
        "### Pertanyaan 2:"
      ]
    },
    {
      "cell_type": "code",
      "execution_count": null,
      "metadata": {
        "id": "Go0lCsvO8DC2",
        "colab": {
          "base_uri": "https://localhost:8080/",
          "height": 573
        },
        "collapsed": true,
        "outputId": "d011d8c8-523f-4c4d-da47-a38abc67c0a9"
      },
      "outputs": [
        {
          "output_type": "display_data",
          "data": {
            "text/plain": [
              "<Figure size 1000x600 with 1 Axes>"
            ],
            "image/png": "[encoded data removed]"
          },
          "metadata": {}
        }
      ],
      "source": [
        "# Plot seasonal trends for PM2.5 as an example\n",
        "seasonal_avg_combined['PM2.5'].unstack(level=0).plot(kind='bar', figsize=(10,6))\n",
        "plt.title('Seasonal Trends in PM2.5 Levels Across Stations')\n",
        "plt.ylabel('PM2.5 Concentration (µg/m³)')\n",
        "plt.xlabel('Season')\n",
        "plt.xticks(rotation=0)\n",
        "plt.show()"
      ]
    },
    {
      "cell_type": "markdown",
      "source": [
        "**Insight:**\n",
        "- Hasil analisis data saya menggunakan bar chart karna sangat cocok untuk perbandingan antar kategori dan cocok untuk menvisualisasikan tinggi dan rendahnya suatu nilai"
      ],
      "metadata": {
        "id": "_0-36BDLklRg"
      }
    },
    {
      "cell_type": "markdown",
      "source": [
        "## Analisis Lanjutan (Opsional)"
      ],
      "metadata": {
        "id": "9y4VUsmcYNZ5"
      }
    },
    {
      "cell_type": "markdown",
      "source": [
        "RFM (recency,frequency,monetary)"
      ],
      "metadata": {
        "id": "yuDcoDLEHEca"
      }
    },
    {
      "cell_type": "code",
      "source": [
        "dfShunyi.loc[:, 'datetime'] = pd.to_datetime(dfShunyi[['year', 'month', 'day', 'hour']])\n",
        "dfTiantan.loc[:, 'datetime'] = pd.to_datetime(dfTiantan[['year', 'month', 'day', 'hour']])\n",
        "dfWanliu.loc[:, 'datetime'] = pd.to_datetime(dfWanliu[['year', 'month', 'day', 'hour']])"
      ],
      "metadata": {
        "id": "gpqoghBxRBG1"
      },
      "execution_count": null,
      "outputs": []
    },
    {
      "cell_type": "code",
      "source": [
        "dfShunyi.info()\n",
        "dfTiantan.info()\n",
        "dfWanliu.info()"
      ],
      "metadata": {
        "colab": {
          "base_uri": "https://localhost:8080/"
        },
        "collapsed": true,
        "id": "l2nd8ru4RIEj",
        "outputId": "9da23c71-8373-4c57-f44f-a71549e5a994"
      },
      "execution_count": null,
      "outputs": [
        {
          "output_type": "stream",
          "name": "stdout",
          "text": [
            "<class 'pandas.core.frame.DataFrame'>\n",
            "DatetimeIndex: 34581 entries, 2013-03-01 00:00:00 to 2017-02-28 23:00:00\n",
            "Data columns (total 18 columns):\n",
            " #   Column    Non-Null Count  Dtype         \n",
            "---  ------    --------------  -----         \n",
            " 0   No        34581 non-null  int64         \n",
            " 1   year      34581 non-null  int64         \n",
            " 2   month     34581 non-null  int64         \n",
            " 3   day       34581 non-null  int64         \n",
            " 4   hour      34581 non-null  int64         \n",
            " 5   PM2.5     34581 non-null  float64       \n",
            " 6   PM10      34581 non-null  float64       \n",
            " 7   SO2       34581 non-null  float64       \n",
            " 8   NO2       34581 non-null  float64       \n",
            " 9   CO        34581 non-null  float64       \n",
            " 10  O3        34581 non-null  float64       \n",
            " 11  TEMP      34581 non-null  float64       \n",
            " 12  PRES      34581 non-null  float64       \n",
            " 13  DEWP      34581 non-null  float64       \n",
            " 14  RAIN      34581 non-null  float64       \n",
            " 15  WSPM      34581 non-null  float64       \n",
            " 16  season    34581 non-null  object        \n",
            " 17  datetime  34581 non-null  datetime64[ns]\n",
            "dtypes: datetime64[ns](1), float64(11), int64(5), object(1)\n",
            "memory usage: 5.0+ MB\n",
            "<class 'pandas.core.frame.DataFrame'>\n",
            "DatetimeIndex: 34986 entries, 2013-03-01 00:00:00 to 2017-02-28 23:00:00\n",
            "Data columns (total 18 columns):\n",
            " #   Column    Non-Null Count  Dtype         \n",
            "---  ------    --------------  -----         \n",
            " 0   No        34986 non-null  int64         \n",
            " 1   year      34986 non-null  int64         \n",
            " 2   month     34986 non-null  int64         \n",
            " 3   day       34986 non-null  int64         \n",
            " 4   hour      34986 non-null  int64         \n",
            " 5   PM2.5     34986 non-null  float64       \n",
            " 6   PM10      34986 non-null  float64       \n",
            " 7   SO2       34986 non-null  float64       \n",
            " 8   NO2       34986 non-null  float64       \n",
            " 9   CO        34986 non-null  float64       \n",
            " 10  O3        34986 non-null  float64       \n",
            " 11  TEMP      34986 non-null  float64       \n",
            " 12  PRES      34986 non-null  float64       \n",
            " 13  DEWP      34986 non-null  float64       \n",
            " 14  RAIN      34986 non-null  float64       \n",
            " 15  WSPM      34986 non-null  float64       \n",
            " 16  season    34986 non-null  object        \n",
            " 17  datetime  34986 non-null  datetime64[ns]\n",
            "dtypes: datetime64[ns](1), float64(11), int64(5), object(1)\n",
            "memory usage: 5.1+ MB\n",
            "<class 'pandas.core.frame.DataFrame'>\n",
            "DatetimeIndex: 34941 entries, 2013-03-01 00:00:00 to 2017-02-28 23:00:00\n",
            "Data columns (total 18 columns):\n",
            " #   Column    Non-Null Count  Dtype         \n",
            "---  ------    --------------  -----         \n",
            " 0   No        34941 non-null  int64         \n",
            " 1   year      34941 non-null  int64         \n",
            " 2   month     34941 non-null  int64         \n",
            " 3   day       34941 non-null  int64         \n",
            " 4   hour      34941 non-null  int64         \n",
            " 5   PM2.5     34941 non-null  float64       \n",
            " 6   PM10      34941 non-null  float64       \n",
            " 7   SO2       34941 non-null  float64       \n",
            " 8   NO2       34941 non-null  float64       \n",
            " 9   CO        34941 non-null  float64       \n",
            " 10  O3        34941 non-null  float64       \n",
            " 11  TEMP      34941 non-null  float64       \n",
            " 12  PRES      34941 non-null  float64       \n",
            " 13  DEWP      34941 non-null  float64       \n",
            " 14  RAIN      34941 non-null  float64       \n",
            " 15  WSPM      34941 non-null  float64       \n",
            " 16  season    34941 non-null  object        \n",
            " 17  datetime  34941 non-null  datetime64[ns]\n",
            "dtypes: datetime64[ns](1), float64(11), int64(5), object(1)\n",
            "memory usage: 5.1+ MB\n"
          ]
        }
      ]
    },
    {
      "cell_type": "code",
      "source": [
        "# Mendefinisikan kejadian polusi sebagai hari dengan PM2.5 > 100 µg/m³\n",
        "pollution_threshold = 100\n",
        "\n",
        "# Recency: Hari sejak kejadian polusi terakhir untuk setiap musim\n",
        "dfShunyi['pollution_event'] = dfShunyi['PM2.5'] > pollution_threshold\n",
        "last_event_shunyi = dfShunyi.groupby('season')['datetime'].max() - dfShunyi[dfShunyi['pollution_event']].groupby('season')['datetime'].max()\n",
        "last_event_shunyi = last_event_shunyi.dt.days\n",
        "\n",
        "# Frequency: Jumlah kejadian polusi per musim\n",
        "freq_shunyi = dfShunyi[dfShunyi['pollution_event']].groupby('season').size()\n",
        "\n",
        "# Monetary: Jumlah atau rata-rata nilai polutan ( menggunakan rata-rata PM2.5 di sini)\n",
        "monetary_shunyi = dfShunyi.groupby('season')['PM2.5'].sum()\n",
        "\n",
        "# Kombinasi RFM matrix\n",
        "rfm_shunyi = pd.DataFrame({'Recency': last_event_shunyi, 'Frequency': freq_shunyi, 'Monetary': monetary_shunyi})\n",
        "print(rfm_shunyi)"
      ],
      "metadata": {
        "id": "iWhnzsJGYUCO",
        "colab": {
          "base_uri": "https://localhost:8080/"
        },
        "collapsed": true,
        "outputId": "72e2994f-5d6d-4370-b96f-df1c0a539810"
      },
      "execution_count": null,
      "outputs": [
        {
          "output_type": "stream",
          "name": "stdout",
          "text": [
            "        Recency  Frequency       Monetary\n",
            "season                                   \n",
            "Fall          0       2392  676850.692879\n",
            "Spring        0       2454  687032.870013\n",
            "Summer        6       1871  582779.295845\n",
            "Winter        1       2843  784497.791464\n"
          ]
        }
      ]
    },
    {
      "cell_type": "code",
      "source": [
        "# Mendefinisikan kejadian polusi sebagai hari dengan PM2.5 > 100 µg/m³\n",
        "pollution_threshold = 100\n",
        "\n",
        "# Recency: Hari sejak kejadian polusi terakhir untuk setiap musim\n",
        "dfTiantan['pollution_event'] = dfTiantan['PM2.5'] > pollution_threshold\n",
        "last_event_tiantan = dfTiantan.groupby('season')['datetime'].max() - dfTiantan[dfTiantan['pollution_event']].groupby('season')['datetime'].max()\n",
        "last_event_tiantan = last_event_tiantan.dt.days\n",
        "\n",
        "# Frequency: Jumlah kejadian polusi per musim\n",
        "freq_tiantan = dfTiantan[dfTiantan['pollution_event']].groupby('season').size()\n",
        "\n",
        "# Monetary: Jumlah atau rata-rata nilai polutan ( menggunakan rata-rata PM2.5 di sini)\n",
        "monetary_tiantan = dfTiantan.groupby('season')['PM2.5'].sum()\n",
        "\n",
        "# Kombinasi RFM matrix\n",
        "rfm_tiantan = pd.DataFrame({'Recency': last_event_tiantan, 'Frequency': freq_tiantan, 'Monetary': monetary_tiantan})\n",
        "print(rfm_tiantan)"
      ],
      "metadata": {
        "colab": {
          "base_uri": "https://localhost:8080/"
        },
        "id": "8fiGh6VQFQYS",
        "outputId": "4877d9d0-25e8-48bc-edf7-865879a42040"
      },
      "execution_count": null,
      "outputs": [
        {
          "output_type": "stream",
          "name": "stdout",
          "text": [
            "        Recency  Frequency       Monetary\n",
            "season                                   \n",
            "Fall          0       2664  731011.284072\n",
            "Spring        1       2289  671820.608564\n",
            "Summer        6       1973  605901.527918\n",
            "Winter        1       3164  865248.024300\n"
          ]
        }
      ]
    },
    {
      "cell_type": "code",
      "source": [
        "# Mendefinisikan kejadian polusi sebagai hari dengan PM2.5 > 100 µg/m³\n",
        "pollution_threshold = 100\n",
        "\n",
        "# Recency: Hari sejak kejadian polusi terakhir untuk setiap musim\n",
        "dfWanliu['pollution_event'] = dfWanliu['PM2.5'] > pollution_threshold\n",
        "last_event_wanliu = dfWanliu.groupby('season')['datetime'].max() - dfWanliu[dfWanliu['pollution_event']].groupby('season')['datetime'].max()\n",
        "last_event_wanliu = last_event_wanliu.dt.days\n",
        "\n",
        "# Frequency: Jumlah kejadian polusi per musim\n",
        "freq_wanliu = dfWanliu[dfWanliu['pollution_event']].groupby('season').size()\n",
        "\n",
        "# Monetary: Jumlah atau rata-rata nilai polutan ( menggunakan rata-rata PM2.5 di sini)\n",
        "monetary_wanliu = dfWanliu.groupby('season')['PM2.5'].sum()\n",
        "\n",
        "# Kombinasi RFM matrix\n",
        "rfm_wanliu = pd.DataFrame({'Recency': last_event_wanliu, 'Frequency': freq_wanliu, 'Monetary': monetary_wanliu})\n",
        "print(rfm_wanliu)"
      ],
      "metadata": {
        "colab": {
          "base_uri": "https://localhost:8080/"
        },
        "id": "dUUUdyYiGc2D",
        "outputId": "ae1575d7-c35b-4aa9-b985-8493403f8117"
      },
      "execution_count": null,
      "outputs": [
        {
          "output_type": "stream",
          "name": "stdout",
          "text": [
            "        Recency  Frequency       Monetary\n",
            "season                                   \n",
            "Fall          0       2680  745165.493475\n",
            "Spring        0       2461  701517.544043\n",
            "Summer        7       1980  606878.179551\n",
            "Winter        6       3295  859336.824439\n"
          ]
        }
      ]
    },
    {
      "cell_type": "code",
      "source": [
        "#membuat fungsi untuk mempercepat pembuatan RFM\n",
        "def calculate_rfm(df, pollution_threshold=100, pollutant_column='PM2.5'):\n",
        "    # Define pollution event as days where PM2.5 > pollution_threshold\n",
        "    df['pollution_event'] = df[pollutant_column] > pollution_threshold\n",
        "\n",
        "    # Recency: Days since the last pollution event for each season\n",
        "    last_event = df.groupby('season')['datetime'].max() - df[df['pollution_event']].groupby('season')['datetime'].max()\n",
        "    last_event = last_event.dt.days  # Convert to number of days\n",
        "\n",
        "    # Frequency: Number of pollution events per season\n",
        "    freq = df[df['pollution_event']].groupby('season').size()\n",
        "\n",
        "    # Monetary: Sum of the pollutant values (or you can use mean) - using PM2.5 as an example\n",
        "    monetary = df.groupby('season')[pollutant_column].sum()\n",
        "\n",
        "    # Combine Recency, Frequency, and Monetary into an RFM matrix\n",
        "    rfm = pd.DataFrame({\n",
        "        'Recency': last_event,\n",
        "        'Frequency': freq,\n",
        "        'Monetary': monetary\n",
        "    })\n",
        "\n",
        "    return rfm\n",
        "\n",
        "# Example usage for Shunyi, Tiantan, and Wanliu\n",
        "rfm_shunyi = calculate_rfm(dfShunyi)\n",
        "rfm_tiantan = calculate_rfm(dfTiantan)\n",
        "rfm_wanliu = calculate_rfm(dfWanliu)\n",
        "\n",
        "# Print the results for each city\n",
        "print(\"RFM for Shunyi:\\n\", rfm_shunyi)\n",
        "print(\"RFM for Tiantan:\\n\", rfm_tiantan)\n",
        "print(\"RFM for Wanliu:\\n\", rfm_wanliu)\n"
      ],
      "metadata": {
        "colab": {
          "base_uri": "https://localhost:8080/"
        },
        "id": "4dWUGzPRUR3F",
        "outputId": "4ceaf704-24b8-4ca1-dbdf-c5012d21b8b3"
      },
      "execution_count": null,
      "outputs": [
        {
          "output_type": "stream",
          "name": "stdout",
          "text": [
            "RFM for Shunyi:\n",
            "         Recency  Frequency       Monetary\n",
            "season                                   \n",
            "Fall          0       2392  676850.692879\n",
            "Spring        0       2454  687032.870013\n",
            "Summer        6       1871  582779.295845\n",
            "Winter        1       2843  784497.791464\n",
            "RFM for Tiantan:\n",
            "         Recency  Frequency       Monetary\n",
            "season                                   \n",
            "Fall          0       2664  731011.284072\n",
            "Spring        1       2289  671820.608564\n",
            "Summer        6       1973  605901.527918\n",
            "Winter        1       3164  865248.024300\n",
            "RFM for Wanliu:\n",
            "         Recency  Frequency       Monetary\n",
            "season                                   \n",
            "Fall          0       2680  745165.493475\n",
            "Spring        0       2461  701517.544043\n",
            "Summer        7       1980  606878.179551\n",
            "Winter        6       3295  859336.824439\n"
          ]
        }
      ]
    },
    {
      "cell_type": "code",
      "source": [
        "# Bar charts for RFM Analysis\n",
        "fig, axes = plt.subplots(1, 3, figsize=(18, 5))\n",
        "\n",
        "# Recency Bar Chart\n",
        "rfm_shunyi['Recency'].plot(kind='bar', ax=axes[0], color='skyblue')\n",
        "axes[0].set_title('Recency: Days Since Last Pollution Event')\n",
        "axes[0].set_ylabel('Days')\n",
        "axes[0].set_xlabel('Season')\n",
        "\n",
        "# Frequency Bar Chart\n",
        "rfm_shunyi['Frequency'].plot(kind='bar', ax=axes[1], color='lightgreen')\n",
        "axes[1].set_title('Frequency: Number of Pollution Events')\n",
        "axes[1].set_ylabel('Number of Events')\n",
        "axes[1].set_xlabel('Season')\n",
        "\n",
        "# Monetary Bar Chart\n",
        "rfm_shunyi['Monetary'].plot(kind='bar', ax=axes[2], color='salmon')\n",
        "axes[2].set_title('Monetary: Total PM2.5 Concentration')\n",
        "axes[2].set_ylabel('Total PM2.5 (µg/m³)')\n",
        "axes[2].set_xlabel('Season')\n",
        "\n",
        "plt.tight_layout()\n",
        "plt.show()"
      ],
      "metadata": {
        "colab": {
          "base_uri": "https://localhost:8080/",
          "height": 365
        },
        "id": "6BEAUZ-lR9sj",
        "outputId": "98dbf7ee-7b1a-4237-874e-0e052ec3b35d"
      },
      "execution_count": null,
      "outputs": [
        {
          "output_type": "display_data",
          "data": {
            "text/plain": [
              "<Figure size 1800x500 with 3 Axes>"
            ],
            "image/png": "[encoded data removed]"
          },
          "metadata": {}
        }
      ]
    },
    {
      "cell_type": "markdown",
      "source": [
        "Clusterring"
      ],
      "metadata": {
        "id": "nat3GwcAHNau"
      }
    },
    {
      "cell_type": "code",
      "source": [
        "# menentukan bins untuk Recency, Frequency, and Monetary\n",
        "recency_bins = [0, 30, 90, 180]  # Days since last pollution event\n",
        "frequency_bins = [0, 5, 15, 30]  # Number of pollution events per season\n",
        "monetary_bins = [0, 500, 1000, 2000]  # PM2.5 sum\n",
        "\n",
        "# menggunakan bins\n",
        "rfm_shunyi['RecencyCluster'] = pd.cut(rfm_shunyi['Recency'], bins=recency_bins, labels=['Very Recent', 'Recent', 'Distant'])\n",
        "rfm_shunyi['FrequencyCluster'] = pd.cut(rfm_shunyi['Frequency'], bins=frequency_bins, labels=['Low', 'Medium', 'High'])\n",
        "rfm_shunyi['MonetaryCluster'] = pd.cut(rfm_shunyi['Monetary'], bins=monetary_bins, labels=['Low', 'Medium', 'High'])\n",
        "\n",
        "rfm_tiantan['RecencyCluster'] = pd.cut(rfm_tiantan['Recency'], bins=recency_bins, labels=['Very Recent', 'Recent', 'Distant'])\n",
        "rfm_tiantan['FrequencyCluster'] = pd.cut(rfm_tiantan['Frequency'], bins=frequency_bins, labels=['Low', 'Medium', 'High'])\n",
        "rfm_tiantan['MonetaryCluster'] = pd.cut(rfm_tiantan['Monetary'], bins=monetary_bins, labels=['Low', 'Medium', 'High'])\n",
        "\n",
        "rfm_wanliu['RecencyCluster'] = pd.cut(rfm_wanliu['Recency'], bins=recency_bins, labels=['Very Recent', 'Recent', 'Distant'])\n",
        "rfm_wanliu['FrequencyCluster'] = pd.cut(rfm_wanliu['Frequency'], bins=frequency_bins, labels=['Low', 'Medium', 'High'])\n",
        "rfm_wanliu['MonetaryCluster'] = pd.cut(rfm_wanliu['Monetary'], bins=monetary_bins, labels=['Low', 'Medium', 'High'])\n",
        "\n",
        "# Print the clustering result\n",
        "print(rfm_shunyi)\n",
        "print(rfm_tiantan)\n",
        "print(rfm_wanliu)"
      ],
      "metadata": {
        "colab": {
          "base_uri": "https://localhost:8080/"
        },
        "id": "P3nMhaHqHMcS",
        "outputId": "9e72283a-c367-42c9-e654-5f5c6c587244"
      },
      "execution_count": null,
      "outputs": [
        {
          "output_type": "stream",
          "name": "stdout",
          "text": [
            "        Recency  Frequency       Monetary RecencyCluster FrequencyCluster  \\\n",
            "season                                                                      \n",
            "Fall          0       2392  676850.692879            NaN              NaN   \n",
            "Spring        0       2454  687032.870013            NaN              NaN   \n",
            "Summer        6       1871  582779.295845    Very Recent              NaN   \n",
            "Winter        1       2843  784497.791464    Very Recent              NaN   \n",
            "\n",
            "       MonetaryCluster  \n",
            "season                  \n",
            "Fall               NaN  \n",
            "Spring             NaN  \n",
            "Summer             NaN  \n",
            "Winter             NaN  \n",
            "        Recency  Frequency       Monetary RecencyCluster FrequencyCluster  \\\n",
            "season                                                                      \n",
            "Fall          0       2664  731011.284072            NaN              NaN   \n",
            "Spring        1       2289  671820.608564    Very Recent              NaN   \n",
            "Summer        6       1973  605901.527918    Very Recent              NaN   \n",
            "Winter        1       3164  865248.024300    Very Recent              NaN   \n",
            "\n",
            "       MonetaryCluster  \n",
            "season                  \n",
            "Fall               NaN  \n",
            "Spring             NaN  \n",
            "Summer             NaN  \n",
            "Winter             NaN  \n",
            "        Recency  Frequency       Monetary RecencyCluster FrequencyCluster  \\\n",
            "season                                                                      \n",
            "Fall          0       2680  745165.493475            NaN              NaN   \n",
            "Spring        0       2461  701517.544043            NaN              NaN   \n",
            "Summer        7       1980  606878.179551    Very Recent              NaN   \n",
            "Winter        6       3295  859336.824439    Very Recent              NaN   \n",
            "\n",
            "       MonetaryCluster  \n",
            "season                  \n",
            "Fall               NaN  \n",
            "Spring             NaN  \n",
            "Summer             NaN  \n",
            "Winter             NaN  \n"
          ]
        }
      ]
    },
    {
      "cell_type": "code",
      "source": [
        "print(rfm_shunyi.isnull().sum())"
      ],
      "metadata": {
        "colab": {
          "base_uri": "https://localhost:8080/"
        },
        "id": "l3yrjC5FTQeG",
        "outputId": "3253e33f-0f5f-4d75-e14e-8b9b018f439b"
      },
      "execution_count": null,
      "outputs": [
        {
          "output_type": "stream",
          "name": "stdout",
          "text": [
            "Recency             0\n",
            "Frequency           0\n",
            "Monetary            0\n",
            "RecencyCluster      2\n",
            "FrequencyCluster    4\n",
            "MonetaryCluster     4\n",
            "dtype: int64\n"
          ]
        }
      ]
    },
    {
      "cell_type": "code",
      "source": [
        "# Add 'Unknown' as a valid category\n",
        "rfm_shunyi['RecencyCluster'] = rfm_shunyi['RecencyCluster'].cat.add_categories('Unknown')\n",
        "rfm_shunyi['FrequencyCluster'] = rfm_shunyi['FrequencyCluster'].cat.add_categories('Unknown')\n",
        "rfm_shunyi['MonetaryCluster'] = rfm_shunyi['MonetaryCluster'].cat.add_categories('Unknown')\n",
        "\n",
        "# Now fill missing values with 'Unknown'\n",
        "rfm_shunyi['RecencyCluster'].fillna('Unknown', inplace=True)\n",
        "rfm_shunyi['FrequencyCluster'].fillna('Unknown', inplace=True)\n",
        "rfm_shunyi['MonetaryCluster'].fillna('Unknown', inplace=True)"
      ],
      "metadata": {
        "id": "ka9QUWNYTXHB",
        "colab": {
          "base_uri": "https://localhost:8080/"
        },
        "outputId": "c8510e56-71e6-42e1-f27c-edc15e3d478b"
      },
      "execution_count": null,
      "outputs": [
        {
          "output_type": "stream",
          "name": "stderr",
          "text": [
            "<ipython-input-67-b21843a8443d>:7: FutureWarning: A value is trying to be set on a copy of a DataFrame or Series through chained assignment using an inplace method.\n",
            "The behavior will change in pandas 3.0. This inplace method will never work because the intermediate object on which we are setting values always behaves as a copy.\n",
            "\n",
            "For example, when doing 'df[col].method(value, inplace=True)', try using 'df.method({col: value}, inplace=True)' or df[col] = df[col].method(value) instead, to perform the operation inplace on the original object.\n",
            "\n",
            "\n",
            "  rfm_shunyi['RecencyCluster'].fillna('Unknown', inplace=True)\n",
            "<ipython-input-67-b21843a8443d>:8: FutureWarning: A value is trying to be set on a copy of a DataFrame or Series through chained assignment using an inplace method.\n",
            "The behavior will change in pandas 3.0. This inplace method will never work because the intermediate object on which we are setting values always behaves as a copy.\n",
            "\n",
            "For example, when doing 'df[col].method(value, inplace=True)', try using 'df.method({col: value}, inplace=True)' or df[col] = df[col].method(value) instead, to perform the operation inplace on the original object.\n",
            "\n",
            "\n",
            "  rfm_shunyi['FrequencyCluster'].fillna('Unknown', inplace=True)\n",
            "<ipython-input-67-b21843a8443d>:9: FutureWarning: A value is trying to be set on a copy of a DataFrame or Series through chained assignment using an inplace method.\n",
            "The behavior will change in pandas 3.0. This inplace method will never work because the intermediate object on which we are setting values always behaves as a copy.\n",
            "\n",
            "For example, when doing 'df[col].method(value, inplace=True)', try using 'df.method({col: value}, inplace=True)' or df[col] = df[col].method(value) instead, to perform the operation inplace on the original object.\n",
            "\n",
            "\n",
            "  rfm_shunyi['MonetaryCluster'].fillna('Unknown', inplace=True)\n"
          ]
        }
      ]
    },
    {
      "cell_type": "code",
      "source": [
        "# Map the clusters to the correct colors\n",
        "colors = {'Very Recent': 'red', 'Recent': 'blue', 'Distant': 'green', 'Unknown': 'gray'}"
      ],
      "metadata": {
        "id": "UxdNZG6HUGyc"
      },
      "execution_count": null,
      "outputs": []
    },
    {
      "cell_type": "code",
      "source": [
        "def process_rfm_clusters(rfm):\n",
        "    # Add 'Unknown' as a category to the clusters\n",
        "    rfm['RecencyCluster'] = rfm['RecencyCluster'].cat.add_categories('Unknown')\n",
        "    rfm['FrequencyCluster'] = rfm['FrequencyCluster'].cat.add_categories('Unknown')\n",
        "    rfm['MonetaryCluster'] = rfm['MonetaryCluster'].cat.add_categories('Unknown')\n",
        "\n",
        "    # Fill missing values with 'Unknown'\n",
        "    rfm['RecencyCluster'].fillna('Unknown', inplace=True)\n",
        "    rfm['FrequencyCluster'].fillna('Unknown', inplace=True)\n",
        "    rfm['MonetaryCluster'].fillna('Unknown', inplace=True)\n",
        "\n",
        "    return rfm"
      ],
      "metadata": {
        "id": "TpSWos3kntic"
      },
      "execution_count": null,
      "outputs": []
    },
    {
      "cell_type": "code",
      "source": [
        "def plot_rfm_scatter(rfm, city_name):\n",
        "    colors = {'Very Recent': 'red', 'Recent': 'blue', 'Distant': 'green', 'Unknown': 'gray'}\n",
        "    plt.figure(figsize=(10, 6))\n",
        "\n",
        "    # Scatter plot with Recency vs Frequency using color mapping based on RecencyCluster\n",
        "    plt.scatter(rfm['Recency'], rfm['Frequency'],\n",
        "                c=rfm['RecencyCluster'].map(colors),\n",
        "                s=rfm['Monetary'] / 10, alpha=0.6)\n",
        "\n",
        "    plt.title(f'RFM Clustering (Recency vs Frequency) for {city_name}')\n",
        "    plt.xlabel('Recency (Days Since Last Event)')\n",
        "    plt.ylabel('Frequency (Number of Events)')\n",
        "    st.pyplot(plt)"
      ],
      "metadata": {
        "id": "QRm63YRMnyBH"
      },
      "execution_count": null,
      "outputs": []
    },
    {
      "cell_type": "code",
      "source": [
        "plt.figure(figsize=(10, 6))\n",
        "\n",
        "# Scatter plot with Recency vs Frequency using color mapping based on RecencyCluster\n",
        "plt.scatter(rfm_shunyi['Recency'], rfm_shunyi['Frequency'],\n",
        "            c=rfm_shunyi['RecencyCluster'].map(colors),\n",
        "            s=rfm_shunyi['Monetary'] / 10, alpha=0.6)\n",
        "\n",
        "plt.title('RFM Clustering (Recency vs Frequency)')\n",
        "plt.xlabel('Recency (Days Since Last Event)')\n",
        "plt.ylabel('Frequency (Number of Events)')\n",
        "plt.show()"
      ],
      "metadata": {
        "colab": {
          "base_uri": "https://localhost:8080/",
          "height": 573
        },
        "id": "xwMqV7SaSQva",
        "outputId": "8b3411d2-6eab-4330-bc19-b5d5cb8ff70d"
      },
      "execution_count": null,
      "outputs": [
        {
          "output_type": "display_data",
          "data": {
            "text/plain": [
              "<Figure size 1000x600 with 1 Axes>"
            ],
            "image/png": "[encoded data removed]"
          },
          "metadata": {}
        }
      ]
    },
    {
      "cell_type": "code",
      "source": [
        "# Check unique values in RecencyCluster and FrequencyCluster\n",
        "print(\"Recency Clusters:\", rfm_shunyi['RecencyCluster'].unique())\n",
        "print(\"Frequency Clusters:\", rfm_shunyi['FrequencyCluster'].unique())\n"
      ],
      "metadata": {
        "colab": {
          "base_uri": "https://localhost:8080/"
        },
        "id": "K9yYB92lU0L1",
        "outputId": "a8906236-f22c-4b66-94b9-32b95ea0dfc6"
      },
      "execution_count": null,
      "outputs": [
        {
          "output_type": "stream",
          "name": "stdout",
          "text": [
            "Recency Clusters: ['Unknown', 'Very Recent']\n",
            "Categories (4, object): ['Very Recent' < 'Recent' < 'Distant' < 'Unknown']\n",
            "Frequency Clusters: ['Unknown']\n",
            "Categories (4, object): ['Low' < 'Medium' < 'High' < 'Unknown']\n"
          ]
        }
      ]
    },
    {
      "cell_type": "code",
      "source": [
        "# Check the first few rows of rfm_shunyi to ensure data is present\n",
        "print(rfm_shunyi.head())\n",
        "print(\"Shape of rfm_shunyi:\", rfm_shunyi.shape)"
      ],
      "metadata": {
        "colab": {
          "base_uri": "https://localhost:8080/"
        },
        "id": "YoBJaTemU424",
        "outputId": "bc43332d-2f12-4a5d-d7f6-9b639c293b62"
      },
      "execution_count": null,
      "outputs": [
        {
          "output_type": "stream",
          "name": "stdout",
          "text": [
            "        Recency  Frequency       Monetary RecencyCluster FrequencyCluster  \\\n",
            "season                                                                      \n",
            "Fall          0       2392  676850.692879        Unknown          Unknown   \n",
            "Spring        0       2454  687032.870013        Unknown          Unknown   \n",
            "Summer        6       1871  582779.295845    Very Recent          Unknown   \n",
            "Winter        1       2843  784497.791464    Very Recent          Unknown   \n",
            "\n",
            "       MonetaryCluster  \n",
            "season                  \n",
            "Fall           Unknown  \n",
            "Spring         Unknown  \n",
            "Summer         Unknown  \n",
            "Winter         Unknown  \n",
            "Shape of rfm_shunyi: (4, 6)\n"
          ]
        }
      ]
    },
    {
      "cell_type": "code",
      "source": [
        "# Re-create the pivot table for the heatmap\n",
        "rfm_pivot = rfm_shunyi.pivot_table(values='Monetary',\n",
        "                                     index='RecencyCluster',\n",
        "                                     columns='FrequencyCluster',\n",
        "                                     aggfunc='mean')\n",
        "\n",
        "# Check the pivot table before plotting\n",
        "print(\"Pivot Table:\\n\", rfm_pivot)"
      ],
      "metadata": {
        "colab": {
          "base_uri": "https://localhost:8080/"
        },
        "id": "nDwjCaSSU_eJ",
        "outputId": "4ccc0b7a-b509-44ee-92db-d20016a6c301"
      },
      "execution_count": null,
      "outputs": [
        {
          "output_type": "stream",
          "name": "stdout",
          "text": [
            "Pivot Table:\n",
            " FrequencyCluster        Unknown\n",
            "RecencyCluster                 \n",
            "Very Recent       683638.543655\n",
            "Unknown           681941.781446\n"
          ]
        },
        {
          "output_type": "stream",
          "name": "stderr",
          "text": [
            "<ipython-input-74-e0fa2d301c6e>:2: FutureWarning: The default value of observed=False is deprecated and will change to observed=True in a future version of pandas. Specify observed=False to silence this warning and retain the current behavior\n",
            "  rfm_pivot = rfm_shunyi.pivot_table(values='Monetary',\n"
          ]
        }
      ]
    },
    {
      "cell_type": "code",
      "source": [
        "# Heatmap for clustering if the pivot table is not empty\n",
        "if not rfm_pivot.empty:\n",
        "    plt.figure(figsize=(8, 6))\n",
        "    sns.heatmap(rfm_pivot, annot=True, cmap=\"YlGnBu\", linewidths=0.5)\n",
        "    plt.title('Heatmap of Monetary Values by Recency and Frequency Clusters')\n",
        "    plt.ylabel('Recency Cluster')\n",
        "    plt.xlabel('Frequency Cluster')\n",
        "    plt.show()\n",
        "else:\n",
        "    print(\"The pivot table is empty. Check the cluster definitions and data.\")"
      ],
      "metadata": {
        "colab": {
          "base_uri": "https://localhost:8080/",
          "height": 573
        },
        "id": "FDs3olM0SVEF",
        "outputId": "58fc5ce4-1bd0-454e-fa26-963ffea0d084"
      },
      "execution_count": null,
      "outputs": [
        {
          "output_type": "display_data",
          "data": {
            "text/plain": [
              "<Figure size 800x600 with 2 Axes>"
            ],
            "image/png": "[encoded data removed]"
          },
          "metadata": {}
        }
      ]
    },
    {
      "cell_type": "code",
      "source": [
        "dfShunyi.to_csv('ShunyiClean.csv', index=False)\n",
        "# Unduh CSV ke komputer lokal\n",
        "from google.colab import files\n",
        "files.download('ShunyiClean.csv')\n"
      ],
      "metadata": {
        "colab": {
          "base_uri": "https://localhost:8080/",
          "height": 34
        },
        "id": "6TrEA2Nr1xhZ",
        "outputId": "57c84e39-62e2-4c34-b5d8-79140213af2a"
      },
      "execution_count": null,
      "outputs": [
        {
          "output_type": "display_data",
          "data": {
            "text/plain": [
              "<IPython.core.display.Javascript object>"
            ],
            "application/javascript": [
              "\n",
              "    async function download(id, filename, size) {\n",
              "      if (!google.colab.kernel.accessAllowed) {\n",
              "        return;\n",
              "      }\n",
              "      const div = document.createElement('div');\n",
              "      const label = document.createElement('label');\n",
              "      label.textContent = `Downloading \"${filename}\": `;\n",
              "      div.appendChild(label);\n",
              "      const progress = document.createElement('progress');\n",
              "      progress.max = size;\n",
              "      div.appendChild(progress);\n",
              "      document.body.appendChild(div);\n",
              "\n",
              "      const buffers = [];\n",
              "      let downloaded = 0;\n",
              "\n",
              "      const channel = await google.colab.kernel.comms.open(id);\n",
              "      // Send a message to notify the kernel that we're ready.\n",
              "      channel.send({})\n",
              "\n",
              "      for await (const message of channel.messages) {\n",
              "        // Send a message to notify the kernel that we're ready.\n",
              "        channel.send({})\n",
              "        if (message.buffers) {\n",
              "          for (const buffer of message.buffers) {\n",
              "            buffers.push(buffer);\n",
              "            downloaded += buffer.byteLength;\n",
              "            progress.value = downloaded;\n",
              "          }\n",
              "        }\n",
              "      }\n",
              "      const blob = new Blob(buffers, {type: 'application/binary'});\n",
              "      const a = document.createElement('a');\n",
              "      a.href = window.URL.createObjectURL(blob);\n",
              "      a.download = filename;\n",
              "      div.appendChild(a);\n",
              "      a.click();\n",
              "      div.remove();\n",
              "    }\n",
              "  "
            ]
          },
          "metadata": {}
        },
        {
          "output_type": "display_data",
          "data": {
            "text/plain": [
              "<IPython.core.display.Javascript object>"
            ],
            "application/javascript": [
              "download(\"download_347d1fc5-dcac-4185-9fa6-0d18a25e4d22\", \"ShunyiClean.csv\", 3789237)"
            ]
          },
          "metadata": {}
        }
      ]
    },
    {
      "cell_type": "code",
      "source": [
        "dfTiantan.to_csv('TiantanClean.csv', index=False)\n",
        "# Unduh CSV ke komputer lokal\n",
        "from google.colab import files\n",
        "files.download('TiantanClean.csv')\n"
      ],
      "metadata": {
        "colab": {
          "base_uri": "https://localhost:8080/",
          "height": 34
        },
        "id": "LxFZevkC8aCR",
        "outputId": "573151be-4638-42d4-8c21-6e135b0d3661"
      },
      "execution_count": null,
      "outputs": [
        {
          "output_type": "display_data",
          "data": {
            "text/plain": [
              "<IPython.core.display.Javascript object>"
            ],
            "application/javascript": [
              "\n",
              "    async function download(id, filename, size) {\n",
              "      if (!google.colab.kernel.accessAllowed) {\n",
              "        return;\n",
              "      }\n",
              "      const div = document.createElement('div');\n",
              "      const label = document.createElement('label');\n",
              "      label.textContent = `Downloading \"${filename}\": `;\n",
              "      div.appendChild(label);\n",
              "      const progress = document.createElement('progress');\n",
              "      progress.max = size;\n",
              "      div.appendChild(progress);\n",
              "      document.body.appendChild(div);\n",
              "\n",
              "      const buffers = [];\n",
              "      let downloaded = 0;\n",
              "\n",
              "      const channel = await google.colab.kernel.comms.open(id);\n",
              "      // Send a message to notify the kernel that we're ready.\n",
              "      channel.send({})\n",
              "\n",
              "      for await (const message of channel.messages) {\n",
              "        // Send a message to notify the kernel that we're ready.\n",
              "        channel.send({})\n",
              "        if (message.buffers) {\n",
              "          for (const buffer of message.buffers) {\n",
              "            buffers.push(buffer);\n",
              "            downloaded += buffer.byteLength;\n",
              "            progress.value = downloaded;\n",
              "          }\n",
              "        }\n",
              "      }\n",
              "      const blob = new Blob(buffers, {type: 'application/binary'});\n",
              "      const a = document.createElement('a');\n",
              "      a.href = window.URL.createObjectURL(blob);\n",
              "      a.download = filename;\n",
              "      div.appendChild(a);\n",
              "      a.click();\n",
              "      div.remove();\n",
              "    }\n",
              "  "
            ]
          },
          "metadata": {}
        },
        {
          "output_type": "display_data",
          "data": {
            "text/plain": [
              "<IPython.core.display.Javascript object>"
            ],
            "application/javascript": [
              "download(\"download_277e891d-ba64-4d31-83bb-b2f78dcf249b\", \"TiantanClean.csv\", 3802825)"
            ]
          },
          "metadata": {}
        }
      ]
    },
    {
      "cell_type": "code",
      "source": [
        "dfWanliu.to_csv('WanliuClean.csv', index=False)\n",
        "# Unduh CSV ke komputer lokal\n",
        "from google.colab import files\n",
        "files.download('WanliuClean.csv')\n"
      ],
      "metadata": {
        "colab": {
          "base_uri": "https://localhost:8080/",
          "height": 34
        },
        "id": "M2Oc2Nuu8q0Z",
        "outputId": "8df1a4e8-2fc8-4d96-8512-08f1084f8d5c"
      },
      "execution_count": null,
      "outputs": [
        {
          "output_type": "display_data",
          "data": {
            "text/plain": [
              "<IPython.core.display.Javascript object>"
            ],
            "application/javascript": [
              "\n",
              "    async function download(id, filename, size) {\n",
              "      if (!google.colab.kernel.accessAllowed) {\n",
              "        return;\n",
              "      }\n",
              "      const div = document.createElement('div');\n",
              "      const label = document.createElement('label');\n",
              "      label.textContent = `Downloading \"${filename}\": `;\n",
              "      div.appendChild(label);\n",
              "      const progress = document.createElement('progress');\n",
              "      progress.max = size;\n",
              "      div.appendChild(progress);\n",
              "      document.body.appendChild(div);\n",
              "\n",
              "      const buffers = [];\n",
              "      let downloaded = 0;\n",
              "\n",
              "      const channel = await google.colab.kernel.comms.open(id);\n",
              "      // Send a message to notify the kernel that we're ready.\n",
              "      channel.send({})\n",
              "\n",
              "      for await (const message of channel.messages) {\n",
              "        // Send a message to notify the kernel that we're ready.\n",
              "        channel.send({})\n",
              "        if (message.buffers) {\n",
              "          for (const buffer of message.buffers) {\n",
              "            buffers.push(buffer);\n",
              "            downloaded += buffer.byteLength;\n",
              "            progress.value = downloaded;\n",
              "          }\n",
              "        }\n",
              "      }\n",
              "      const blob = new Blob(buffers, {type: 'application/binary'});\n",
              "      const a = document.createElement('a');\n",
              "      a.href = window.URL.createObjectURL(blob);\n",
              "      a.download = filename;\n",
              "      div.appendChild(a);\n",
              "      a.click();\n",
              "      div.remove();\n",
              "    }\n",
              "  "
            ]
          },
          "metadata": {}
        },
        {
          "output_type": "display_data",
          "data": {
            "text/plain": [
              "<IPython.core.display.Javascript object>"
            ],
            "application/javascript": [
              "download(\"download_7a75a7a0-1d4e-4136-b8ba-d06bb4ce3c87\", \"WanliuClean.csv\", 3834641)"
            ]
          },
          "metadata": {}
        }
      ]
    },
    {
      "cell_type": "markdown",
      "metadata": {
        "id": "_WeHlCeX8DC2"
      },
      "source": [
        "## Conclusion"
      ]
    },
    {
      "cell_type": "markdown",
      "metadata": {
        "id": "ZTcyR48Y8DC2"
      },
      "source": [
        "- Berdasarkan tahun 2013 polusi PM2.5 dikota Shunyi tertinggi berada dibulan Juni dan terendah dibulan April\n",
        "- Pada polusi PM2.5 terjadi Lonjakan pada musim gugur(fall) dan yang terendah pada musim panas(summer)"
      ]
    }
  ],
  "metadata": {
    "kernelspec": {
      "display_name": "Python 3",
      "language": "python",
      "name": "python3"
    },
    "language_info": {
      "name": "python",
      "version": "3.8.0 (tags/v3.8.0:fa919fd, Oct 14 2019, 19:21:23) [MSC v.1916 32 bit (Intel)]"
    },
    "orig_nbformat": 4,
    "vscode": {
      "interpreter": {
        "hash": "972b3bf27e332e87b5379f2791f6ef9dfc79c71018c370b0d7423235e20fe4d7"
      }
    },
    "colab": {
      "provenance": []
    }
  },
  "nbformat": 4,
  "nbformat_minor": 0
}