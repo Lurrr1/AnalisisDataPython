{
  "cells": [
    {
      "cell_type": "markdown",
      "metadata": {
        "id": "H9wADwK78DCz"
      },
      "source": [
        "# Proyek Analisis Data: [Air Quality Dataset]\n",
        "- **Nama:** [Fadhlur rohman]\n",
        "- **Email:** [fadhlurrohman1204@gmail.com]\n",
        "- **ID Dicoding:** [Fadhlur Rohman]"
      ]
    },
    {
      "cell_type": "markdown",
      "metadata": {
        "id": "eE0raob58DC0"
      },
      "source": [
        "## Menentukan Pertanyaan Bisnis"
      ]
    },
    {
      "cell_type": "markdown",
      "metadata": {
        "id": "GmQeQ5YF8DC0"
      },
      "source": [
        "- kota manakah yang memiliki tingkat polusi udara tertinggi dan terendah dalam 5 tahun terakhir\n",
        "- Apakah ada tren musiman dalam tingkat polutan(PM2.5) udara di setiap kota?"
      ]
    },
    {
      "cell_type": "markdown",
      "metadata": {
        "id": "H-z4QGlO8DC1"
      },
      "source": [
        "## Import Semua Packages/Library yang Digunakan"
      ]
    },
    {
      "cell_type": "code",
      "execution_count": 146,
      "metadata": {
        "id": "FVYwaObI8DC1"
      },
      "outputs": [],
      "source": [
        "import pandas as pd\n",
        "import matplotlib.pyplot as plt\n",
        "import seaborn as sns\n",
        "import streamlit as st\n",
        "from babel.numbers import format_currency\n",
        "sns.set(style='dark')"
      ]
    },
    {
      "cell_type": "markdown",
      "metadata": {
        "id": "h_Sh51Xy8DC1"
      },
      "source": [
        "## Data Wrangling"
      ]
    },
    {
      "cell_type": "markdown",
      "metadata": {
        "id": "sXU2GBYu8DC1"
      },
      "source": [
        "### Gathering Data"
      ]
    },
    {
      "cell_type": "markdown",
      "source": [
        "#### membaca semua data csv"
      ],
      "metadata": {
        "id": "_yglAVI2Q-5I"
      }
    },
    {
      "cell_type": "code",
      "execution_count": 147,
      "metadata": {
        "id": "zjCBk1BI8DC1"
      },
      "outputs": [],
      "source": [
        "df_Shunyi = pd.read_csv(\"PRSA_Data_Shunyi_20130301-20170228.csv\", delimiter=\",\")"
      ]
    },
    {
      "cell_type": "code",
      "source": [
        "df_Tiantan = pd.read_csv(\"PRSA_Data_Tiantan_20130301-20170228.csv\", delimiter=\",\")"
      ],
      "metadata": {
        "id": "VTvkHP2FQ6zF"
      },
      "execution_count": 148,
      "outputs": []
    },
    {
      "cell_type": "code",
      "source": [
        "df_Wanliu= pd.read_csv(\"PRSA_Data_Wanliu_20130301-20170228.csv\", delimiter=\",\")"
      ],
      "metadata": {
        "id": "qUdC646zQ4sW"
      },
      "execution_count": 149,
      "outputs": []
    },
    {
      "cell_type": "markdown",
      "source": [
        "**Insight:**\n",
        "- How to read data csv"
      ],
      "metadata": {
        "id": "MMi6xGaDkbCi"
      }
    },
    {
      "cell_type": "markdown",
      "metadata": {
        "id": "FHSiqaZp8DC1"
      },
      "source": [
        "### Assessing Data"
      ]
    },
    {
      "cell_type": "markdown",
      "source": [
        "#### Membaca info dataframe"
      ],
      "metadata": {
        "id": "zMOnpYV7RrVL"
      }
    },
    {
      "cell_type": "code",
      "source": [
        "df_Shunyi.info()"
      ],
      "metadata": {
        "collapsed": true,
        "id": "_O38Lk2NIC69",
        "outputId": "ce20436c-0c9c-4950-fda4-146c2aa020c2",
        "colab": {
          "base_uri": "https://localhost:8080/"
        }
      },
      "execution_count": 150,
      "outputs": [
        {
          "output_type": "stream",
          "name": "stdout",
          "text": [
            "<class 'pandas.core.frame.DataFrame'>\n",
            "RangeIndex: 35064 entries, 0 to 35063\n",
            "Data columns (total 18 columns):\n",
            " #   Column   Non-Null Count  Dtype  \n",
            "---  ------   --------------  -----  \n",
            " 0   No       35064 non-null  int64  \n",
            " 1   year     35064 non-null  int64  \n",
            " 2   month    35064 non-null  int64  \n",
            " 3   day      35064 non-null  int64  \n",
            " 4   hour     35064 non-null  int64  \n",
            " 5   PM2.5    34151 non-null  float64\n",
            " 6   PM10     34516 non-null  float64\n",
            " 7   SO2      33768 non-null  float64\n",
            " 8   NO2      33699 non-null  float64\n",
            " 9   CO       32886 non-null  float64\n",
            " 10  O3       33575 non-null  float64\n",
            " 11  TEMP     35013 non-null  float64\n",
            " 12  PRES     35013 non-null  float64\n",
            " 13  DEWP     35010 non-null  float64\n",
            " 14  RAIN     35013 non-null  float64\n",
            " 15  wd       34581 non-null  object \n",
            " 16  WSPM     35020 non-null  float64\n",
            " 17  station  35064 non-null  object \n",
            "dtypes: float64(11), int64(5), object(2)\n",
            "memory usage: 4.8+ MB\n"
          ]
        }
      ]
    },
    {
      "cell_type": "code",
      "source": [
        "df_Tiantan.info()\n"
      ],
      "metadata": {
        "colab": {
          "base_uri": "https://localhost:8080/"
        },
        "id": "Ug6VjDrdRYk6",
        "outputId": "aae89408-5207-4758-8ec5-f42f885e3dfc"
      },
      "execution_count": 151,
      "outputs": [
        {
          "output_type": "stream",
          "name": "stdout",
          "text": [
            "<class 'pandas.core.frame.DataFrame'>\n",
            "RangeIndex: 35064 entries, 0 to 35063\n",
            "Data columns (total 18 columns):\n",
            " #   Column   Non-Null Count  Dtype  \n",
            "---  ------   --------------  -----  \n",
            " 0   No       35064 non-null  int64  \n",
            " 1   year     35064 non-null  int64  \n",
            " 2   month    35064 non-null  int64  \n",
            " 3   day      35064 non-null  int64  \n",
            " 4   hour     35064 non-null  int64  \n",
            " 5   PM2.5    34387 non-null  float64\n",
            " 6   PM10     34467 non-null  float64\n",
            " 7   SO2      33946 non-null  float64\n",
            " 8   NO2      34320 non-null  float64\n",
            " 9   CO       33938 non-null  float64\n",
            " 10  O3       34221 non-null  float64\n",
            " 11  TEMP     35044 non-null  float64\n",
            " 12  PRES     35044 non-null  float64\n",
            " 13  DEWP     35044 non-null  float64\n",
            " 14  RAIN     35044 non-null  float64\n",
            " 15  wd       34986 non-null  object \n",
            " 16  WSPM     35050 non-null  float64\n",
            " 17  station  35064 non-null  object \n",
            "dtypes: float64(11), int64(5), object(2)\n",
            "memory usage: 4.8+ MB\n"
          ]
        }
      ]
    },
    {
      "cell_type": "code",
      "source": [
        "df_Wanliu.info()"
      ],
      "metadata": {
        "colab": {
          "base_uri": "https://localhost:8080/"
        },
        "id": "sldR6DvwRaEw",
        "outputId": "b20eac3c-ba6d-4a49-e0e6-ee426fd85374"
      },
      "execution_count": 152,
      "outputs": [
        {
          "output_type": "stream",
          "name": "stdout",
          "text": [
            "<class 'pandas.core.frame.DataFrame'>\n",
            "RangeIndex: 35064 entries, 0 to 35063\n",
            "Data columns (total 18 columns):\n",
            " #   Column   Non-Null Count  Dtype  \n",
            "---  ------   --------------  -----  \n",
            " 0   No       35064 non-null  int64  \n",
            " 1   year     35064 non-null  int64  \n",
            " 2   month    35064 non-null  int64  \n",
            " 3   day      35064 non-null  int64  \n",
            " 4   hour     35064 non-null  int64  \n",
            " 5   PM2.5    34682 non-null  float64\n",
            " 6   PM10     34780 non-null  float64\n",
            " 7   SO2      34489 non-null  float64\n",
            " 8   NO2      33994 non-null  float64\n",
            " 9   CO       33252 non-null  float64\n",
            " 10  O3       32957 non-null  float64\n",
            " 11  TEMP     35044 non-null  float64\n",
            " 12  PRES     35044 non-null  float64\n",
            " 13  DEWP     35044 non-null  float64\n",
            " 14  RAIN     35044 non-null  float64\n",
            " 15  wd       34941 non-null  object \n",
            " 16  WSPM     35050 non-null  float64\n",
            " 17  station  35064 non-null  object \n",
            "dtypes: float64(11), int64(5), object(2)\n",
            "memory usage: 4.8+ MB\n"
          ]
        }
      ]
    },
    {
      "cell_type": "markdown",
      "source": [
        "Melihat jumlah duplikasi pada dataframe Shunyi"
      ],
      "metadata": {
        "id": "oCkIhneASZBj"
      }
    },
    {
      "cell_type": "code",
      "source": [
        "print(\"Jumlah duplikasi: \", df_Shunyi.duplicated().sum())"
      ],
      "metadata": {
        "collapsed": true,
        "id": "IWuCINzsIVXz",
        "outputId": "be18ecbb-c7d4-4a59-c7a9-84186c7da125",
        "colab": {
          "base_uri": "https://localhost:8080/"
        }
      },
      "execution_count": 153,
      "outputs": [
        {
          "output_type": "stream",
          "name": "stdout",
          "text": [
            "Jumlah duplikasi:  0\n"
          ]
        }
      ]
    },
    {
      "cell_type": "markdown",
      "source": [
        "Melihat jumlah duplikasi pada dataframe Tiantan"
      ],
      "metadata": {
        "id": "areVfQu9Tbex"
      }
    },
    {
      "cell_type": "code",
      "source": [
        "print(\"Jumlah duplikasi: \", df_Tiantan.duplicated().sum())"
      ],
      "metadata": {
        "colab": {
          "base_uri": "https://localhost:8080/"
        },
        "id": "xRVGv0p0Sng3",
        "outputId": "05c106bd-e2af-4bc0-8a30-e9b106b241c9"
      },
      "execution_count": 154,
      "outputs": [
        {
          "output_type": "stream",
          "name": "stdout",
          "text": [
            "Jumlah duplikasi:  0\n"
          ]
        }
      ]
    },
    {
      "cell_type": "markdown",
      "source": [
        "Melihat jumlah duplikasi pada dataframe Wanliu"
      ],
      "metadata": {
        "id": "YyoUR3BETdy3"
      }
    },
    {
      "cell_type": "code",
      "source": [
        "print(\"Jumlah duplikasi: \", df_Wanliu.duplicated().sum())"
      ],
      "metadata": {
        "colab": {
          "base_uri": "https://localhost:8080/"
        },
        "id": "OFAYJPprSrUz",
        "outputId": "c3d24852-d760-4b1f-9f8b-adff8436ccbe"
      },
      "execution_count": 155,
      "outputs": [
        {
          "output_type": "stream",
          "name": "stdout",
          "text": [
            "Jumlah duplikasi:  0\n"
          ]
        }
      ]
    },
    {
      "cell_type": "markdown",
      "source": [
        "Melihat jumlah nilai NaN pada dataframe Shunyi"
      ],
      "metadata": {
        "id": "nBMK6rKPTQIs"
      }
    },
    {
      "cell_type": "code",
      "source": [
        "df_Shunyi.isna().sum()"
      ],
      "metadata": {
        "collapsed": true,
        "id": "ApZlLXPhIer2",
        "outputId": "4123dffd-59d4-4d9f-855b-da734ea09662",
        "colab": {
          "base_uri": "https://localhost:8080/",
          "height": 648
        }
      },
      "execution_count": 156,
      "outputs": [
        {
          "output_type": "execute_result",
          "data": {
            "text/plain": [
              "No            0\n",
              "year          0\n",
              "month         0\n",
              "day           0\n",
              "hour          0\n",
              "PM2.5       913\n",
              "PM10        548\n",
              "SO2        1296\n",
              "NO2        1365\n",
              "CO         2178\n",
              "O3         1489\n",
              "TEMP         51\n",
              "PRES         51\n",
              "DEWP         54\n",
              "RAIN         51\n",
              "wd          483\n",
              "WSPM         44\n",
              "station       0\n",
              "dtype: int64"
            ],
            "text/html": [
              "<div>\n",
              "<style scoped>\n",
              "    .dataframe tbody tr th:only-of-type {\n",
              "        vertical-align: middle;\n",
              "    }\n",
              "\n",
              "    .dataframe tbody tr th {\n",
              "        vertical-align: top;\n",
              "    }\n",
              "\n",
              "    .dataframe thead th {\n",
              "        text-align: right;\n",
              "    }\n",
              "</style>\n",
              "<table border=\"1\" class=\"dataframe\">\n",
              "  <thead>\n",
              "    <tr style=\"text-align: right;\">\n",
              "      <th></th>\n",
              "      <th>0</th>\n",
              "    </tr>\n",
              "  </thead>\n",
              "  <tbody>\n",
              "    <tr>\n",
              "      <th>No</th>\n",
              "      <td>0</td>\n",
              "    </tr>\n",
              "    <tr>\n",
              "      <th>year</th>\n",
              "      <td>0</td>\n",
              "    </tr>\n",
              "    <tr>\n",
              "      <th>month</th>\n",
              "      <td>0</td>\n",
              "    </tr>\n",
              "    <tr>\n",
              "      <th>day</th>\n",
              "      <td>0</td>\n",
              "    </tr>\n",
              "    <tr>\n",
              "      <th>hour</th>\n",
              "      <td>0</td>\n",
              "    </tr>\n",
              "    <tr>\n",
              "      <th>PM2.5</th>\n",
              "      <td>913</td>\n",
              "    </tr>\n",
              "    <tr>\n",
              "      <th>PM10</th>\n",
              "      <td>548</td>\n",
              "    </tr>\n",
              "    <tr>\n",
              "      <th>SO2</th>\n",
              "      <td>1296</td>\n",
              "    </tr>\n",
              "    <tr>\n",
              "      <th>NO2</th>\n",
              "      <td>1365</td>\n",
              "    </tr>\n",
              "    <tr>\n",
              "      <th>CO</th>\n",
              "      <td>2178</td>\n",
              "    </tr>\n",
              "    <tr>\n",
              "      <th>O3</th>\n",
              "      <td>1489</td>\n",
              "    </tr>\n",
              "    <tr>\n",
              "      <th>TEMP</th>\n",
              "      <td>51</td>\n",
              "    </tr>\n",
              "    <tr>\n",
              "      <th>PRES</th>\n",
              "      <td>51</td>\n",
              "    </tr>\n",
              "    <tr>\n",
              "      <th>DEWP</th>\n",
              "      <td>54</td>\n",
              "    </tr>\n",
              "    <tr>\n",
              "      <th>RAIN</th>\n",
              "      <td>51</td>\n",
              "    </tr>\n",
              "    <tr>\n",
              "      <th>wd</th>\n",
              "      <td>483</td>\n",
              "    </tr>\n",
              "    <tr>\n",
              "      <th>WSPM</th>\n",
              "      <td>44</td>\n",
              "    </tr>\n",
              "    <tr>\n",
              "      <th>station</th>\n",
              "      <td>0</td>\n",
              "    </tr>\n",
              "  </tbody>\n",
              "</table>\n",
              "</div><br><label><b>dtype:</b> int64</label>"
            ]
          },
          "metadata": {},
          "execution_count": 156
        }
      ]
    },
    {
      "cell_type": "markdown",
      "source": [
        "Melihat jumlah nilai NaN pada dataframe Tiantan"
      ],
      "metadata": {
        "id": "bK1eSS2eTm9g"
      }
    },
    {
      "cell_type": "code",
      "source": [
        "df_Tiantan.isna().sum()"
      ],
      "metadata": {
        "collapsed": true,
        "id": "AB7qBbaHImo8",
        "outputId": "ed009b67-bed9-41b9-c40c-1cd41576854c",
        "colab": {
          "base_uri": "https://localhost:8080/",
          "height": 648
        }
      },
      "execution_count": 157,
      "outputs": [
        {
          "output_type": "execute_result",
          "data": {
            "text/plain": [
              "No            0\n",
              "year          0\n",
              "month         0\n",
              "day           0\n",
              "hour          0\n",
              "PM2.5       677\n",
              "PM10        597\n",
              "SO2        1118\n",
              "NO2         744\n",
              "CO         1126\n",
              "O3          843\n",
              "TEMP         20\n",
              "PRES         20\n",
              "DEWP         20\n",
              "RAIN         20\n",
              "wd           78\n",
              "WSPM         14\n",
              "station       0\n",
              "dtype: int64"
            ],
            "text/html": [
              "<div>\n",
              "<style scoped>\n",
              "    .dataframe tbody tr th:only-of-type {\n",
              "        vertical-align: middle;\n",
              "    }\n",
              "\n",
              "    .dataframe tbody tr th {\n",
              "        vertical-align: top;\n",
              "    }\n",
              "\n",
              "    .dataframe thead th {\n",
              "        text-align: right;\n",
              "    }\n",
              "</style>\n",
              "<table border=\"1\" class=\"dataframe\">\n",
              "  <thead>\n",
              "    <tr style=\"text-align: right;\">\n",
              "      <th></th>\n",
              "      <th>0</th>\n",
              "    </tr>\n",
              "  </thead>\n",
              "  <tbody>\n",
              "    <tr>\n",
              "      <th>No</th>\n",
              "      <td>0</td>\n",
              "    </tr>\n",
              "    <tr>\n",
              "      <th>year</th>\n",
              "      <td>0</td>\n",
              "    </tr>\n",
              "    <tr>\n",
              "      <th>month</th>\n",
              "      <td>0</td>\n",
              "    </tr>\n",
              "    <tr>\n",
              "      <th>day</th>\n",
              "      <td>0</td>\n",
              "    </tr>\n",
              "    <tr>\n",
              "      <th>hour</th>\n",
              "      <td>0</td>\n",
              "    </tr>\n",
              "    <tr>\n",
              "      <th>PM2.5</th>\n",
              "      <td>677</td>\n",
              "    </tr>\n",
              "    <tr>\n",
              "      <th>PM10</th>\n",
              "      <td>597</td>\n",
              "    </tr>\n",
              "    <tr>\n",
              "      <th>SO2</th>\n",
              "      <td>1118</td>\n",
              "    </tr>\n",
              "    <tr>\n",
              "      <th>NO2</th>\n",
              "      <td>744</td>\n",
              "    </tr>\n",
              "    <tr>\n",
              "      <th>CO</th>\n",
              "      <td>1126</td>\n",
              "    </tr>\n",
              "    <tr>\n",
              "      <th>O3</th>\n",
              "      <td>843</td>\n",
              "    </tr>\n",
              "    <tr>\n",
              "      <th>TEMP</th>\n",
              "      <td>20</td>\n",
              "    </tr>\n",
              "    <tr>\n",
              "      <th>PRES</th>\n",
              "      <td>20</td>\n",
              "    </tr>\n",
              "    <tr>\n",
              "      <th>DEWP</th>\n",
              "      <td>20</td>\n",
              "    </tr>\n",
              "    <tr>\n",
              "      <th>RAIN</th>\n",
              "      <td>20</td>\n",
              "    </tr>\n",
              "    <tr>\n",
              "      <th>wd</th>\n",
              "      <td>78</td>\n",
              "    </tr>\n",
              "    <tr>\n",
              "      <th>WSPM</th>\n",
              "      <td>14</td>\n",
              "    </tr>\n",
              "    <tr>\n",
              "      <th>station</th>\n",
              "      <td>0</td>\n",
              "    </tr>\n",
              "  </tbody>\n",
              "</table>\n",
              "</div><br><label><b>dtype:</b> int64</label>"
            ]
          },
          "metadata": {},
          "execution_count": 157
        }
      ]
    },
    {
      "cell_type": "markdown",
      "source": [
        "Melihat jumlah nilai NaN pada dataframe Wanliu"
      ],
      "metadata": {
        "id": "VSVB5wwrTpTT"
      }
    },
    {
      "cell_type": "code",
      "source": [
        "df_Wanliu.isna().sum()"
      ],
      "metadata": {
        "collapsed": true,
        "id": "Mpf52e2aIoP7",
        "outputId": "4745589b-2970-4f2e-f258-9b508f06053d",
        "colab": {
          "base_uri": "https://localhost:8080/",
          "height": 648
        }
      },
      "execution_count": 158,
      "outputs": [
        {
          "output_type": "execute_result",
          "data": {
            "text/plain": [
              "No            0\n",
              "year          0\n",
              "month         0\n",
              "day           0\n",
              "hour          0\n",
              "PM2.5       382\n",
              "PM10        284\n",
              "SO2         575\n",
              "NO2        1070\n",
              "CO         1812\n",
              "O3         2107\n",
              "TEMP         20\n",
              "PRES         20\n",
              "DEWP         20\n",
              "RAIN         20\n",
              "wd          123\n",
              "WSPM         14\n",
              "station       0\n",
              "dtype: int64"
            ],
            "text/html": [
              "<div>\n",
              "<style scoped>\n",
              "    .dataframe tbody tr th:only-of-type {\n",
              "        vertical-align: middle;\n",
              "    }\n",
              "\n",
              "    .dataframe tbody tr th {\n",
              "        vertical-align: top;\n",
              "    }\n",
              "\n",
              "    .dataframe thead th {\n",
              "        text-align: right;\n",
              "    }\n",
              "</style>\n",
              "<table border=\"1\" class=\"dataframe\">\n",
              "  <thead>\n",
              "    <tr style=\"text-align: right;\">\n",
              "      <th></th>\n",
              "      <th>0</th>\n",
              "    </tr>\n",
              "  </thead>\n",
              "  <tbody>\n",
              "    <tr>\n",
              "      <th>No</th>\n",
              "      <td>0</td>\n",
              "    </tr>\n",
              "    <tr>\n",
              "      <th>year</th>\n",
              "      <td>0</td>\n",
              "    </tr>\n",
              "    <tr>\n",
              "      <th>month</th>\n",
              "      <td>0</td>\n",
              "    </tr>\n",
              "    <tr>\n",
              "      <th>day</th>\n",
              "      <td>0</td>\n",
              "    </tr>\n",
              "    <tr>\n",
              "      <th>hour</th>\n",
              "      <td>0</td>\n",
              "    </tr>\n",
              "    <tr>\n",
              "      <th>PM2.5</th>\n",
              "      <td>382</td>\n",
              "    </tr>\n",
              "    <tr>\n",
              "      <th>PM10</th>\n",
              "      <td>284</td>\n",
              "    </tr>\n",
              "    <tr>\n",
              "      <th>SO2</th>\n",
              "      <td>575</td>\n",
              "    </tr>\n",
              "    <tr>\n",
              "      <th>NO2</th>\n",
              "      <td>1070</td>\n",
              "    </tr>\n",
              "    <tr>\n",
              "      <th>CO</th>\n",
              "      <td>1812</td>\n",
              "    </tr>\n",
              "    <tr>\n",
              "      <th>O3</th>\n",
              "      <td>2107</td>\n",
              "    </tr>\n",
              "    <tr>\n",
              "      <th>TEMP</th>\n",
              "      <td>20</td>\n",
              "    </tr>\n",
              "    <tr>\n",
              "      <th>PRES</th>\n",
              "      <td>20</td>\n",
              "    </tr>\n",
              "    <tr>\n",
              "      <th>DEWP</th>\n",
              "      <td>20</td>\n",
              "    </tr>\n",
              "    <tr>\n",
              "      <th>RAIN</th>\n",
              "      <td>20</td>\n",
              "    </tr>\n",
              "    <tr>\n",
              "      <th>wd</th>\n",
              "      <td>123</td>\n",
              "    </tr>\n",
              "    <tr>\n",
              "      <th>WSPM</th>\n",
              "      <td>14</td>\n",
              "    </tr>\n",
              "    <tr>\n",
              "      <th>station</th>\n",
              "      <td>0</td>\n",
              "    </tr>\n",
              "  </tbody>\n",
              "</table>\n",
              "</div><br><label><b>dtype:</b> int64</label>"
            ]
          },
          "metadata": {},
          "execution_count": 158
        }
      ]
    },
    {
      "cell_type": "markdown",
      "source": [
        "Melihat deskripsi dataframe Shunyi"
      ],
      "metadata": {
        "id": "12FeefVDTufs"
      }
    },
    {
      "cell_type": "code",
      "source": [
        "print(df_Shunyi.describe(include=\"all\"))"
      ],
      "metadata": {
        "collapsed": true,
        "id": "M_pPK_79I0bg",
        "outputId": "aa92eb84-7606-4317-9b49-4ec2a01706c3",
        "colab": {
          "base_uri": "https://localhost:8080/"
        }
      },
      "execution_count": 159,
      "outputs": [
        {
          "output_type": "stream",
          "name": "stdout",
          "text": [
            "                  No          year         month           day          hour  \\\n",
            "count   35064.000000  35064.000000  35064.000000  35064.000000  35064.000000   \n",
            "unique           NaN           NaN           NaN           NaN           NaN   \n",
            "top              NaN           NaN           NaN           NaN           NaN   \n",
            "freq             NaN           NaN           NaN           NaN           NaN   \n",
            "mean    17532.500000   2014.662560      6.522930     15.729637     11.500000   \n",
            "std     10122.249256      1.177213      3.448752      8.800218      6.922285   \n",
            "min         1.000000   2013.000000      1.000000      1.000000      0.000000   \n",
            "25%      8766.750000   2014.000000      4.000000      8.000000      5.750000   \n",
            "50%     17532.500000   2015.000000      7.000000     16.000000     11.500000   \n",
            "75%     26298.250000   2016.000000     10.000000     23.000000     17.250000   \n",
            "max     35064.000000   2017.000000     12.000000     31.000000     23.000000   \n",
            "\n",
            "               PM2.5          PM10           SO2           NO2            CO  \\\n",
            "count   34151.000000  34516.000000  33768.000000  33699.000000  32886.000000   \n",
            "unique           NaN           NaN           NaN           NaN           NaN   \n",
            "top              NaN           NaN           NaN           NaN           NaN   \n",
            "freq             NaN           NaN           NaN           NaN           NaN   \n",
            "mean       79.491602     98.737026     13.572039     43.908865   1187.063979   \n",
            "std        81.231739     89.143718     19.572068     30.996828   1156.374102   \n",
            "min         2.000000      2.000000      0.285600      2.000000    100.000000   \n",
            "25%        19.000000     31.000000      2.000000     19.000000    400.000000   \n",
            "50%        55.000000     77.000000      5.000000     37.000000    800.000000   \n",
            "75%       112.000000    138.000000     17.000000     62.000000   1500.000000   \n",
            "max       941.000000    999.000000    239.000000    258.000000  10000.000000   \n",
            "\n",
            "                  O3          TEMP          PRES          DEWP          RAIN  \\\n",
            "count   33575.000000  35013.000000  35013.000000  35010.000000  35013.000000   \n",
            "unique           NaN           NaN           NaN           NaN           NaN   \n",
            "top              NaN           NaN           NaN           NaN           NaN   \n",
            "freq             NaN           NaN           NaN           NaN           NaN   \n",
            "mean       55.201321     13.387969   1013.061938      2.465036      0.061094   \n",
            "std        54.873726     11.483588     10.177339     13.726622      0.761668   \n",
            "min         0.214200    -16.800000    988.000000    -36.000000      0.000000   \n",
            "25%        10.000000      3.000000   1004.700000     -8.800000      0.000000   \n",
            "50%        43.000000     14.400000   1012.700000      3.100000      0.000000   \n",
            "75%        77.000000     23.200000   1021.000000     15.100000      0.000000   \n",
            "max       351.716400     40.600000   1042.800000     27.500000     37.300000   \n",
            "\n",
            "           wd          WSPM station  \n",
            "count   34581  35020.000000   35064  \n",
            "unique     16           NaN       1  \n",
            "top       NNE           NaN  Shunyi  \n",
            "freq     4540           NaN   35064  \n",
            "mean      NaN      1.807533     NaN  \n",
            "std       NaN      1.287817     NaN  \n",
            "min       NaN      0.000000     NaN  \n",
            "25%       NaN      1.000000     NaN  \n",
            "50%       NaN      1.500000     NaN  \n",
            "75%       NaN      2.300000     NaN  \n",
            "max       NaN     12.800000     NaN  \n"
          ]
        }
      ]
    },
    {
      "cell_type": "markdown",
      "source": [
        "Melihat deskripsi dataframe Tiantan"
      ],
      "metadata": {
        "id": "347jPaDvT4Y7"
      }
    },
    {
      "cell_type": "code",
      "source": [
        "print(df_Tiantan.describe(include=\"all\"))"
      ],
      "metadata": {
        "colab": {
          "base_uri": "https://localhost:8080/"
        },
        "id": "UlDGSN32S5Lf",
        "outputId": "6c4fc219-c073-4cab-c0b1-d155307900ff"
      },
      "execution_count": 160,
      "outputs": [
        {
          "output_type": "stream",
          "name": "stdout",
          "text": [
            "                  No          year         month           day          hour  \\\n",
            "count   35064.000000  35064.000000  35064.000000  35064.000000  35064.000000   \n",
            "unique           NaN           NaN           NaN           NaN           NaN   \n",
            "top              NaN           NaN           NaN           NaN           NaN   \n",
            "freq             NaN           NaN           NaN           NaN           NaN   \n",
            "mean    17532.500000   2014.662560      6.522930     15.729637     11.500000   \n",
            "std     10122.249256      1.177213      3.448752      8.800218      6.922285   \n",
            "min         1.000000   2013.000000      1.000000      1.000000      0.000000   \n",
            "25%      8766.750000   2014.000000      4.000000      8.000000      5.750000   \n",
            "50%     17532.500000   2015.000000      7.000000     16.000000     11.500000   \n",
            "75%     26298.250000   2016.000000     10.000000     23.000000     17.250000   \n",
            "max     35064.000000   2017.000000     12.000000     31.000000     23.000000   \n",
            "\n",
            "               PM2.5          PM10           SO2           NO2            CO  \\\n",
            "count   34387.000000  34467.000000  33946.000000  34320.000000  33938.000000   \n",
            "unique           NaN           NaN           NaN           NaN           NaN   \n",
            "top              NaN           NaN           NaN           NaN           NaN   \n",
            "freq             NaN           NaN           NaN           NaN           NaN   \n",
            "mean       82.164911    106.363672     14.367615     53.162646   1298.303318   \n",
            "std        80.921384     89.700157     20.144631     31.946224   1170.593297   \n",
            "min         3.000000      2.000000      0.571200      2.000000    100.000000   \n",
            "25%        22.000000     41.000000      3.000000     28.000000    500.000000   \n",
            "50%        59.000000     85.000000      7.000000     47.000000    900.000000   \n",
            "75%       113.000000    144.000000     17.000000     71.000000   1600.000000   \n",
            "max       821.000000    988.000000    273.000000    241.000000  10000.000000   \n",
            "\n",
            "                  O3          TEMP          PRES          DEWP          RAIN  \\\n",
            "count   34221.000000  35044.000000  35044.000000  35044.000000  35044.000000   \n",
            "unique           NaN           NaN           NaN           NaN           NaN   \n",
            "top              NaN           NaN           NaN           NaN           NaN   \n",
            "freq             NaN           NaN           NaN           NaN           NaN   \n",
            "mean       55.984297     13.671490   1012.547419      2.447535      0.064020   \n",
            "std        59.081528     11.458418     10.266059     13.810696      0.786282   \n",
            "min         0.428400    -16.800000    987.100000    -35.300000      0.000000   \n",
            "25%         8.000000      3.100000   1004.000000     -8.800000      0.000000   \n",
            "50%        40.000000     14.600000   1012.200000      3.000000      0.000000   \n",
            "75%        81.000000     23.500000   1020.900000     15.000000      0.000000   \n",
            "max       674.000000     41.100000   1042.000000     28.800000     46.400000   \n",
            "\n",
            "           wd          WSPM  station  \n",
            "count   34986  35050.000000    35064  \n",
            "unique     16           NaN        1  \n",
            "top       ENE           NaN  Tiantan  \n",
            "freq     3861           NaN    35064  \n",
            "mean      NaN      1.860785      NaN  \n",
            "std       NaN      1.280368      NaN  \n",
            "min       NaN      0.000000      NaN  \n",
            "25%       NaN      1.000000      NaN  \n",
            "50%       NaN      1.500000      NaN  \n",
            "75%       NaN      2.400000      NaN  \n",
            "max       NaN     10.500000      NaN  \n"
          ]
        }
      ]
    },
    {
      "cell_type": "markdown",
      "source": [
        "Melihat deskripsi dataframe Wanliu"
      ],
      "metadata": {
        "id": "rQFw-mG3T77d"
      }
    },
    {
      "cell_type": "code",
      "source": [
        "print(df_Wanliu.describe(include=\"all\"))"
      ],
      "metadata": {
        "colab": {
          "base_uri": "https://localhost:8080/"
        },
        "id": "wY4aAdTqS6qA",
        "outputId": "53ed6771-964e-48df-c767-8f81bad133c6"
      },
      "execution_count": 161,
      "outputs": [
        {
          "output_type": "stream",
          "name": "stdout",
          "text": [
            "                  No          year         month           day          hour  \\\n",
            "count   35064.000000  35064.000000  35064.000000  35064.000000  35064.000000   \n",
            "unique           NaN           NaN           NaN           NaN           NaN   \n",
            "top              NaN           NaN           NaN           NaN           NaN   \n",
            "freq             NaN           NaN           NaN           NaN           NaN   \n",
            "mean    17532.500000   2014.662560      6.522930     15.729637     11.500000   \n",
            "std     10122.249256      1.177213      3.448752      8.800218      6.922285   \n",
            "min         1.000000   2013.000000      1.000000      1.000000      0.000000   \n",
            "25%      8766.750000   2014.000000      4.000000      8.000000      5.750000   \n",
            "50%     17532.500000   2015.000000      7.000000     16.000000     11.500000   \n",
            "75%     26298.250000   2016.000000     10.000000     23.000000     17.250000   \n",
            "max     35064.000000   2017.000000     12.000000     31.000000     23.000000   \n",
            "\n",
            "               PM2.5          PM10           SO2           NO2            CO  \\\n",
            "count   34682.000000  34780.000000  34489.000000  33994.000000  33252.000000   \n",
            "unique           NaN           NaN           NaN           NaN           NaN   \n",
            "top              NaN           NaN           NaN           NaN           NaN   \n",
            "freq             NaN           NaN           NaN           NaN           NaN   \n",
            "mean       83.374716    110.464618     18.376481     65.258789   1319.353513   \n",
            "std        81.905568     92.795065     22.609648     37.996088   1268.114331   \n",
            "min         2.000000      2.000000      0.285600      1.642400    100.000000   \n",
            "25%        23.000000     40.000000      4.000000     36.000000    500.000000   \n",
            "50%        59.000000     88.000000     10.000000     60.000000    900.000000   \n",
            "75%       116.000000    153.000000     23.000000     88.000000   1600.000000   \n",
            "max       957.000000    951.000000    282.000000    264.000000  10000.000000   \n",
            "\n",
            "                  O3          TEMP          PRES          DEWP          RAIN  \\\n",
            "count   32957.000000  35044.000000  35044.000000  35044.000000  35044.000000   \n",
            "unique           NaN           NaN           NaN           NaN           NaN   \n",
            "top              NaN           NaN           NaN           NaN           NaN   \n",
            "freq             NaN           NaN           NaN           NaN           NaN   \n",
            "mean       48.873614     13.428865   1011.097536      3.266588      0.068263   \n",
            "std        55.111740     11.346931     10.355247     13.678060      0.896726   \n",
            "min         0.214200    -15.800000    985.900000    -34.900000      0.000000   \n",
            "25%         4.000000      3.200000   1002.500000     -8.100000      0.000000   \n",
            "50%        32.000000     14.300000   1010.800000      4.000000      0.000000   \n",
            "75%        73.000000     22.900000   1019.400000     15.800000      0.000000   \n",
            "max       364.000000     40.500000   1040.300000     28.500000     72.500000   \n",
            "\n",
            "           wd          WSPM station  \n",
            "count   34941  35050.000000   35064  \n",
            "unique     16           NaN       1  \n",
            "top        NE           NaN  Wanliu  \n",
            "freq     6703           NaN   35064  \n",
            "mean      NaN      1.501215     NaN  \n",
            "std       NaN      1.104472     NaN  \n",
            "min       NaN      0.000000     NaN  \n",
            "25%       NaN      0.800000     NaN  \n",
            "50%       NaN      1.200000     NaN  \n",
            "75%       NaN      2.000000     NaN  \n",
            "max       NaN     11.200000     NaN  \n"
          ]
        }
      ]
    },
    {
      "cell_type": "markdown",
      "source": [
        "**Insight:**\n",
        "- di setiap dataframe tidak memiliki duplikasi data"
      ],
      "metadata": {
        "id": "7dtxhAPrkhPL"
      }
    },
    {
      "cell_type": "markdown",
      "metadata": {
        "id": "EhN5R4hr8DC1"
      },
      "source": [
        "### Cleaning Data"
      ]
    },
    {
      "cell_type": "markdown",
      "source": [
        "Mengisi nilai yang NaN dengan nilai mean pada dataframe Shunyi"
      ],
      "metadata": {
        "id": "oxJaO7sOUACk"
      }
    },
    {
      "cell_type": "code",
      "source": [
        "df_Shunyi_fill = df_Shunyi.fillna(df_Shunyi.mean(numeric_only=True))"
      ],
      "metadata": {
        "id": "ax-3tEjc9Cj1"
      },
      "execution_count": 162,
      "outputs": []
    },
    {
      "cell_type": "markdown",
      "source": [
        "Mengisi nilai yang NaN dengan nilai mean pada dataframe Tiantan"
      ],
      "metadata": {
        "id": "3_k8LvsOUNoI"
      }
    },
    {
      "cell_type": "code",
      "source": [
        "df_Tiantan_fill = df_Tiantan.fillna(df_Tiantan.mean(numeric_only=True))"
      ],
      "metadata": {
        "id": "xYPW7AFYTLWK"
      },
      "execution_count": 163,
      "outputs": []
    },
    {
      "cell_type": "markdown",
      "source": [
        "Mengisi nilai yang NaN dengan nilai mean pada dataframe Wanliu"
      ],
      "metadata": {
        "id": "swnnNvpFUQG4"
      }
    },
    {
      "cell_type": "code",
      "source": [
        "df_Wanliu_fill = df_Wanliu.fillna(df_Wanliu.mean(numeric_only=True))"
      ],
      "metadata": {
        "id": "eYq9Eu3vTNKH"
      },
      "execution_count": 164,
      "outputs": []
    },
    {
      "cell_type": "markdown",
      "source": [
        "Mengecek missing value tadi yang sudah di isi dengan nilai mean pada dataframe Shunyi"
      ],
      "metadata": {
        "id": "p8xY2_5oZCvw"
      }
    },
    {
      "cell_type": "code",
      "source": [
        "df_Shunyi_fill.isna().sum()"
      ],
      "metadata": {
        "id": "jVnYpprE9Evz",
        "collapsed": true,
        "outputId": "fa88c430-5c79-498a-a43b-bfd72be13fa2",
        "colab": {
          "base_uri": "https://localhost:8080/",
          "height": 648
        }
      },
      "execution_count": 165,
      "outputs": [
        {
          "output_type": "execute_result",
          "data": {
            "text/plain": [
              "No           0\n",
              "year         0\n",
              "month        0\n",
              "day          0\n",
              "hour         0\n",
              "PM2.5        0\n",
              "PM10         0\n",
              "SO2          0\n",
              "NO2          0\n",
              "CO           0\n",
              "O3           0\n",
              "TEMP         0\n",
              "PRES         0\n",
              "DEWP         0\n",
              "RAIN         0\n",
              "wd         483\n",
              "WSPM         0\n",
              "station      0\n",
              "dtype: int64"
            ],
            "text/html": [
              "<div>\n",
              "<style scoped>\n",
              "    .dataframe tbody tr th:only-of-type {\n",
              "        vertical-align: middle;\n",
              "    }\n",
              "\n",
              "    .dataframe tbody tr th {\n",
              "        vertical-align: top;\n",
              "    }\n",
              "\n",
              "    .dataframe thead th {\n",
              "        text-align: right;\n",
              "    }\n",
              "</style>\n",
              "<table border=\"1\" class=\"dataframe\">\n",
              "  <thead>\n",
              "    <tr style=\"text-align: right;\">\n",
              "      <th></th>\n",
              "      <th>0</th>\n",
              "    </tr>\n",
              "  </thead>\n",
              "  <tbody>\n",
              "    <tr>\n",
              "      <th>No</th>\n",
              "      <td>0</td>\n",
              "    </tr>\n",
              "    <tr>\n",
              "      <th>year</th>\n",
              "      <td>0</td>\n",
              "    </tr>\n",
              "    <tr>\n",
              "      <th>month</th>\n",
              "      <td>0</td>\n",
              "    </tr>\n",
              "    <tr>\n",
              "      <th>day</th>\n",
              "      <td>0</td>\n",
              "    </tr>\n",
              "    <tr>\n",
              "      <th>hour</th>\n",
              "      <td>0</td>\n",
              "    </tr>\n",
              "    <tr>\n",
              "      <th>PM2.5</th>\n",
              "      <td>0</td>\n",
              "    </tr>\n",
              "    <tr>\n",
              "      <th>PM10</th>\n",
              "      <td>0</td>\n",
              "    </tr>\n",
              "    <tr>\n",
              "      <th>SO2</th>\n",
              "      <td>0</td>\n",
              "    </tr>\n",
              "    <tr>\n",
              "      <th>NO2</th>\n",
              "      <td>0</td>\n",
              "    </tr>\n",
              "    <tr>\n",
              "      <th>CO</th>\n",
              "      <td>0</td>\n",
              "    </tr>\n",
              "    <tr>\n",
              "      <th>O3</th>\n",
              "      <td>0</td>\n",
              "    </tr>\n",
              "    <tr>\n",
              "      <th>TEMP</th>\n",
              "      <td>0</td>\n",
              "    </tr>\n",
              "    <tr>\n",
              "      <th>PRES</th>\n",
              "      <td>0</td>\n",
              "    </tr>\n",
              "    <tr>\n",
              "      <th>DEWP</th>\n",
              "      <td>0</td>\n",
              "    </tr>\n",
              "    <tr>\n",
              "      <th>RAIN</th>\n",
              "      <td>0</td>\n",
              "    </tr>\n",
              "    <tr>\n",
              "      <th>wd</th>\n",
              "      <td>483</td>\n",
              "    </tr>\n",
              "    <tr>\n",
              "      <th>WSPM</th>\n",
              "      <td>0</td>\n",
              "    </tr>\n",
              "    <tr>\n",
              "      <th>station</th>\n",
              "      <td>0</td>\n",
              "    </tr>\n",
              "  </tbody>\n",
              "</table>\n",
              "</div><br><label><b>dtype:</b> int64</label>"
            ]
          },
          "metadata": {},
          "execution_count": 165
        }
      ]
    },
    {
      "cell_type": "markdown",
      "source": [
        "Mengecek missing value tadi yang sudah di isi dengan nilai mean pada dataframe Tiantan"
      ],
      "metadata": {
        "id": "jH7cKssIZYSn"
      }
    },
    {
      "cell_type": "code",
      "source": [
        "df_Tiantan_fill.isna().sum()"
      ],
      "metadata": {
        "collapsed": true,
        "id": "GHhXMZYBXHg5",
        "outputId": "7be09fad-f1b0-4fd4-c72e-80345358f067",
        "colab": {
          "base_uri": "https://localhost:8080/",
          "height": 648
        }
      },
      "execution_count": 166,
      "outputs": [
        {
          "output_type": "execute_result",
          "data": {
            "text/plain": [
              "No          0\n",
              "year        0\n",
              "month       0\n",
              "day         0\n",
              "hour        0\n",
              "PM2.5       0\n",
              "PM10        0\n",
              "SO2         0\n",
              "NO2         0\n",
              "CO          0\n",
              "O3          0\n",
              "TEMP        0\n",
              "PRES        0\n",
              "DEWP        0\n",
              "RAIN        0\n",
              "wd         78\n",
              "WSPM        0\n",
              "station     0\n",
              "dtype: int64"
            ],
            "text/html": [
              "<div>\n",
              "<style scoped>\n",
              "    .dataframe tbody tr th:only-of-type {\n",
              "        vertical-align: middle;\n",
              "    }\n",
              "\n",
              "    .dataframe tbody tr th {\n",
              "        vertical-align: top;\n",
              "    }\n",
              "\n",
              "    .dataframe thead th {\n",
              "        text-align: right;\n",
              "    }\n",
              "</style>\n",
              "<table border=\"1\" class=\"dataframe\">\n",
              "  <thead>\n",
              "    <tr style=\"text-align: right;\">\n",
              "      <th></th>\n",
              "      <th>0</th>\n",
              "    </tr>\n",
              "  </thead>\n",
              "  <tbody>\n",
              "    <tr>\n",
              "      <th>No</th>\n",
              "      <td>0</td>\n",
              "    </tr>\n",
              "    <tr>\n",
              "      <th>year</th>\n",
              "      <td>0</td>\n",
              "    </tr>\n",
              "    <tr>\n",
              "      <th>month</th>\n",
              "      <td>0</td>\n",
              "    </tr>\n",
              "    <tr>\n",
              "      <th>day</th>\n",
              "      <td>0</td>\n",
              "    </tr>\n",
              "    <tr>\n",
              "      <th>hour</th>\n",
              "      <td>0</td>\n",
              "    </tr>\n",
              "    <tr>\n",
              "      <th>PM2.5</th>\n",
              "      <td>0</td>\n",
              "    </tr>\n",
              "    <tr>\n",
              "      <th>PM10</th>\n",
              "      <td>0</td>\n",
              "    </tr>\n",
              "    <tr>\n",
              "      <th>SO2</th>\n",
              "      <td>0</td>\n",
              "    </tr>\n",
              "    <tr>\n",
              "      <th>NO2</th>\n",
              "      <td>0</td>\n",
              "    </tr>\n",
              "    <tr>\n",
              "      <th>CO</th>\n",
              "      <td>0</td>\n",
              "    </tr>\n",
              "    <tr>\n",
              "      <th>O3</th>\n",
              "      <td>0</td>\n",
              "    </tr>\n",
              "    <tr>\n",
              "      <th>TEMP</th>\n",
              "      <td>0</td>\n",
              "    </tr>\n",
              "    <tr>\n",
              "      <th>PRES</th>\n",
              "      <td>0</td>\n",
              "    </tr>\n",
              "    <tr>\n",
              "      <th>DEWP</th>\n",
              "      <td>0</td>\n",
              "    </tr>\n",
              "    <tr>\n",
              "      <th>RAIN</th>\n",
              "      <td>0</td>\n",
              "    </tr>\n",
              "    <tr>\n",
              "      <th>wd</th>\n",
              "      <td>78</td>\n",
              "    </tr>\n",
              "    <tr>\n",
              "      <th>WSPM</th>\n",
              "      <td>0</td>\n",
              "    </tr>\n",
              "    <tr>\n",
              "      <th>station</th>\n",
              "      <td>0</td>\n",
              "    </tr>\n",
              "  </tbody>\n",
              "</table>\n",
              "</div><br><label><b>dtype:</b> int64</label>"
            ]
          },
          "metadata": {},
          "execution_count": 166
        }
      ]
    },
    {
      "cell_type": "markdown",
      "source": [
        "Mengecek missing value tadi yang sudah di isi dengan nilai mean pada dataframe Wanliu"
      ],
      "metadata": {
        "id": "dYY_q_AsZadn"
      }
    },
    {
      "cell_type": "code",
      "source": [
        "df_Wanliu_fill.isna().sum()"
      ],
      "metadata": {
        "collapsed": true,
        "id": "aUYheUgqXIzf",
        "outputId": "13641fec-ab35-4079-d4ab-41c3c7b7a730",
        "colab": {
          "base_uri": "https://localhost:8080/",
          "height": 648
        }
      },
      "execution_count": 167,
      "outputs": [
        {
          "output_type": "execute_result",
          "data": {
            "text/plain": [
              "No           0\n",
              "year         0\n",
              "month        0\n",
              "day          0\n",
              "hour         0\n",
              "PM2.5        0\n",
              "PM10         0\n",
              "SO2          0\n",
              "NO2          0\n",
              "CO           0\n",
              "O3           0\n",
              "TEMP         0\n",
              "PRES         0\n",
              "DEWP         0\n",
              "RAIN         0\n",
              "wd         123\n",
              "WSPM         0\n",
              "station      0\n",
              "dtype: int64"
            ],
            "text/html": [
              "<div>\n",
              "<style scoped>\n",
              "    .dataframe tbody tr th:only-of-type {\n",
              "        vertical-align: middle;\n",
              "    }\n",
              "\n",
              "    .dataframe tbody tr th {\n",
              "        vertical-align: top;\n",
              "    }\n",
              "\n",
              "    .dataframe thead th {\n",
              "        text-align: right;\n",
              "    }\n",
              "</style>\n",
              "<table border=\"1\" class=\"dataframe\">\n",
              "  <thead>\n",
              "    <tr style=\"text-align: right;\">\n",
              "      <th></th>\n",
              "      <th>0</th>\n",
              "    </tr>\n",
              "  </thead>\n",
              "  <tbody>\n",
              "    <tr>\n",
              "      <th>No</th>\n",
              "      <td>0</td>\n",
              "    </tr>\n",
              "    <tr>\n",
              "      <th>year</th>\n",
              "      <td>0</td>\n",
              "    </tr>\n",
              "    <tr>\n",
              "      <th>month</th>\n",
              "      <td>0</td>\n",
              "    </tr>\n",
              "    <tr>\n",
              "      <th>day</th>\n",
              "      <td>0</td>\n",
              "    </tr>\n",
              "    <tr>\n",
              "      <th>hour</th>\n",
              "      <td>0</td>\n",
              "    </tr>\n",
              "    <tr>\n",
              "      <th>PM2.5</th>\n",
              "      <td>0</td>\n",
              "    </tr>\n",
              "    <tr>\n",
              "      <th>PM10</th>\n",
              "      <td>0</td>\n",
              "    </tr>\n",
              "    <tr>\n",
              "      <th>SO2</th>\n",
              "      <td>0</td>\n",
              "    </tr>\n",
              "    <tr>\n",
              "      <th>NO2</th>\n",
              "      <td>0</td>\n",
              "    </tr>\n",
              "    <tr>\n",
              "      <th>CO</th>\n",
              "      <td>0</td>\n",
              "    </tr>\n",
              "    <tr>\n",
              "      <th>O3</th>\n",
              "      <td>0</td>\n",
              "    </tr>\n",
              "    <tr>\n",
              "      <th>TEMP</th>\n",
              "      <td>0</td>\n",
              "    </tr>\n",
              "    <tr>\n",
              "      <th>PRES</th>\n",
              "      <td>0</td>\n",
              "    </tr>\n",
              "    <tr>\n",
              "      <th>DEWP</th>\n",
              "      <td>0</td>\n",
              "    </tr>\n",
              "    <tr>\n",
              "      <th>RAIN</th>\n",
              "      <td>0</td>\n",
              "    </tr>\n",
              "    <tr>\n",
              "      <th>wd</th>\n",
              "      <td>123</td>\n",
              "    </tr>\n",
              "    <tr>\n",
              "      <th>WSPM</th>\n",
              "      <td>0</td>\n",
              "    </tr>\n",
              "    <tr>\n",
              "      <th>station</th>\n",
              "      <td>0</td>\n",
              "    </tr>\n",
              "  </tbody>\n",
              "</table>\n",
              "</div><br><label><b>dtype:</b> int64</label>"
            ]
          },
          "metadata": {},
          "execution_count": 167
        }
      ]
    },
    {
      "cell_type": "markdown",
      "source": [
        "Melakukan drop pada missing value yang tersisa pada dataframe Shunyi"
      ],
      "metadata": {
        "id": "TRZz7m8zZfOS"
      }
    },
    {
      "cell_type": "code",
      "source": [
        "dfShunyi = df_Shunyi_fill.dropna()"
      ],
      "metadata": {
        "id": "-BFiYH1AXQF3"
      },
      "execution_count": 168,
      "outputs": []
    },
    {
      "cell_type": "markdown",
      "source": [
        "Melakukan drop pada missing value yang tersisa pada dataframe Tiantan"
      ],
      "metadata": {
        "id": "6xHiixM9ZsbI"
      }
    },
    {
      "cell_type": "code",
      "source": [
        "dfTiantan = df_Tiantan_fill.dropna()"
      ],
      "metadata": {
        "id": "itxx8GqyY4Oy"
      },
      "execution_count": 169,
      "outputs": []
    },
    {
      "cell_type": "markdown",
      "source": [
        "Melakukan drop pada missing value yang tersisa pada dataframe Wanliu"
      ],
      "metadata": {
        "id": "4E8kiW3BZuLc"
      }
    },
    {
      "cell_type": "code",
      "source": [
        "dfWanliu = df_Wanliu_fill.dropna()"
      ],
      "metadata": {
        "id": "8xnnTqK6Y6M8"
      },
      "execution_count": 170,
      "outputs": []
    },
    {
      "cell_type": "markdown",
      "source": [
        "Menambah kolom datetime berdasarkan kolom year,month,day,hour pada dataframe Shunyi"
      ],
      "metadata": {
        "id": "OIJv-WmtaZVZ"
      }
    },
    {
      "cell_type": "code",
      "source": [
        "dfShunyi.loc[:, 'datetime'] = pd.to_datetime(dfShunyi[['year', 'month', 'day', 'hour']])"
      ],
      "metadata": {
        "colab": {
          "base_uri": "https://localhost:8080/"
        },
        "id": "mzyR2EfqNNtP",
        "outputId": "3aa73e8c-5ef7-4ddc-f800-8247aa7413ff"
      },
      "execution_count": 171,
      "outputs": [
        {
          "output_type": "stream",
          "name": "stderr",
          "text": [
            "<ipython-input-171-5ff840793aff>:1: SettingWithCopyWarning: \n",
            "A value is trying to be set on a copy of a slice from a DataFrame.\n",
            "Try using .loc[row_indexer,col_indexer] = value instead\n",
            "\n",
            "See the caveats in the documentation: https://pandas.pydata.org/pandas-docs/stable/user_guide/indexing.html#returning-a-view-versus-a-copy\n",
            "  dfShunyi.loc[:, 'datetime'] = pd.to_datetime(dfShunyi[['year', 'month', 'day', 'hour']])\n"
          ]
        }
      ]
    },
    {
      "cell_type": "markdown",
      "source": [
        "Menambah kolom datetime berdasarkan kolom year,month,day,hour pada dataframe Tiantan"
      ],
      "metadata": {
        "id": "Zf09FDSpavJM"
      }
    },
    {
      "cell_type": "code",
      "source": [
        "dfTiantan.loc[:, 'datetime'] = pd.to_datetime(dfTiantan[['year', 'month', 'day', 'hour']])"
      ],
      "metadata": {
        "colab": {
          "base_uri": "https://localhost:8080/"
        },
        "id": "fOTLua39ao3f",
        "outputId": "4ce3b0c8-7943-424e-cf7a-e05e8673d4fa"
      },
      "execution_count": 172,
      "outputs": [
        {
          "output_type": "stream",
          "name": "stderr",
          "text": [
            "<ipython-input-172-3f82bea8e809>:1: SettingWithCopyWarning: \n",
            "A value is trying to be set on a copy of a slice from a DataFrame.\n",
            "Try using .loc[row_indexer,col_indexer] = value instead\n",
            "\n",
            "See the caveats in the documentation: https://pandas.pydata.org/pandas-docs/stable/user_guide/indexing.html#returning-a-view-versus-a-copy\n",
            "  dfTiantan.loc[:, 'datetime'] = pd.to_datetime(dfTiantan[['year', 'month', 'day', 'hour']])\n"
          ]
        }
      ]
    },
    {
      "cell_type": "markdown",
      "source": [
        "Menambah kolom datetime berdasarkan kolom year,month,day,hour pada dataframe Wanliu"
      ],
      "metadata": {
        "id": "Hczmhu1Za0De"
      }
    },
    {
      "cell_type": "code",
      "source": [
        "dfWanliu.loc[:, 'datetime'] = pd.to_datetime(dfWanliu[['year', 'month', 'day', 'hour']])"
      ],
      "metadata": {
        "colab": {
          "base_uri": "https://localhost:8080/"
        },
        "id": "75mo5sZqaq2H",
        "outputId": "d9663a0c-d5b5-4e79-b474-d56d864d6d23"
      },
      "execution_count": 173,
      "outputs": [
        {
          "output_type": "stream",
          "name": "stderr",
          "text": [
            "<ipython-input-173-9d5366442a44>:1: SettingWithCopyWarning: \n",
            "A value is trying to be set on a copy of a slice from a DataFrame.\n",
            "Try using .loc[row_indexer,col_indexer] = value instead\n",
            "\n",
            "See the caveats in the documentation: https://pandas.pydata.org/pandas-docs/stable/user_guide/indexing.html#returning-a-view-versus-a-copy\n",
            "  dfWanliu.loc[:, 'datetime'] = pd.to_datetime(dfWanliu[['year', 'month', 'day', 'hour']])\n"
          ]
        }
      ]
    },
    {
      "cell_type": "markdown",
      "source": [
        "Melakukan set index pada dataframe Shunyi"
      ],
      "metadata": {
        "id": "6wssAUOja49g"
      }
    },
    {
      "cell_type": "code",
      "source": [
        "dfShunyi.set_index('datetime', inplace=True)"
      ],
      "metadata": {
        "id": "gUqjOrqkJ-wQ"
      },
      "execution_count": 174,
      "outputs": []
    },
    {
      "cell_type": "markdown",
      "source": [
        "Melakukan set index pada dataframe Tiantan"
      ],
      "metadata": {
        "id": "uVWWhI1PbAeG"
      }
    },
    {
      "cell_type": "code",
      "source": [
        "dfTiantan.set_index('datetime', inplace=True)"
      ],
      "metadata": {
        "id": "qj02zIhrbHNj"
      },
      "execution_count": 175,
      "outputs": []
    },
    {
      "cell_type": "markdown",
      "source": [
        "Melakukan set index pada dataframe Wanliu"
      ],
      "metadata": {
        "id": "zpxA1KwUbPav"
      }
    },
    {
      "cell_type": "code",
      "source": [
        "dfWanliu.set_index('datetime', inplace=True)"
      ],
      "metadata": {
        "id": "-kGxr7hbbKAE"
      },
      "execution_count": 176,
      "outputs": []
    },
    {
      "cell_type": "markdown",
      "source": [
        "Melakukan drop pada kolom wd,station pada dataframe Shunyi"
      ],
      "metadata": {
        "id": "SxfLREQzbejk"
      }
    },
    {
      "cell_type": "code",
      "source": [
        "dfShunyi = dfShunyi.drop(columns=['wd','station'])"
      ],
      "metadata": {
        "id": "_-ycANy1Xgli",
        "collapsed": true
      },
      "execution_count": 177,
      "outputs": []
    },
    {
      "cell_type": "markdown",
      "source": [
        "Melakukan drop pada kolom wd,station pada dataframe Tiantan"
      ],
      "metadata": {
        "id": "WeVe3YPBbrEk"
      }
    },
    {
      "cell_type": "code",
      "source": [
        "dfTiantan = dfTiantan.drop(columns=['wd','station'])"
      ],
      "metadata": {
        "id": "LyqHcqBgbcCI"
      },
      "execution_count": 178,
      "outputs": []
    },
    {
      "cell_type": "markdown",
      "source": [
        "Melakukan drop pada kolom wd,station pada dataframe Wanliu"
      ],
      "metadata": {
        "id": "9dxEasNhbskX"
      }
    },
    {
      "cell_type": "code",
      "source": [
        "dfWanliu = dfWanliu.drop(columns=['wd','station'])"
      ],
      "metadata": {
        "id": "XaKiVJHGbdX4"
      },
      "execution_count": 179,
      "outputs": []
    },
    {
      "cell_type": "markdown",
      "source": [
        "Melakukan pengecek pada dataframe Shunyi yang sudah dibersihkan"
      ],
      "metadata": {
        "id": "1U0oTJuBb06T"
      }
    },
    {
      "cell_type": "code",
      "source": [
        "dfShunyi.info()"
      ],
      "metadata": {
        "colab": {
          "base_uri": "https://localhost:8080/"
        },
        "id": "a4Z0MjAZI1iw",
        "outputId": "416e92e7-4fae-4c51-f0fc-079605de27bb"
      },
      "execution_count": 180,
      "outputs": [
        {
          "output_type": "stream",
          "name": "stdout",
          "text": [
            "<class 'pandas.core.frame.DataFrame'>\n",
            "DatetimeIndex: 34581 entries, 2013-03-01 00:00:00 to 2017-02-28 23:00:00\n",
            "Data columns (total 16 columns):\n",
            " #   Column  Non-Null Count  Dtype  \n",
            "---  ------  --------------  -----  \n",
            " 0   No      34581 non-null  int64  \n",
            " 1   year    34581 non-null  int64  \n",
            " 2   month   34581 non-null  int64  \n",
            " 3   day     34581 non-null  int64  \n",
            " 4   hour    34581 non-null  int64  \n",
            " 5   PM2.5   34581 non-null  float64\n",
            " 6   PM10    34581 non-null  float64\n",
            " 7   SO2     34581 non-null  float64\n",
            " 8   NO2     34581 non-null  float64\n",
            " 9   CO      34581 non-null  float64\n",
            " 10  O3      34581 non-null  float64\n",
            " 11  TEMP    34581 non-null  float64\n",
            " 12  PRES    34581 non-null  float64\n",
            " 13  DEWP    34581 non-null  float64\n",
            " 14  RAIN    34581 non-null  float64\n",
            " 15  WSPM    34581 non-null  float64\n",
            "dtypes: float64(11), int64(5)\n",
            "memory usage: 4.5 MB\n"
          ]
        }
      ]
    },
    {
      "cell_type": "markdown",
      "source": [
        "Melakukan pengecek pada dataframe Tiantan yang sudah dibersihkan"
      ],
      "metadata": {
        "id": "GINk8i5HcBLL"
      }
    },
    {
      "cell_type": "code",
      "source": [
        "dfTiantan.info()"
      ],
      "metadata": {
        "colab": {
          "base_uri": "https://localhost:8080/"
        },
        "id": "PfvZ3HYnbxZI",
        "outputId": "5cf427be-675e-47a1-ce85-618b8d6e96a1"
      },
      "execution_count": 181,
      "outputs": [
        {
          "output_type": "stream",
          "name": "stdout",
          "text": [
            "<class 'pandas.core.frame.DataFrame'>\n",
            "DatetimeIndex: 34986 entries, 2013-03-01 00:00:00 to 2017-02-28 23:00:00\n",
            "Data columns (total 16 columns):\n",
            " #   Column  Non-Null Count  Dtype  \n",
            "---  ------  --------------  -----  \n",
            " 0   No      34986 non-null  int64  \n",
            " 1   year    34986 non-null  int64  \n",
            " 2   month   34986 non-null  int64  \n",
            " 3   day     34986 non-null  int64  \n",
            " 4   hour    34986 non-null  int64  \n",
            " 5   PM2.5   34986 non-null  float64\n",
            " 6   PM10    34986 non-null  float64\n",
            " 7   SO2     34986 non-null  float64\n",
            " 8   NO2     34986 non-null  float64\n",
            " 9   CO      34986 non-null  float64\n",
            " 10  O3      34986 non-null  float64\n",
            " 11  TEMP    34986 non-null  float64\n",
            " 12  PRES    34986 non-null  float64\n",
            " 13  DEWP    34986 non-null  float64\n",
            " 14  RAIN    34986 non-null  float64\n",
            " 15  WSPM    34986 non-null  float64\n",
            "dtypes: float64(11), int64(5)\n",
            "memory usage: 4.5 MB\n"
          ]
        }
      ]
    },
    {
      "cell_type": "markdown",
      "source": [
        "Melakukan pengecek pada dataframe Wanliu yang sudah dibersihkan"
      ],
      "metadata": {
        "id": "_cHqc66scDkE"
      }
    },
    {
      "cell_type": "code",
      "source": [
        "dfWanliu.info()"
      ],
      "metadata": {
        "colab": {
          "base_uri": "https://localhost:8080/"
        },
        "id": "VjEA0mYFbypp",
        "outputId": "d6499392-81fd-4726-eab3-357dd0e33490"
      },
      "execution_count": 182,
      "outputs": [
        {
          "output_type": "stream",
          "name": "stdout",
          "text": [
            "<class 'pandas.core.frame.DataFrame'>\n",
            "DatetimeIndex: 34941 entries, 2013-03-01 00:00:00 to 2017-02-28 23:00:00\n",
            "Data columns (total 16 columns):\n",
            " #   Column  Non-Null Count  Dtype  \n",
            "---  ------  --------------  -----  \n",
            " 0   No      34941 non-null  int64  \n",
            " 1   year    34941 non-null  int64  \n",
            " 2   month   34941 non-null  int64  \n",
            " 3   day     34941 non-null  int64  \n",
            " 4   hour    34941 non-null  int64  \n",
            " 5   PM2.5   34941 non-null  float64\n",
            " 6   PM10    34941 non-null  float64\n",
            " 7   SO2     34941 non-null  float64\n",
            " 8   NO2     34941 non-null  float64\n",
            " 9   CO      34941 non-null  float64\n",
            " 10  O3      34941 non-null  float64\n",
            " 11  TEMP    34941 non-null  float64\n",
            " 12  PRES    34941 non-null  float64\n",
            " 13  DEWP    34941 non-null  float64\n",
            " 14  RAIN    34941 non-null  float64\n",
            " 15  WSPM    34941 non-null  float64\n",
            "dtypes: float64(11), int64(5)\n",
            "memory usage: 4.5 MB\n"
          ]
        }
      ]
    },
    {
      "cell_type": "markdown",
      "source": [
        "**Insight:**\n",
        "- Mengganti missing value dengan mean() karena adanya outlier di data, sehingga dampaknya terhadap hasil tidak terlalu signifikan.\n",
        "- Pada kolom wd(wind direction) masih terdapat missing value lalu melakukan cleaning data menggunakan metode drop"
      ],
      "metadata": {
        "id": "Q_5ejIqckiSP"
      }
    },
    {
      "cell_type": "markdown",
      "metadata": {
        "id": "gp-Y6wU38DC1"
      },
      "source": [
        "## Exploratory Data Analysis (EDA)"
      ]
    },
    {
      "cell_type": "markdown",
      "metadata": {
        "id": "MW7WF2kr8DC1"
      },
      "source": [
        "### Explore ..."
      ]
    },
    {
      "cell_type": "markdown",
      "source": [
        "Mendefinisikan variable jenis polusi"
      ],
      "metadata": {
        "id": "-dZ9o4Lu3YLk"
      }
    },
    {
      "cell_type": "code",
      "source": [
        "pollutants = ['PM2.5', 'PM10', 'SO2', 'NO2', 'CO', 'O3']"
      ],
      "metadata": {
        "id": "qFUaEHtM0bD5"
      },
      "execution_count": 183,
      "outputs": []
    },
    {
      "cell_type": "markdown",
      "source": [
        "Langkah berikutnya menghitung rata-rata tahunan untuk setiap polutan dan kota"
      ],
      "metadata": {
        "id": "T10RH06k0h5s"
      }
    },
    {
      "cell_type": "code",
      "source": [
        "#fungsi untuk mengumpulkan data berdasarkan tahun dan menghitung rata-rata setiap polutan\n",
        "def aggregate_by_year(data, city_name):\n",
        "    annual_avg = data.groupby('year')[pollutants].mean().reset_index()\n",
        "    annual_avg['city'] = city_name\n",
        "    return annual_avg\n",
        "\n",
        "# Data agregat untuk setiap kota\n",
        "shunyi_annual_avg = aggregate_by_year(dfShunyi, 'Shunyi')\n",
        "tiantan_annual_avg = aggregate_by_year(dfTiantan, 'Tiantan')\n",
        "wanliu_annual_avg = aggregate_by_year(dfWanliu, 'Wanliu')\n",
        "\n",
        "# Menggabungkan data untuk semua kota ke dalam satu kerangka data\n",
        "combined_data = pd.concat([shunyi_annual_avg, tiantan_annual_avg, wanliu_annual_avg], ignore_index=True)\n",
        "\n",
        "# Menampilkan statistik ringkasan\n",
        "print(\"Summary statistics for PM2.5:\")\n",
        "print(combined_data.groupby('city')['PM2.5'].describe())\n",
        "\n",
        "print(\"\\nSummary statistics for PM10:\")\n",
        "print(combined_data.groupby('city')['PM10'].describe())"
      ],
      "metadata": {
        "colab": {
          "base_uri": "https://localhost:8080/"
        },
        "id": "73wzmDPgy23U",
        "outputId": "18c5c93d-2c70-48dd-cefa-1d0028e6a455"
      },
      "execution_count": 184,
      "outputs": [
        {
          "output_type": "stream",
          "name": "stdout",
          "text": [
            "Summary statistics for PM2.5:\n",
            "         count       mean       std        min        25%        50%  \\\n",
            "city                                                                   \n",
            "Shunyi     5.0  81.157260  7.994671  70.879106  77.238840  80.920099   \n",
            "Tiantan    5.0  84.845434  8.665432  74.019648  82.585309  83.197686   \n",
            "Wanliu     5.0  85.424412  9.304884  71.524239  80.511216  89.419873   \n",
            "\n",
            "               75%        max  \n",
            "city                           \n",
            "Shunyi   84.472716  92.275537  \n",
            "Tiantan  86.433097  97.991432  \n",
            "Wanliu   91.564465  94.102269  \n",
            "\n",
            "Summary statistics for PM10:\n",
            "         count        mean        std        min         25%         50%  \\\n",
            "city                                                                       \n",
            "Shunyi     5.0   99.022386   9.241085  86.398621   94.623847   99.362211   \n",
            "Tiantan    5.0  109.561891  10.684691  97.253897  103.045869  108.253070   \n",
            "Wanliu     5.0  110.578711  13.333145  92.899709  106.723858  110.902524   \n",
            "\n",
            "                75%         max  \n",
            "city                             \n",
            "Shunyi   103.927349  110.799902  \n",
            "Tiantan  114.227999  125.028619  \n",
            "Wanliu   112.277379  130.090084  \n"
          ]
        }
      ]
    },
    {
      "cell_type": "markdown",
      "source": [
        "Mendefinisikan Fungsi untuk merubah bulan kemusim"
      ],
      "metadata": {
        "id": "IwCqpit2c6SA"
      }
    },
    {
      "cell_type": "code",
      "source": [
        "\n",
        "def assign_season(month):\n",
        "    if month in [12, 1, 2]:\n",
        "        return 'Winter'\n",
        "    elif month in [3, 4, 5]:\n",
        "        return 'Spring'\n",
        "    elif month in [6, 7, 8]:\n",
        "        return 'Summer'\n",
        "    else:\n",
        "        return 'Fall'"
      ],
      "metadata": {
        "id": "JJc7_y3J_xwU"
      },
      "execution_count": 185,
      "outputs": []
    },
    {
      "cell_type": "markdown",
      "source": [
        "Melakukan perubahan bulan ke musim berdasarkan metode apply dengan parameter assign_season pada dataframe Shunyi"
      ],
      "metadata": {
        "id": "6wjoEYlNdCwL"
      }
    },
    {
      "cell_type": "code",
      "source": [
        "dfShunyi['season'] = dfShunyi['month'].apply(assign_season)"
      ],
      "metadata": {
        "id": "RiewqhmjAACu"
      },
      "execution_count": 186,
      "outputs": []
    },
    {
      "cell_type": "markdown",
      "source": [
        "Melakukan perubahan bulan ke musim berdasarkan metode apply dengan parameter assign_season pada dataframe Tiantan"
      ],
      "metadata": {
        "id": "D65gsDx-daQI"
      }
    },
    {
      "cell_type": "code",
      "source": [
        "dfTiantan['season'] = dfTiantan['month'].apply(assign_season)"
      ],
      "metadata": {
        "id": "BbUFVmhqdfBK"
      },
      "execution_count": 187,
      "outputs": []
    },
    {
      "cell_type": "markdown",
      "source": [
        "Melakukan perubahan bulan ke musim berdasarkan metode apply dengan parameter assign_season pada dataframe Wanliu"
      ],
      "metadata": {
        "id": "63f6rhCDdcoe"
      }
    },
    {
      "cell_type": "code",
      "source": [
        "dfWanliu['season'] = dfWanliu['month'].apply(assign_season)"
      ],
      "metadata": {
        "id": "r0R4k-xMdgSb"
      },
      "execution_count": 188,
      "outputs": []
    },
    {
      "cell_type": "markdown",
      "source": [
        "Kelompokkan berdasarkan musim dan hitung nilai polutan rata-rata untuk setiap dataframe Shunyi"
      ],
      "metadata": {
        "id": "js4Vws8jeszE"
      }
    },
    {
      "cell_type": "code",
      "source": [
        "seasonal_avg_shunyi = dfShunyi.groupby('season')[pollutants].mean()"
      ],
      "metadata": {
        "id": "eMCxD04iepth"
      },
      "execution_count": 189,
      "outputs": []
    },
    {
      "cell_type": "markdown",
      "source": [
        "Kelompokkan berdasarkan musim dan hitung nilai polutan rata-rata untuk setiap dataframe Tiantan"
      ],
      "metadata": {
        "id": "o-UaODriexiJ"
      }
    },
    {
      "cell_type": "code",
      "source": [
        "seasonal_avg_tiantan = dfTiantan.groupby('season')[pollutants].mean()"
      ],
      "metadata": {
        "id": "90XXhKI2fAO4"
      },
      "execution_count": 190,
      "outputs": []
    },
    {
      "cell_type": "markdown",
      "source": [
        "Kelompokkan berdasarkan musim dan hitung nilai polutan rata-rata untuk setiap dataframe Wanliu"
      ],
      "metadata": {
        "id": "rUWJavc0ez8O"
      }
    },
    {
      "cell_type": "code",
      "source": [
        "seasonal_avg_wanliu = dfWanliu.groupby('season')[pollutants].mean()"
      ],
      "metadata": {
        "id": "PIbf0Rg4fFga"
      },
      "execution_count": 191,
      "outputs": []
    },
    {
      "cell_type": "markdown",
      "source": [
        "Gabungkan hasil untuk semua stasiun"
      ],
      "metadata": {
        "id": "wzxyPHz0fK-E"
      }
    },
    {
      "cell_type": "code",
      "source": [
        "\n",
        "seasonal_avg_combined = pd.concat([seasonal_avg_shunyi, seasonal_avg_tiantan, seasonal_avg_wanliu],\n",
        "                                  keys=['Shunyi', 'Tiantan', 'Wanliu'], names=['Station', 'Season'])\n",
        "\n",
        "print(seasonal_avg_combined)"
      ],
      "metadata": {
        "colab": {
          "base_uri": "https://localhost:8080/"
        },
        "collapsed": true,
        "id": "kuOtcspiBMc2",
        "outputId": "86267694-c813-4a73-c73e-be975f40b21e"
      },
      "execution_count": 192,
      "outputs": [
        {
          "output_type": "stream",
          "name": "stdout",
          "text": [
            "                     PM2.5        PM10        SO2        NO2           CO  \\\n",
            "Station Season                                                              \n",
            "Shunyi  Fall     79.126805   97.589574   8.588976  46.769016  1166.035060   \n",
            "        Spring   78.160736  112.486539  16.747632  46.548317   970.846924   \n",
            "        Summer   66.368215   77.934851   4.861493  29.552782   916.849498   \n",
            "        Winter   92.774100  105.050491  24.270488  51.567423  1674.331252   \n",
            "Tiantan Fall     84.004974  104.415716   8.815519  58.313313  1318.693831   \n",
            "        Spring   76.092492  115.004774  18.718703  49.699608  1043.404152   \n",
            "        Summer   68.626292   84.925938   6.855412  39.995654  1003.721647   \n",
            "        Winter  100.306982  121.418154  23.266931  64.936134  1837.231642   \n",
            "Wanliu  Fall     85.937665  109.747209  11.832613  65.760298  1299.537864   \n",
            "        Spring   79.465059  125.825547  21.134951  70.953616  1047.709154   \n",
            "        Summer   68.799249   86.233075   8.494876  49.560207   910.030082   \n",
            "        Winter   99.679483  120.263127  32.357230  74.875804  2029.271271   \n",
            "\n",
            "                       O3  \n",
            "Station Season             \n",
            "Shunyi  Fall    33.666861  \n",
            "        Spring  65.731874  \n",
            "        Summer  89.541835  \n",
            "        Winter  32.188777  \n",
            "Tiantan Fall    32.598049  \n",
            "        Spring  72.345947  \n",
            "        Summer  89.072907  \n",
            "        Winter  29.273022  \n",
            "Wanliu  Fall    29.797674  \n",
            "        Spring  58.609926  \n",
            "        Summer  81.430501  \n",
            "        Winter  25.200631  \n"
          ]
        }
      ]
    },
    {
      "cell_type": "markdown",
      "source": [
        "**Insight:**\n",
        "- Mendapatkan statistik deskriptif seperti nilai rata-rata, minimum, dan maksimum untuk polutan di seluruh kota, yang memberikan wawasan tentang kota mana yang memiliki kualitas udara terburuk."
      ],
      "metadata": {
        "id": "th_Lzl2Fkj9O"
      }
    },
    {
      "cell_type": "markdown",
      "metadata": {
        "id": "zsyZjqak8DC2"
      },
      "source": [
        "## Visualization & Explanatory Analysis"
      ]
    },
    {
      "cell_type": "markdown",
      "metadata": {
        "id": "HZxOiQ6n8DC2"
      },
      "source": [
        "### Pertanyaan 1:"
      ]
    },
    {
      "cell_type": "code",
      "source": [
        "# fungsi untuk memplot diagram batang berdasarkan pilihan pengguna\n",
        "def plot_pollutant_trends(pollutant):\n",
        "    fig, ax = plt.subplots(figsize=(10, 6))\n",
        "    for city in combined_data['city'].unique():\n",
        "        subset = combined_data[combined_data['city'] == city]\n",
        "        ax.bar(subset['year'] + (0.2 * list(combined_data['city'].unique()).index(city)),\n",
        "               subset[pollutant], width=0.2, label=city)\n",
        "\n",
        "    ax.set_xlabel('Year')\n",
        "    ax.set_ylabel(f'{pollutant} Levels (µg/m³)')\n",
        "    ax.set_title(f'{pollutant} Levels from 2013 to 2017')\n",
        "    ax.legend()\n",
        "    plt.show()\n",
        "\n",
        "# contoh visualisasi tren PM2.5\n",
        "plot_pollutant_trends('PM2.5')"
      ],
      "metadata": {
        "colab": {
          "base_uri": "https://localhost:8080/",
          "height": 573
        },
        "id": "ffeX7-Tb1BV5",
        "outputId": "30a6b11e-0b45-4be5-e6bb-ac93ad12bceb"
      },
      "execution_count": 193,
      "outputs": [
        {
          "output_type": "display_data",
          "data": {
            "text/plain": [
              "<Figure size 1000x600 with 1 Axes>"
            ],
            "image/png": "[encoded data removed]"
          },
          "metadata": {}
        }
      ]
    },
    {
      "cell_type": "markdown",
      "metadata": {
        "id": "DgHI7CiU8DC2"
      },
      "source": [
        "### Pertanyaan 2:"
      ]
    },
    {
      "cell_type": "code",
      "execution_count": 194,
      "metadata": {
        "id": "Go0lCsvO8DC2",
        "colab": {
          "base_uri": "https://localhost:8080/",
          "height": 573
        },
        "collapsed": true,
        "outputId": "b431b210-edb4-4b88-a061-1563b585c2c4"
      },
      "outputs": [
        {
          "output_type": "display_data",
          "data": {
            "text/plain": [
              "<Figure size 1000x600 with 1 Axes>"
            ],
            "image/png": "[encoded data removed]"
          },
          "metadata": {}
        }
      ],
      "source": [
        "# Plot seasonal trends for PM2.5 as an example\n",
        "seasonal_avg_combined['PM2.5'].unstack(level=0).plot(kind='bar', figsize=(10,6))\n",
        "plt.title('Seasonal Trends in PM2.5 Levels Across Stations')\n",
        "plt.ylabel('PM2.5 Concentration (µg/m³)')\n",
        "plt.xlabel('Season')\n",
        "plt.xticks(rotation=0)\n",
        "plt.show()"
      ]
    },
    {
      "cell_type": "markdown",
      "source": [
        "**Insight:**\n",
        "- Plot akan menampilkan tingkat polutan yang dipilih (misalnya, PM2.5) selama tahun 2013-2017 untuk setiap kota, sehingga memudahkan untuk membandingkan tingkat polusi di antara kota-kota tersebut.\n",
        "- Plot akan menampilkan tingkat polutan PM2.5 pada setiap musim untuk setiap kota, sehingga memudahkan untuk membandingkan tingkat polusi di antara kota-kota tersebut."
      ],
      "metadata": {
        "id": "_0-36BDLklRg"
      }
    },
    {
      "cell_type": "markdown",
      "source": [
        "## Analisis Lanjutan (Opsional)"
      ],
      "metadata": {
        "id": "9y4VUsmcYNZ5"
      }
    },
    {
      "cell_type": "markdown",
      "metadata": {
        "id": "_WeHlCeX8DC2"
      },
      "source": [
        "## Conclusion"
      ]
    },
    {
      "cell_type": "markdown",
      "metadata": {
        "id": "ZTcyR48Y8DC2"
      },
      "source": [
        "- Pada jenis polusi PM2.5 pada tahun 2017 adalah puncak polusi dari ketiga kota dan kota Tiantan yang memiliki nilai paling tinggi dan kota Wanliu yang terendah\n",
        "- Pada polusi PM2.5 terjadi Lonjakan pada musim salju(winter) dan yang terendah pada musim panas(summer)"
      ]
    }
  ],
  "metadata": {
    "kernelspec": {
      "display_name": "Python 3",
      "language": "python",
      "name": "python3"
    },
    "language_info": {
      "name": "python",
      "version": "3.8.0 (tags/v3.8.0:fa919fd, Oct 14 2019, 19:21:23) [MSC v.1916 32 bit (Intel)]"
    },
    "orig_nbformat": 4,
    "vscode": {
      "interpreter": {
        "hash": "972b3bf27e332e87b5379f2791f6ef9dfc79c71018c370b0d7423235e20fe4d7"
      }
    },
    "colab": {
      "provenance": []
    }
  },
  "nbformat": 4,
  "nbformat_minor": 0
}